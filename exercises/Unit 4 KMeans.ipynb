{
 "cells": [
  {
   "cell_type": "markdown",
   "metadata": {},
   "source": [
    "# Implementing KMeans"
   ]
  },
  {
   "cell_type": "markdown",
   "metadata": {},
   "source": [
    "In this exercise we will be implementing the k-means clustering algorithm. For an introduction on how this algorithm works I recommend you to read:\n",
    "- [K-Means Clustering Algorithm Overview](https://stanford.edu/~cpiech/cs221/handouts/kmeans.html)\n",
    "\n",
    "The following figures illustrate the steps the algorithm follows to find two centroids (taken from the previous link):\n",
    "\n",
    "![K-Means algorithm](http://bigdata.cesga.es/files/kmeansViz.png)"
   ]
  },
  {
   "cell_type": "markdown",
   "metadata": {},
   "source": [
    "## Dependencies"
   ]
  },
  {
   "cell_type": "code",
   "execution_count": 1,
   "metadata": {
    "collapsed": true
   },
   "outputs": [],
   "source": [
    "from __future__ import print_function\n",
    "import math\n",
    "from collections import namedtuple"
   ]
  },
  {
   "cell_type": "markdown",
   "metadata": {},
   "source": [
    "## Parameters"
   ]
  },
  {
   "cell_type": "code",
   "execution_count": 2,
   "metadata": {
    "collapsed": true
   },
   "outputs": [],
   "source": [
    "# Number of clusters to find\n",
    "K = 5\n",
    "# Convergence threshold\n",
    "THRESHOLD = 0.1\n",
    "# Maximum number of iterations\n",
    "MAX_ITERS = 20"
   ]
  },
  {
   "cell_type": "markdown",
   "metadata": {},
   "source": [
    "## Load data"
   ]
  },
  {
   "cell_type": "code",
   "execution_count": 3,
   "metadata": {
    "collapsed": true
   },
   "outputs": [],
   "source": [
    "def parse_coordinates(line):\n",
    "    fields = line.split(',')\n",
    "    return (float(fields[3]), float(fields[4]))"
   ]
  },
  {
   "cell_type": "code",
   "execution_count": 4,
   "metadata": {
    "collapsed": true
   },
   "outputs": [],
   "source": [
    "data = sc.textFile('datasets/locations')"
   ]
  },
  {
   "cell_type": "code",
   "execution_count": 5,
   "metadata": {
    "collapsed": true,
    "scrolled": true
   },
   "outputs": [],
   "source": [
    "points = data.map(parse_coordinates)"
   ]
  },
  {
   "cell_type": "markdown",
   "metadata": {},
   "source": [
    "## Useful functions"
   ]
  },
  {
   "cell_type": "code",
   "execution_count": 6,
   "metadata": {
    "collapsed": true
   },
   "outputs": [],
   "source": [
    "def distance(p1, p2):  \n",
    "    \"Calculate the squared distance between two given points\"\n",
    "    return (p1[0] - p2[0]) ** 2 + (p1[1] - p2[1]) ** 2\n",
    "\n",
    "def closest_centroid(point, centroids):    \n",
    "    \"Calculate the closest centroid to the given point: eg. the cluster this point belongs to\"\n",
    "    distances = [distance(point, c) for c in centroids]\n",
    "    shortest = min(distances)\n",
    "    return distances.index(shortest)\n",
    "\n",
    "def add_points(p1,p2):\n",
    "    \"Add two points of the same cluster in order to calculate later the new centroids\"\n",
    "    return [p1[0] + p2[0], p1[1] + p2[1]]"
   ]
  },
  {
   "cell_type": "markdown",
   "metadata": {},
   "source": [
    "## Iteratively calculate the centroids"
   ]
  },
  {
   "cell_type": "code",
   "execution_count": null,
   "metadata": {},
   "outputs": [],
   "source": [
    "%%time\n",
    "# Initial centroids: we just take K randomly selected points\n",
    "centroids = points.takeSample(False, K, 42)\n",
    "\n",
    "# Just make sure the first iteration is always run\n",
    "variation = THRESHOLD + 1\n",
    "iteration = 0\n",
    "\n",
    "while variation > THRESHOLD  and iteration < MAX_ITERS:\n",
    "    # Map each point to (centroid, (point, 1))\n",
    "    with_centroids = points.map(???)\n",
    "    # For each centroid reduceByKey adding the coordinates of all the points\n",
    "    # and keeping track of the number of points\n",
    "    cluster_stats = with_centroids.reduceByKey(???)\n",
    "    # For each existing centroid find the new centroid location calculating the average of each closest point\n",
    "    new_centroids = cluster_stats.map(???).collect()\n",
    "    # Calculate the variation between old and new centroids\n",
    "    variation = 0\n",
    "    for  (c, point) in new_centroids: variation += distance(centroids[c], point)\n",
    "    print('Variation in iteration {}: {}'.format(iteration, variation))\n",
    "    # Replace old centroids with the new values\n",
    "    for (c, point) in new_centroids: centroids[c] = point\n",
    "    iteration += 1\n",
    "        \n",
    "print('Final centroids: {}'.format(centroids))"
   ]
  }
 ],
 "metadata": {
  "kernelspec": {
   "display_name": "Python 2",
   "language": "python",
   "name": "python2"
  },
  "language_info": {
   "codemirror_mode": {
    "name": "ipython",
    "version": 2
   },
   "file_extension": ".py",
   "mimetype": "text/x-python",
   "name": "python",
   "nbconvert_exporter": "python",
   "pygments_lexer": "ipython2",
   "version": "2.7.15"
  }
 },
 "nbformat": 4,
 "nbformat_minor": 1
}
