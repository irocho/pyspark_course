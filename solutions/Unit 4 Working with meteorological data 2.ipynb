{
 "cells": [
  {
   "cell_type": "markdown",
   "metadata": {},
   "source": [
    "# Working with meteorological data 2"
   ]
  },
  {
   "cell_type": "markdown",
   "metadata": {},
   "source": [
    "We will use meteorological data from Meteogalicia that contains the measurements of a weather station in Santiago during June 2017."
   ]
  },
  {
   "cell_type": "markdown",
   "metadata": {},
   "source": [
    "## Load data"
   ]
  },
  {
   "cell_type": "code",
   "execution_count": 1,
   "metadata": {},
   "outputs": [],
   "source": [
    "rdd = sc.textFile('datasets/meteogalicia.txt')"
   ]
  },
  {
   "cell_type": "markdown",
   "metadata": {},
   "source": [
    "## Extract date and temperature information"
   ]
  },
  {
   "cell_type": "markdown",
   "metadata": {},
   "source": [
    "Filter data from the RDD keeping only \"Temperatura media\" lines and keeping the date information."
   ]
  },
  {
   "cell_type": "code",
   "execution_count": 2,
   "metadata": {},
   "outputs": [],
   "source": [
    "def parse_temperature(line):\n",
    "    (_, date, hour, _, _, _, value) = line.split()\n",
    "    return (date, float(value.replace(',', '.')))"
   ]
  },
  {
   "cell_type": "code",
   "execution_count": 3,
   "metadata": {},
   "outputs": [],
   "source": [
    "temperatures = (rdd.filter(lambda line: 'Temperatura media' in line)\n",
    "                .map(parse_temperature))"
   ]
  },
  {
   "cell_type": "code",
   "execution_count": 4,
   "metadata": {},
   "outputs": [
    {
     "data": {
      "text/plain": [
       "[(u'2017-06-01', 13.82),\n",
       " (u'2017-06-01', 13.71),\n",
       " (u'2017-06-01', 13.61),\n",
       " (u'2017-06-01', 13.52),\n",
       " (u'2017-06-01', 13.33)]"
      ]
     },
     "execution_count": 4,
     "metadata": {},
     "output_type": "execute_result"
    }
   ],
   "source": [
    "temperatures.take(5)"
   ]
  },
  {
   "cell_type": "markdown",
   "metadata": {},
   "source": [
    "## Filter out invalid values"
   ]
  },
  {
   "cell_type": "markdown",
   "metadata": {},
   "source": [
    "As we saw in part 1, a temperature value of -9999 indicates a non existing value, so we filter out these values before performing calculations on the data:"
   ]
  },
  {
   "cell_type": "code",
   "execution_count": 5,
   "metadata": {},
   "outputs": [],
   "source": [
    "temperatures_clean = temperatures.filter(lambda (date, temp): temp != -9999)"
   ]
  },
  {
   "cell_type": "markdown",
   "metadata": {},
   "source": [
    "NOTE: In Python 3 tuple parameter unpacking has been removed as explained in [PEP 3113](https://www.python.org/dev/peps/pep-3113/) so we would rewrite it as:\n",
    "\n",
    "    temperatures_clean = temperatures.filter(lambda date_temp: date_temp[1] != -9999)"
   ]
  },
  {
   "cell_type": "markdown",
   "metadata": {},
   "source": [
    "## Calculate the average temperature per day"
   ]
  },
  {
   "cell_type": "code",
   "execution_count": 6,
   "metadata": {},
   "outputs": [],
   "source": [
    "def sum_pairs(a, b):\n",
    "    return (a[0]+b[0], a[1]+b[1])"
   ]
  },
  {
   "cell_type": "code",
   "execution_count": 7,
   "metadata": {},
   "outputs": [],
   "source": [
    "averages = (temperatures_clean.map(lambda (date, temp): (date, (temp, 1)))\n",
    "            .reduceByKey(sum_pairs)\n",
    "            .map(lambda (date, (temp, count)): (date, temp/count)))"
   ]
  },
  {
   "cell_type": "markdown",
   "metadata": {},
   "source": [
    "NOTE: In Python 3 the syntax gets ugly especially in cases like this where there are nested structures. The code above in Python 3 will look like:\n",
    "\n",
    "    averages = (temperatures_clean.map(lambda date_temp: (date_temp[0], (date_temp[1], 1)))\n",
    "                .reduceByKey(sum_pairs)\n",
    "                .map(lambda date__temp_count: (date__temp_count[0], date__temp_count[1][0]/date__temp_count[1][1])))\n",
    "\n"
   ]
  },
  {
   "cell_type": "markdown",
   "metadata": {},
   "source": [
    "## Show the results sorted by date"
   ]
  },
  {
   "cell_type": "code",
   "execution_count": 8,
   "metadata": {},
   "outputs": [
    {
     "data": {
      "text/plain": [
       "[(u'2017-06-01', 17.179580419580425),\n",
       " (u'2017-06-02', 16.007500000000004),\n",
       " (u'2017-06-03', 14.511736111111105),\n",
       " (u'2017-06-04', 14.889375000000005),\n",
       " (u'2017-06-05', 13.67486111111111),\n",
       " (u'2017-06-06', 14.901041666666666),\n",
       " (u'2017-06-07', 17.76305555555556),\n",
       " (u'2017-06-08', 17.49979166666667),\n",
       " (u'2017-06-09', 17.86694444444445),\n",
       " (u'2017-06-10', 19.207222222222224),\n",
       " (u'2017-06-11', 17.806250000000006),\n",
       " (u'2017-06-12', 20.020138888888884),\n",
       " (u'2017-06-13', 18.769027777777776),\n",
       " (u'2017-06-14', 17.93489510489511),\n",
       " (u'2017-06-15', 18.135486111111103),\n",
       " (u'2017-06-16', 22.042708333333337),\n",
       " (u'2017-06-17', 25.475902777777772),\n",
       " (u'2017-06-18', 26.350069444444443),\n",
       " (u'2017-06-19', 25.422708333333333),\n",
       " (u'2017-06-20', 26.977916666666665),\n",
       " (u'2017-06-21', 23.28430555555555),\n",
       " (u'2017-06-22', 19.56493055555555),\n",
       " (u'2017-06-23', 18.57861111111111),\n",
       " (u'2017-06-24', 17.6775),\n",
       " (u'2017-06-25', 19.57138888888889),\n",
       " (u'2017-06-26', 18.298125000000002),\n",
       " (u'2017-06-27', 17.025555555555556),\n",
       " (u'2017-06-28', 15.242361111111105),\n",
       " (u'2017-06-29', 13.477083333333331),\n",
       " (u'2017-06-30', 11.59)]"
      ]
     },
     "execution_count": 8,
     "metadata": {},
     "output_type": "execute_result"
    }
   ],
   "source": [
    "averages.sortByKey().collect()"
   ]
  }
 ],
 "metadata": {
  "kernelspec": {
   "display_name": "Python 2",
   "language": "python",
   "name": "python2"
  },
  "language_info": {
   "codemirror_mode": {
    "name": "ipython",
    "version": 2
   },
   "file_extension": ".py",
   "mimetype": "text/x-python",
   "name": "python",
   "nbconvert_exporter": "python",
   "pygments_lexer": "ipython2",
   "version": "2.7.15"
  }
 },
 "nbformat": 4,
 "nbformat_minor": 4
}
