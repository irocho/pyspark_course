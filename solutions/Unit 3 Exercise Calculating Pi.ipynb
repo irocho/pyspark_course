{
 "cells": [
  {
   "cell_type": "markdown",
   "metadata": {},
   "source": [
    "# Calculating $\\pi$ using Monte Carlo"
   ]
  },
  {
   "cell_type": "markdown",
   "metadata": {},
   "source": [
    "To estimate the value of Pi using the Monte Carlo method we generate a large number of random points (similar to **launching darts**) and see how many fall in the circle enclosed by the unit square:"
   ]
  },
  {
   "cell_type": "markdown",
   "metadata": {},
   "source": [
    "$\\pi = 4 * \\frac{N_{hits}}{N_{total}}$"
   ]
  },
  {
   "cell_type": "markdown",
   "metadata": {},
   "source": [
    "![Pi](http://hadoop.cesga.es/files/calculating-pi.gif)"
   ]
  },
  {
   "cell_type": "markdown",
   "metadata": {},
   "source": [
    "You can see a demo here: [Estimating Pi with Monte Carlo demo](https://academo.org/demos/estimating-pi-monte-carlo/)"
   ]
  },
  {
   "cell_type": "markdown",
   "metadata": {},
   "source": [
    "# Implementation"
   ]
  },
  {
   "cell_type": "code",
   "execution_count": 1,
   "metadata": {},
   "outputs": [],
   "source": [
    "from __future__ import print_function\n",
    "from random import random\n",
    "from operator import add\n",
    "import time"
   ]
  },
  {
   "cell_type": "code",
   "execution_count": 2,
   "metadata": {},
   "outputs": [],
   "source": [
    "# Number of points to generate\n",
    "POINTS = 10**8\n",
    "# Number of partitions to use in the Spark program\n",
    "PARTITIONS = 20"
   ]
  },
  {
   "cell_type": "code",
   "execution_count": 3,
   "metadata": {},
   "outputs": [],
   "source": [
    "def launch_dart(_):\n",
    "    \"Shoot a new random dart in the (1, 1) cuadrant and return 1 if it is inside the circle, 0 otherwise\"\n",
    "    x = random() * 2 - 1\n",
    "    y = random() * 2 - 1\n",
    "    return 1 if x ** 2 + y ** 2 < 1 else 0"
   ]
  },
  {
   "cell_type": "markdown",
   "metadata": {},
   "source": [
    "## Serial implementation using Python"
   ]
  },
  {
   "cell_type": "code",
   "execution_count": 4,
   "metadata": {},
   "outputs": [
    {
     "name": "stdout",
     "output_type": "stream",
     "text": [
      "Elapsed time: 59.5995240211\n",
      "Pi is roughly 3.14194192\n"
     ]
    }
   ],
   "source": [
    "start = time.time()\n",
    "hits = 0\n",
    "for i in xrange(POINTS):\n",
    "    hits += launch_dart(_)\n",
    "end = time.time()\n",
    "print('Elapsed time:', end - start)\n",
    "print('Pi is roughly', 4.0 * hits / POINTS)"
   ]
  },
  {
   "cell_type": "markdown",
   "metadata": {},
   "source": [
    "NOTE: If you are using Python 3 instead of the `xrange` function you would use `range`."
   ]
  },
  {
   "cell_type": "markdown",
   "metadata": {},
   "source": [
    "## Parallel implementation using Spark"
   ]
  },
  {
   "cell_type": "code",
   "execution_count": 8,
   "metadata": {},
   "outputs": [
    {
     "name": "stdout",
     "output_type": "stream",
     "text": [
      "Elapsed time: 9.7909719944\n",
      "Pi is roughly 3.14167076\n"
     ]
    }
   ],
   "source": [
    "start = time.time()\n",
    "hits = sc.parallelize(xrange(POINTS), PARTITIONS).map(launch_dart).reduce(add)\n",
    "end = time.time()\n",
    "print('Elapsed time:', end - start)\n",
    "print('Pi is roughly', 4.0 * hits / POINTS)"
   ]
  },
  {
   "cell_type": "markdown",
   "metadata": {},
   "source": [
    "NOTE: If you are using Python 3 instead of the `xrange` function you would use `range`."
   ]
  },
  {
   "cell_type": "markdown",
   "metadata": {},
   "source": [
    "## Explore the paralellism"
   ]
  },
  {
   "cell_type": "markdown",
   "metadata": {},
   "source": [
    "Explore how changing the number of points and the number partitions affects the elapsed time of each implementation.\n",
    "\n",
    "- We can increase POINTS from `10**6` to `10**8`, in this case the sequential execution will need more than 60 seconds.\n",
    "- Take into account that just re-running again the spark calculation reduces the time because the executors are already launched so the application startup time is shorter."
   ]
  }
 ],
 "metadata": {
  "kernelspec": {
   "display_name": "Python 2",
   "language": "python",
   "name": "python2"
  },
  "language_info": {
   "codemirror_mode": {
    "name": "ipython",
    "version": 2
   },
   "file_extension": ".py",
   "mimetype": "text/x-python",
   "name": "python",
   "nbconvert_exporter": "python",
   "pygments_lexer": "ipython2",
   "version": "2.7.15"
  }
 },
 "nbformat": 4,
 "nbformat_minor": 4
}
