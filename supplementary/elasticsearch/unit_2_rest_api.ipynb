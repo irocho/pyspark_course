{
 "cells": [
  {
   "cell_type": "markdown",
   "metadata": {},
   "source": [
    "# ElasticSearch REST API"
   ]
  },
  {
   "cell_type": "markdown",
   "metadata": {},
   "source": [
    "## What is REST?\n",
    "Roy Fielding first presented REST in 2000 in his famous dissertation as a lightweight alternative to SOAP-based web services.\n",
    "\n",
    "A Web API (or Web Service) conforming to the REST architectural style is a REST API.\n",
    "\n",
    "REST APIs are very popular these days and they have mostly replaced SOAP-based web services in the web.\n",
    "\n",
    "Unlike SOAP-based web services, there is no \"official\" standard for RESTful web APIs. \n",
    "\n",
    "While SOAP used XML for messages, REST generally uses JSON.\n",
    "\n",
    "JSON (JavaScript Object Notation) is an open standard file format derived from the JavaScript language (the ubiquous web programming language originally developed for Netscape in 1994). It's syntax is basically equivalent to that of a Python dict.\n",
    "\n",
    "This is an example of a JSON object:\n",
    "\n",
    "```json\n",
    "{\n",
    "    \"name\": \"Ye\",\n",
    "    \"surname\": \"Wenjie\",\n",
    "    \"children\": [\"Yang\", \"Dong\"],\n",
    "    \"age\": 85,\n",
    "    \"height\": 175.5,\n",
    "    \"married\": true\n",
    "}\n",
    "```\n",
    "\n",
    "In RESTful APIs we have resources and we can manipulate those resources using CRUD operations.\n",
    "\n",
    "**Resources** are REST main abstration. Basically a resource is a name for a class of objects, we can think of it as a collection of objects of the same type that we can manipulate.\n",
    "\n",
    "Resources are represented as URIs (ie. URLs).\n",
    "\n",
    "**CRUD** operations:\n",
    "- Create\n",
    "- Read\n",
    "- Update\n",
    "- Delete\n",
    "\n",
    "REST is **stateless**: no session information is retained by the server.\n",
    "\n",
    "Semantics: REST implements operations using the HTTP methods:\n",
    "- GET: read\n",
    "- POST: create\n",
    "- PUT: update\n",
    "- DELETE: delete\n",
    "\n",
    "GET, PUT and DELETE methods are idempotent. POST not.\n",
    "\n",
    "The response and error codes are also based on the standard HTTP response status codes:\n",
    "- 200 OK\n",
    "- 201 Created\n",
    "- 400 Bad Request\n",
    "- 401 Unauthorized\n",
    "- 404 Not Found\n",
    "\n",
    "Using HTTP for communication allows REST APIs to be accessed all over the internet.\n",
    "\n",
    "\n",
    "References:\n",
    "- [What is REST](https://restfulapi.net/)\n",
    "- [Roy Fielding's dissertation](https://www.ics.uci.edu/~fielding/pubs/dissertation/rest_arch_style.htm)\n",
    "- [HTTP response status codes](https://developer.mozilla.org/en-US/docs/Web/HTTP/Status)\n",
    "\n"
   ]
  },
  {
   "cell_type": "markdown",
   "metadata": {},
   "source": [
    "## Elasticsearch REST API\n",
    "Opensearch is based on Elasticsearch 7.10.2.\n",
    "\n",
    "- [REST API Reference ElasticSearch 7.10](https://www.elastic.co/guide/en/elasticsearch/reference/7.10/rest-apis.html)\n",
    "\n",
    "```\n",
    "curl --insecure --user admin:admin 'https://10.38.28.237:9200/twitter-cesga/_search?pretty'\n",
    "http --verify no --auth admin:admin 'https://opensearch-2:9200/_cat/health?v&pretty'\n",
    "```"
   ]
  },
  {
   "cell_type": "markdown",
   "metadata": {},
   "source": [
    "### Inserting data\n",
    "```\n",
    "PUT /:index/_doc/:id\n",
    "{\n",
    "    \"genre\": [\"IMAX\", \"Sci-Fi\"],\n",
    "    \"title\": \"The Arrival\",\n",
    "    \"year\": 2013\n",
    "}\n",
    "```"
   ]
  },
  {
   "cell_type": "markdown",
   "metadata": {},
   "source": [
    "Let's insert a document in a non-existent index called `testing` and we will assign it the `id` 1:"
   ]
  },
  {
   "cell_type": "code",
   "execution_count": 28,
   "metadata": {},
   "outputs": [
    {
     "name": "stdout",
     "output_type": "stream",
     "text": [
      "{\"acknowledged\":true}{\"_index\":\"testing\",\"_type\":\"_doc\",\"_id\":\"1\",\"_version\":1,\"result\":\"created\",\"_shards\":{\"total\":2,\"successful\":1,\"failed\":0},\"_seq_no\":0,\"_primary_term\":1}"
     ]
    }
   ],
   "source": [
    "%%bash\n",
    "\n",
    "# First we will delete the testing index if it exists\n",
    "curl --silent --insecure -u ${OPENSEARCH_USER}:${OPENSEARCH_PASSWD} \\\n",
    "    -X DELETE \\\n",
    "    \"https://${OPENSEARCH_HOST}:${OPENSEARCH_PORT}/testing\"\n",
    "\n",
    "# And now we insert the data using automatic index creationg and dynamic mapping\n",
    "curl --silent --insecure -u ${OPENSEARCH_USER}:${OPENSEARCH_PASSWD} \\\n",
    "    -X POST -H \"Content-Type: application/json\" \\\n",
    "    \"https://${OPENSEARCH_HOST}:${OPENSEARCH_PORT}/testing/_doc/1\" -d '\n",
    "{\n",
    "    \"genre\": [\"IMAX\", \"Sci-Fi\"],\n",
    "    \"title\": \"The Arrival\",\n",
    "    \"year\": 2013\n",
    "}'"
   ]
  },
  {
   "cell_type": "markdown",
   "metadata": {},
   "source": [
    "### A note on mappings\n",
    "Defining the schema of a document is referred as **mapping**: the mappings will determine how a document and its fields are stored and indexed in ElasticSearch.\n",
    "\n",
    "In cases like the above that we insert a document in a new index that has not been created previously and then it has not predefined mappings, then elasticsearch will automatically created the mappings for us using a feature called: **dynamic mapping**.\n",
    "\n",
    "ElasticSearch will try its best to infer the type of the fiels based on its value.\n",
    "\n",
    "If we want instead of dynamic mapping we can use **explicit mapping** so we define in advance how our data will be represented."
   ]
  },
  {
   "cell_type": "markdown",
   "metadata": {},
   "source": [
    "### Index creation:\n",
    "```\n",
    "PUT /:index\n",
    "```\n",
    "- Shards & Replicas\n",
    "```json\n",
    "    \"settings\" : {\n",
    "        \"index\" : {\n",
    "            \"number_of_shards\" : \"3\",\n",
    "            \"number_of_replicas\" : \"2\"\n",
    "        }\n",
    "    }\n",
    "```\n",
    "- Mappings: Let know elasticsearch that we want the \"date\" field as type \"date\" (by default it will interpret it as \"long\")\n",
    "```\n",
    "PUT /:index\n",
    "{\n",
    "    \"mappings\": {\n",
    "        \"properties\": {\n",
    "            \"year\": {\"type\": \"date\"}\n",
    "        }\n",
    "    }\n",
    "}\n",
    "```"
   ]
  },
  {
   "cell_type": "markdown",
   "metadata": {},
   "source": [
    "Let's see the settings and mappings that were automatically created in our `testing` index:"
   ]
  },
  {
   "cell_type": "code",
   "execution_count": 29,
   "metadata": {},
   "outputs": [
    {
     "name": "stdout",
     "output_type": "stream",
     "text": [
      "{\n",
      "  \"testing\" : {\n",
      "    \"aliases\" : { },\n",
      "    \"mappings\" : {\n",
      "      \"properties\" : {\n",
      "        \"genre\" : {\n",
      "          \"type\" : \"text\",\n",
      "          \"fields\" : {\n",
      "            \"keyword\" : {\n",
      "              \"type\" : \"keyword\",\n",
      "              \"ignore_above\" : 256\n",
      "            }\n",
      "          }\n",
      "        },\n",
      "        \"title\" : {\n",
      "          \"type\" : \"text\",\n",
      "          \"fields\" : {\n",
      "            \"keyword\" : {\n",
      "              \"type\" : \"keyword\",\n",
      "              \"ignore_above\" : 256\n",
      "            }\n",
      "          }\n",
      "        },\n",
      "        \"year\" : {\n",
      "          \"type\" : \"long\"\n",
      "        }\n",
      "      }\n",
      "    },\n",
      "    \"settings\" : {\n",
      "      \"index\" : {\n",
      "        \"creation_date\" : \"1665594745824\",\n",
      "        \"number_of_shards\" : \"1\",\n",
      "        \"number_of_replicas\" : \"1\",\n",
      "        \"uuid\" : \"n4NXZ95yRrW2W_zT1e6G9Q\",\n",
      "        \"version\" : {\n",
      "          \"created\" : \"135248227\"\n",
      "        },\n",
      "        \"provided_name\" : \"testing\"\n",
      "      }\n",
      "    }\n",
      "  }\n",
      "}\n"
     ]
    }
   ],
   "source": [
    "%%bash\n",
    "\n",
    "curl --silent --insecure -u ${OPENSEARCH_USER}:${OPENSEARCH_PASSWD} \\\n",
    "    -X GET \\\n",
    "    \"https://${OPENSEARCH_HOST}:${OPENSEARCH_PORT}/testing?pretty\""
   ]
  },
  {
   "cell_type": "markdown",
   "metadata": {},
   "source": [
    "We see that the `year` field has been assigned the `long` type, but we know that it is actually a `date` so we can fine-tune it if we use explicit mappings instead of the dynamic mappings."
   ]
  },
  {
   "cell_type": "markdown",
   "metadata": {},
   "source": [
    "Let's now delete the `testing` index and recreate it using the appropriate settings and mappings:"
   ]
  },
  {
   "cell_type": "code",
   "execution_count": 30,
   "metadata": {},
   "outputs": [
    {
     "name": "stdout",
     "output_type": "stream",
     "text": [
      "{\"acknowledged\":true}"
     ]
    }
   ],
   "source": [
    "%%bash\n",
    "\n",
    "curl --silent --insecure -u ${OPENSEARCH_USER}:${OPENSEARCH_PASSWD} \\\n",
    "    -X DELETE \\\n",
    "    \"https://${OPENSEARCH_HOST}:${OPENSEARCH_PORT}/testing\""
   ]
  },
  {
   "cell_type": "markdown",
   "metadata": {},
   "source": [
    "And now we can create it with the desired settings (3 primary shards, 2 replicas) and mappings (year as date):"
   ]
  },
  {
   "cell_type": "code",
   "execution_count": 31,
   "metadata": {},
   "outputs": [
    {
     "name": "stdout",
     "output_type": "stream",
     "text": [
      "{\"acknowledged\":true,\"shards_acknowledged\":true,\"index\":\"testing\"}"
     ]
    }
   ],
   "source": [
    "%%bash\n",
    "\n",
    "curl --silent --insecure -u ${OPENSEARCH_USER}:${OPENSEARCH_PASSWD} \\\n",
    "    -X PUT -H \"Content-Type: application/json\" \\\n",
    "    \"https://${OPENSEARCH_HOST}:${OPENSEARCH_PORT}/testing\" -d '\n",
    "{\n",
    "    \"settings\" : {\n",
    "        \"index\" : {\n",
    "            \"number_of_shards\" : \"3\",\n",
    "            \"number_of_replicas\" : \"2\"\n",
    "        }\n",
    "    },\n",
    "    \"mappings\": {\n",
    "        \"properties\": {\n",
    "            \"year\": {\"type\": \"date\"}\n",
    "        }\n",
    "    }\n",
    "}'"
   ]
  },
  {
   "cell_type": "code",
   "execution_count": 34,
   "metadata": {},
   "outputs": [
    {
     "name": "stdout",
     "output_type": "stream",
     "text": [
      "{\n",
      "  \"testing\" : {\n",
      "    \"aliases\" : { },\n",
      "    \"mappings\" : {\n",
      "      \"properties\" : {\n",
      "        \"year\" : {\n",
      "          \"type\" : \"date\"\n",
      "        }\n",
      "      }\n",
      "    },\n",
      "    \"settings\" : {\n",
      "      \"index\" : {\n",
      "        \"creation_date\" : \"1665594765615\",\n",
      "        \"number_of_shards\" : \"3\",\n",
      "        \"number_of_replicas\" : \"2\",\n",
      "        \"uuid\" : \"FItyDRNBTvehHHGTclgifA\",\n",
      "        \"version\" : {\n",
      "          \"created\" : \"135248227\"\n",
      "        },\n",
      "        \"provided_name\" : \"testing\"\n",
      "      }\n",
      "    }\n",
      "  }\n",
      "}\n"
     ]
    }
   ],
   "source": [
    "%%bash\n",
    "\n",
    "curl --silent --insecure -u ${OPENSEARCH_USER}:${OPENSEARCH_PASSWD} \\\n",
    "    -X GET \\\n",
    "    \"https://${OPENSEARCH_HOST}:${OPENSEARCH_PORT}/testing?pretty\""
   ]
  },
  {
   "cell_type": "markdown",
   "metadata": {},
   "source": [
    "As we can see only the mapping for the `year` field is there. The other mappings will be generated automatically by ElasticSearch when documents are added."
   ]
  },
  {
   "cell_type": "markdown",
   "metadata": {},
   "source": [
    "So, let's insert again our document and we will see how the other mappings are created:"
   ]
  },
  {
   "cell_type": "code",
   "execution_count": 35,
   "metadata": {},
   "outputs": [
    {
     "name": "stdout",
     "output_type": "stream",
     "text": [
      "{\"_index\":\"testing\",\"_type\":\"_doc\",\"_id\":\"1\",\"_version\":1,\"result\":\"created\",\"_shards\":{\"total\":3,\"successful\":3,\"failed\":0},\"_seq_no\":0,\"_primary_term\":1}"
     ]
    }
   ],
   "source": [
    "%%bash\n",
    "\n",
    "curl --silent --insecure -u ${OPENSEARCH_USER}:${OPENSEARCH_PASSWD} \\\n",
    "    -X POST -H \"Content-Type: application/json\" \\\n",
    "    \"https://${OPENSEARCH_HOST}:${OPENSEARCH_PORT}/testing/_doc/1\" -d '\n",
    "{\n",
    "    \"genre\": [\"IMAX\", \"Sci-Fi\"],\n",
    "    \"title\": \"The Arrival\",\n",
    "    \"year\": 2013\n",
    "}'"
   ]
  },
  {
   "cell_type": "markdown",
   "metadata": {},
   "source": [
    "And now we can see all the mappings generated for the other fields:"
   ]
  },
  {
   "cell_type": "code",
   "execution_count": 36,
   "metadata": {},
   "outputs": [
    {
     "name": "stdout",
     "output_type": "stream",
     "text": [
      "{\n",
      "  \"testing\" : {\n",
      "    \"aliases\" : { },\n",
      "    \"mappings\" : {\n",
      "      \"properties\" : {\n",
      "        \"genre\" : {\n",
      "          \"type\" : \"text\",\n",
      "          \"fields\" : {\n",
      "            \"keyword\" : {\n",
      "              \"type\" : \"keyword\",\n",
      "              \"ignore_above\" : 256\n",
      "            }\n",
      "          }\n",
      "        },\n",
      "        \"title\" : {\n",
      "          \"type\" : \"text\",\n",
      "          \"fields\" : {\n",
      "            \"keyword\" : {\n",
      "              \"type\" : \"keyword\",\n",
      "              \"ignore_above\" : 256\n",
      "            }\n",
      "          }\n",
      "        },\n",
      "        \"year\" : {\n",
      "          \"type\" : \"date\"\n",
      "        }\n",
      "      }\n",
      "    },\n",
      "    \"settings\" : {\n",
      "      \"index\" : {\n",
      "        \"creation_date\" : \"1665594765615\",\n",
      "        \"number_of_shards\" : \"3\",\n",
      "        \"number_of_replicas\" : \"2\",\n",
      "        \"uuid\" : \"FItyDRNBTvehHHGTclgifA\",\n",
      "        \"version\" : {\n",
      "          \"created\" : \"135248227\"\n",
      "        },\n",
      "        \"provided_name\" : \"testing\"\n",
      "      }\n",
      "    }\n",
      "  }\n",
      "}\n"
     ]
    }
   ],
   "source": [
    "%%bash\n",
    "\n",
    "curl --silent --insecure -u ${OPENSEARCH_USER}:${OPENSEARCH_PASSWD} \\\n",
    "    -X GET \\\n",
    "    \"https://${OPENSEARCH_HOST}:${OPENSEARCH_PORT}/testing?pretty\""
   ]
  },
  {
   "cell_type": "markdown",
   "metadata": {},
   "source": [
    "## Mapping: Field data types\n",
    "Common data types that we can use when defining mappings:\n",
    "- **text**: the traditional field type for full-text content such as the body of an email or the description of a product. Used for **full text search**, replacing the old **analyzed**.\n",
    "- **keyword**: it is used for structured content such as IDs, email addresses, hostnames, status codes, zip codes, or tags. Used for **verbatim** search, replacing the old **not_analyzed**.\n",
    "- **date**: JSON doesn’t have a date data type, so dates in Elasticsearch can either be:\n",
    "  - strings containing formatted dates, e.g. \"2015-01-01\" or \"2015/01/01 12:10:30\"\n",
    "  - a number representing milliseconds-since-the-epoch\n",
    "  - a number representing seconds-since-the-epoch\n",
    "- Numeric field types: **long**, integer, **double**, float, ...\n",
    "- binary: binary value encoded as a Base64 string\n",
    "- boolean: true and false values\n",
    "- object: a JSON object\n",
    "- ip: IPv4 and IPv6 addresses\n",
    "- flattened:  An entire JSON object as a single field value. (not available in OpenSearch)\n",
    "- Range types: long_range, double_range, date_range, ip_range\n",
    "- geo_point: Latitude and longitude points\n",
    "- geo_shape: Complex shapes, such as polygons\n",
    "- Arrays\n",
    "- Multi-fiels\n",
    "- ...\n",
    "\n",
    "and much more, you can check all the field data types available in:\n",
    "\n",
    "- [Field data types](https://www.elastic.co/guide/en/elasticsearch/reference/current/mapping-types.html)"
   ]
  },
  {
   "cell_type": "markdown",
   "metadata": {},
   "source": [
    "## Controlling full-text search\n",
    "When we want exact-match we have to use the **keyword** type instead of **text**. This prevents that ElasticSearch analyzes the text in this field (previously this was done with the **no_analyzed** option) and it will store it as it is in verbatim format. This way the queries will have to exactly match the text.\n",
    "\n",
    "In the **text** fields ElasticSearch will pass the text through the configured **analyzers** and **tokenizers** before storing it. Then we will be able to do full-text search in the text of this field."
   ]
  },
  {
   "cell_type": "markdown",
   "metadata": {},
   "source": [
    "## Preventing mapping explosion\n",
    "There is as situation that we should avoid that is called **mapping explosion**, this happens when the number of fields in an index grows to a large amount causing out of memory errors and other problems.\n",
    "\n",
    "This can happen for example when using dynamic mapping and every new document introduces new files, this causes elasticsearch to create a new mapping for each new field.\n",
    "\n",
    "For example imagine a document like the following generated by filebeat  from the logs of the server (more on that later):\n",
    "```json\n",
    "{\n",
    "  \"@timestamp\" : \"2022-10-11T23:03:18.494Z\",\n",
    "  \"input\" : {\n",
    "    \"type\" : \"log\"\n",
    "  },\n",
    "  \"agent\" : {\n",
    "    \"version\" : \"7.12.1\",\n",
    "    \"hostname\" : \"c27-32\",\n",
    "    \"ephemeral_id\" : \"0cd90f91-0c99-4346-a747-0516d3e2613f\",\n",
    "    \"id\" : \"dfdee6c4-68f4-41b5-94a1-b0fe87c72209\",\n",
    "    \"name\" : \"c27-32\",\n",
    "    \"type\" : \"filebeat\"\n",
    "  },\n",
    "  \"message\" : \"\"\"2022-10-12 01:03:18.283 23 INFO neutron.wsgi [req-114a9dd4-be1b-49d3-b85a-4c2de4138e0d 1e16a103f9f44d9591cd4b4046050d36 77619eace356487892f47ff36c3e45c4 - default default] 10.108.27.24,10.108.27.35 \"GET /v2.0/networks/4381458d-1edc-4ad5-bb46-b54272123f58?fields=segments HTTP/1.1\" status: 200  len: 188 time: 0.0732589\"\"\",\n",
    "  \"tags\" : [\n",
    "    \"cloud\",\n",
    "    \"openstack-prod\"\n",
    "  ]\n",
    "}\n",
    "```\n",
    "\n",
    "Now imagine that a new document arrives including additional fields, for example extending the information about the agent running in the server, for example indicating the `uptime` of the agent and the `memory` used:\n",
    "```json\n",
    "...\n",
    "  \"agent\" : {\n",
    "    \"version\" : \"7.12.1\",\n",
    "    \"hostname\" : \"c27-32\",\n",
    "    \"ephemeral_id\" : \"0cd90f91-0c99-4346-a747-0516d3e2613f\",\n",
    "    \"id\" : \"dfdee6c4-68f4-41b5-94a1-b0fe87c72209\",\n",
    "    \"name\" : \"c27-32\",\n",
    "    \"type\" : \"filebeat\",\n",
    "    \"uptime\": 3600,\n",
    "    \"memory\": 100\n",
    "  },\n",
    "...\n",
    "```\n",
    "\n",
    "This way the number of fields will keep growing.\n",
    "\n",
    "To prevent this we can define the `agent` field as a **flattened data type**:\n",
    "```json\n",
    "  \"properties\": {\n",
    "    \"agent\": {\n",
    "      \"type\": \"flattened\"\n",
    "    }\n",
    "  }\n",
    "```\n",
    "\n",
    "NOTE: The flattened data type is not available in opensearch or the oss elasticsearch, you need to get a version with at least basic license.\n",
    "\n",
    "Additionaly, as a safe meassure, we can also configure different mapping limit settings like `index.mapping.nested_fields.limit`:\n",
    "\n",
    "References:\n",
    "- [Flattened field type](https://www.elastic.co/guide/en/elasticsearch/reference/current/flattened.html)\n",
    "- [Mapping limit settings](https://www.elastic.co/guide/en/elasticsearch/reference/current/mapping-settings-limit.html)\n",
    "\n",
    "\n",
    "## Exercise\n",
    "- Lab: [Preventing mapping explosion](mapping_explosion.ipynb)"
   ]
  },
  {
   "cell_type": "markdown",
   "metadata": {},
   "source": [
    "### Bulk import\n",
    "```json\n",
    "PUT /_bulk\n",
    "{\"create\": {\"_index\": \"testing\", \"_id\": \"1\"}}\n",
    "{\"id\": \"1\", \"genre\": [\"IMAX\", \"Sci-Fi\"], \"title\": \"The Arrival\", \"year\": 2013}\n",
    "{\"create\": {\"_index\": \"testing\", \"_id\": \"2\"}}\n",
    "{\"id\": \"2\", \"genre\": [\"IMAX\", \"Sci-Fi\"], \"title\": \"The Expanse\", \"year\": 2010}\n",
    "...\n",
    "```\n",
    "\n",
    "We create a json file with the two lines for the different documents we want to insert and then we run:\n",
    "```bash\n",
    "curl --insecure -u ${OPENSEARCH_USER}:${OPENSEARCH_PASSWD} \\\n",
    "    -X PUT -H \"Content-Type: application/json\" \\\n",
    "    --data-binary @movies-bulk.json \\\n",
    "    \"https://${OPENSEARCH_HOST}:${OPENSEARCH_PORT}/_bulk\"\n",
    "```"
   ]
  },
  {
   "cell_type": "markdown",
   "metadata": {},
   "source": [
    "### Exercise\n",
    "Let's create a index named `movies` with the movielens dataset:\n",
    "\n",
    "- Lab: [Bulk import: Movielens dataset](exercises/bulk_import_movielens.ipynb)"
   ]
  },
  {
   "cell_type": "markdown",
   "metadata": {},
   "source": [
    "### Updating Data\n",
    "When we update a document we must take into account that every document has a **_version** field (we can see it in the `_doc` query or adding `version=true` to the `_search` query).\n",
    "\n",
    "As in the case of the RDDs in Spark, **documents are inmutable**. This means that when we update a document what actually happens is that a new document is created with an incremented `_version` number and the old one is marked for deletion."
   ]
  },
  {
   "cell_type": "code",
   "execution_count": 38,
   "metadata": {},
   "outputs": [
    {
     "name": "stdout",
     "output_type": "stream",
     "text": [
      "{\n",
      "  \"_index\" : \"testing\",\n",
      "  \"_type\" : \"_doc\",\n",
      "  \"_id\" : \"1\",\n",
      "  \"_version\" : 1,\n",
      "  \"_seq_no\" : 0,\n",
      "  \"_primary_term\" : 1,\n",
      "  \"found\" : true,\n",
      "  \"_source\" : {\n",
      "    \"genre\" : [\n",
      "      \"IMAX\",\n",
      "      \"Sci-Fi\"\n",
      "    ],\n",
      "    \"title\" : \"The Arrival\",\n",
      "    \"year\" : 2013\n",
      "  }\n",
      "}\n"
     ]
    }
   ],
   "source": [
    "%%bash\n",
    "curl --silent --insecure -u ${OPENSEARCH_USER}:${OPENSEARCH_PASSWD} \\\n",
    "    -X GET -H \"Content-Type: application/json\" \\\n",
    "    \"https://${OPENSEARCH_HOST}:${OPENSEARCH_PORT}/testing/_doc/1?pretty\""
   ]
  },
  {
   "cell_type": "markdown",
   "metadata": {},
   "source": [
    "There are two types of updates:\n",
    "\n",
    "**Full update**: we provide all fields in the body of the request (just the same as when we do a insert)\n",
    "```\n",
    "PUT /:index/_doc/:id\n",
    "```"
   ]
  },
  {
   "cell_type": "markdown",
   "metadata": {},
   "source": [
    "For example, we have discovered that `The Arrival` release year was 2015 and not 2013:"
   ]
  },
  {
   "cell_type": "code",
   "execution_count": 50,
   "metadata": {},
   "outputs": [
    {
     "name": "stdout",
     "output_type": "stream",
     "text": [
      "{\"_index\":\"testing\",\"_type\":\"_doc\",\"_id\":\"1\",\"_version\":5,\"result\":\"updated\",\"_shards\":{\"total\":3,\"successful\":3,\"failed\":0},\"_seq_no\":4,\"_primary_term\":1}"
     ]
    }
   ],
   "source": [
    "%%bash\n",
    "curl --silent --insecure -u ${OPENSEARCH_USER}:${OPENSEARCH_PASSWD} \\\n",
    "    -X PUT -H \"Content-Type: application/json\" \\\n",
    "    \"https://${OPENSEARCH_HOST}:${OPENSEARCH_PORT}/testing/_doc/1\" -d '\n",
    "{\n",
    "    \"genre\": [\"IMAX\", \"Sci-Fi\"],\n",
    "    \"title\": \"The Arrival\",\n",
    "    \"year\": 2015\n",
    "}'"
   ]
  },
  {
   "cell_type": "code",
   "execution_count": 51,
   "metadata": {},
   "outputs": [
    {
     "name": "stdout",
     "output_type": "stream",
     "text": [
      "{\n",
      "  \"_index\" : \"testing\",\n",
      "  \"_type\" : \"_doc\",\n",
      "  \"_id\" : \"1\",\n",
      "  \"_version\" : 5,\n",
      "  \"_seq_no\" : 4,\n",
      "  \"_primary_term\" : 1,\n",
      "  \"found\" : true,\n",
      "  \"_source\" : {\n",
      "    \"genre\" : [\n",
      "      \"IMAX\",\n",
      "      \"Sci-Fi\"\n",
      "    ],\n",
      "    \"title\" : \"The Arrival\",\n",
      "    \"year\" : 2015\n",
      "  }\n",
      "}\n"
     ]
    }
   ],
   "source": [
    "%%bash\n",
    "curl --silent --insecure -u ${OPENSEARCH_USER}:${OPENSEARCH_PASSWD} \\\n",
    "    -X GET -H \"Content-Type: application/json\" \\\n",
    "    \"https://${OPENSEARCH_HOST}:${OPENSEARCH_PORT}/testing/_doc/1?pretty\""
   ]
  },
  {
   "cell_type": "markdown",
   "metadata": {},
   "source": [
    "**Partial update**: in this case only the updated fields are given in the body of the request\n",
    "```\n",
    "POST /:index/_doc/:id/_update\n",
    "{\n",
    "    \"doc\": {\"title\": \"The Expanse Updated\"}\n",
    "}\n",
    "```"
   ]
  },
  {
   "cell_type": "markdown",
   "metadata": {},
   "source": [
    "Ups, we were wrong, The Arrival release year was 2016. We can fix it with a partial update:"
   ]
  },
  {
   "cell_type": "code",
   "execution_count": 52,
   "metadata": {},
   "outputs": [
    {
     "name": "stdout",
     "output_type": "stream",
     "text": [
      "{\"_index\":\"testing\",\"_type\":\"_doc\",\"_id\":\"1\",\"_version\":6,\"result\":\"updated\",\"_shards\":{\"total\":3,\"successful\":3,\"failed\":0},\"_seq_no\":5,\"_primary_term\":1}"
     ]
    }
   ],
   "source": [
    "%%bash\n",
    "curl --silent --insecure -u ${OPENSEARCH_USER}:${OPENSEARCH_PASSWD} \\\n",
    "    -X POST -H \"Content-Type: application/json\" \\\n",
    "    \"https://${OPENSEARCH_HOST}:${OPENSEARCH_PORT}/testing/_doc/1/_update\" -d '\n",
    "{\n",
    "    \"doc\": {\"year\": 2016}\n",
    "}'"
   ]
  },
  {
   "cell_type": "code",
   "execution_count": 53,
   "metadata": {},
   "outputs": [
    {
     "name": "stdout",
     "output_type": "stream",
     "text": [
      "{\n",
      "  \"_index\" : \"testing\",\n",
      "  \"_type\" : \"_doc\",\n",
      "  \"_id\" : \"1\",\n",
      "  \"_version\" : 6,\n",
      "  \"_seq_no\" : 5,\n",
      "  \"_primary_term\" : 1,\n",
      "  \"found\" : true,\n",
      "  \"_source\" : {\n",
      "    \"genre\" : [\n",
      "      \"IMAX\",\n",
      "      \"Sci-Fi\"\n",
      "    ],\n",
      "    \"title\" : \"The Arrival\",\n",
      "    \"year\" : 2016\n",
      "  }\n",
      "}\n"
     ]
    }
   ],
   "source": [
    "%%bash\n",
    "curl --silent --insecure -u ${OPENSEARCH_USER}:${OPENSEARCH_PASSWD} \\\n",
    "    -X GET -H \"Content-Type: application/json\" \\\n",
    "    \"https://${OPENSEARCH_HOST}:${OPENSEARCH_PORT}/testing/_doc/1?pretty\""
   ]
  },
  {
   "cell_type": "markdown",
   "metadata": {},
   "source": [
    "We can see that each time we do an update the `_version` field is incremented."
   ]
  },
  {
   "cell_type": "markdown",
   "metadata": {},
   "source": [
    "### List all documents in index\n",
    "```\n",
    "GET /:index/_search\n",
    "```"
   ]
  },
  {
   "cell_type": "code",
   "execution_count": 54,
   "metadata": {},
   "outputs": [
    {
     "name": "stdout",
     "output_type": "stream",
     "text": [
      "{\n",
      "  \"took\" : 421,\n",
      "  \"timed_out\" : false,\n",
      "  \"_shards\" : {\n",
      "    \"total\" : 3,\n",
      "    \"successful\" : 3,\n",
      "    \"skipped\" : 0,\n",
      "    \"failed\" : 0\n",
      "  },\n",
      "  \"hits\" : {\n",
      "    \"total\" : {\n",
      "      \"value\" : 1,\n",
      "      \"relation\" : \"eq\"\n",
      "    },\n",
      "    \"max_score\" : 1.0,\n",
      "    \"hits\" : [\n",
      "      {\n",
      "        \"_index\" : \"testing\",\n",
      "        \"_type\" : \"_doc\",\n",
      "        \"_id\" : \"1\",\n",
      "        \"_score\" : 1.0,\n",
      "        \"_source\" : {\n",
      "          \"genre\" : [\n",
      "            \"IMAX\",\n",
      "            \"Sci-Fi\"\n",
      "          ],\n",
      "          \"title\" : \"The Arrival\",\n",
      "          \"year\" : 2016\n",
      "        }\n",
      "      }\n",
      "    ]\n",
      "  }\n",
      "}\n"
     ]
    }
   ],
   "source": [
    "%%bash\n",
    "curl --silent --insecure -u ${OPENSEARCH_USER}:${OPENSEARCH_PASSWD} \\\n",
    "    -X GET -H \"Content-Type: application/json\" \\\n",
    "    \"https://${OPENSEARCH_HOST}:${OPENSEARCH_PORT}/testing/_search?pretty\""
   ]
  },
  {
   "cell_type": "markdown",
   "metadata": {},
   "source": [
    "### List documents in index with the given word\n",
    "```\n",
    "GET /:index/_search?q=Arrival\n",
    "```"
   ]
  },
  {
   "cell_type": "code",
   "execution_count": 55,
   "metadata": {},
   "outputs": [
    {
     "name": "stdout",
     "output_type": "stream",
     "text": [
      "{\n",
      "  \"took\" : 631,\n",
      "  \"timed_out\" : false,\n",
      "  \"_shards\" : {\n",
      "    \"total\" : 3,\n",
      "    \"successful\" : 3,\n",
      "    \"skipped\" : 0,\n",
      "    \"failed\" : 0\n",
      "  },\n",
      "  \"hits\" : {\n",
      "    \"total\" : {\n",
      "      \"value\" : 1,\n",
      "      \"relation\" : \"eq\"\n",
      "    },\n",
      "    \"max_score\" : 0.08701137,\n",
      "    \"hits\" : [\n",
      "      {\n",
      "        \"_index\" : \"testing\",\n",
      "        \"_type\" : \"_doc\",\n",
      "        \"_id\" : \"1\",\n",
      "        \"_score\" : 0.08701137,\n",
      "        \"_source\" : {\n",
      "          \"genre\" : [\n",
      "            \"IMAX\",\n",
      "            \"Sci-Fi\"\n",
      "          ],\n",
      "          \"title\" : \"The Arrival\",\n",
      "          \"year\" : 2016\n",
      "        }\n",
      "      }\n",
      "    ]\n",
      "  }\n",
      "}\n"
     ]
    }
   ],
   "source": [
    "%%bash\n",
    "curl --silent --insecure -u ${OPENSEARCH_USER}:${OPENSEARCH_PASSWD} \\\n",
    "    -X GET -H \"Content-Type: application/json\" \\\n",
    "    \"https://${OPENSEARCH_HOST}:${OPENSEARCH_PORT}/testing/_search?q=Arrival&pretty\""
   ]
  },
  {
   "cell_type": "markdown",
   "metadata": {},
   "source": [
    "### Delete a document\n",
    "```\n",
    "DELETE /:index/_doc/:id\n",
    "```"
   ]
  },
  {
   "cell_type": "code",
   "execution_count": 56,
   "metadata": {},
   "outputs": [
    {
     "name": "stdout",
     "output_type": "stream",
     "text": [
      "{\"_index\":\"testing\",\"_type\":\"_doc\",\"_id\":\"1\",\"_version\":7,\"result\":\"deleted\",\"_shards\":{\"total\":3,\"successful\":3,\"failed\":0},\"_seq_no\":6,\"_primary_term\":1}"
     ]
    }
   ],
   "source": [
    "%%bash\n",
    "curl --silent --insecure -u ${OPENSEARCH_USER}:${OPENSEARCH_PASSWD} \\\n",
    "    -X DELETE \\\n",
    "    \"https://${OPENSEARCH_HOST}:${OPENSEARCH_PORT}/testing/_doc/1\""
   ]
  },
  {
   "cell_type": "code",
   "execution_count": 57,
   "metadata": {},
   "outputs": [
    {
     "name": "stdout",
     "output_type": "stream",
     "text": [
      "{\n",
      "  \"took\" : 803,\n",
      "  \"timed_out\" : false,\n",
      "  \"_shards\" : {\n",
      "    \"total\" : 3,\n",
      "    \"successful\" : 3,\n",
      "    \"skipped\" : 0,\n",
      "    \"failed\" : 0\n",
      "  },\n",
      "  \"hits\" : {\n",
      "    \"total\" : {\n",
      "      \"value\" : 0,\n",
      "      \"relation\" : \"eq\"\n",
      "    },\n",
      "    \"max_score\" : null,\n",
      "    \"hits\" : [ ]\n",
      "  }\n",
      "}\n"
     ]
    }
   ],
   "source": [
    "%%bash\n",
    "curl --silent --insecure -u ${OPENSEARCH_USER}:${OPENSEARCH_PASSWD} \\\n",
    "    -X GET -H \"Content-Type: application/json\" \\\n",
    "    \"https://${OPENSEARCH_HOST}:${OPENSEARCH_PORT}/testing/_search?pretty\""
   ]
  },
  {
   "cell_type": "markdown",
   "metadata": {},
   "source": [
    "### Show index mappings\n",
    "```\n",
    "GET /:index\n",
    "```"
   ]
  },
  {
   "cell_type": "code",
   "execution_count": 58,
   "metadata": {},
   "outputs": [
    {
     "name": "stdout",
     "output_type": "stream",
     "text": [
      "{\n",
      "  \"testing\" : {\n",
      "    \"aliases\" : { },\n",
      "    \"mappings\" : {\n",
      "      \"properties\" : {\n",
      "        \"genre\" : {\n",
      "          \"type\" : \"text\",\n",
      "          \"fields\" : {\n",
      "            \"keyword\" : {\n",
      "              \"type\" : \"keyword\",\n",
      "              \"ignore_above\" : 256\n",
      "            }\n",
      "          }\n",
      "        },\n",
      "        \"title\" : {\n",
      "          \"type\" : \"text\",\n",
      "          \"fields\" : {\n",
      "            \"keyword\" : {\n",
      "              \"type\" : \"keyword\",\n",
      "              \"ignore_above\" : 256\n",
      "            }\n",
      "          }\n",
      "        },\n",
      "        \"year\" : {\n",
      "          \"type\" : \"date\"\n",
      "        }\n",
      "      }\n",
      "    },\n",
      "    \"settings\" : {\n",
      "      \"index\" : {\n",
      "        \"creation_date\" : \"1665594765615\",\n",
      "        \"number_of_shards\" : \"3\",\n",
      "        \"number_of_replicas\" : \"2\",\n",
      "        \"uuid\" : \"FItyDRNBTvehHHGTclgifA\",\n",
      "        \"version\" : {\n",
      "          \"created\" : \"135248227\"\n",
      "        },\n",
      "        \"provided_name\" : \"testing\"\n",
      "      }\n",
      "    }\n",
      "  }\n",
      "}\n"
     ]
    }
   ],
   "source": [
    "%%bash\n",
    "curl --silent --insecure -u ${OPENSEARCH_USER}:${OPENSEARCH_PASSWD} \\\n",
    "    -X GET \\\n",
    "    \"https://${OPENSEARCH_HOST}:${OPENSEARCH_PORT}/testing/?pretty\""
   ]
  },
  {
   "cell_type": "markdown",
   "metadata": {},
   "source": [
    "### Compact and aligned text (CAT) APIs\n",
    "- List available indices\n",
    "    ```\n",
    "    GET /_cat/indices?v\n",
    "    ```"
   ]
  },
  {
   "cell_type": "code",
   "execution_count": 59,
   "metadata": {
    "scrolled": true
   },
   "outputs": [
    {
     "name": "stdout",
     "output_type": "stream",
     "text": [
      "health status index                        uuid                   pri rep docs.count docs.deleted store.size pri.store.size\n",
      "green  open   twitter-putin                efIgy7-FTcqvbglatsM24Q   3   2    1991395            0      2.4gb        840.2mb\n",
      "green  open   security-auditlog-2022.08.20 1PFGTppvTVSYKfJY5o4f6A   1   1          8            0    177.9kb        147.2kb\n",
      "green  open   security-auditlog-2022.08.22 I-jrwQh5Txqs61zaoMsAZw   1   1         23            0     66.1kb           33kb\n",
      "green  open   security-auditlog-2022.08.21 QL2M8iGPR8CaTLSW8tmheg   1   1         15            0    238.5kb        119.2kb\n",
      "green  open   .opendistro_security         1A3g-op6R3yqr8GyfLxHAw   1   2          9            0    179.5kb         60.9kb\n",
      "green  open   security-auditlog-2022.08.24 05hR8rw6QLm0RI1YXl7r7A   1   1         13            0    125.8kb         62.9kb\n",
      "green  open   security-auditlog-2022.08.23 FOjGL_vLRs6gjzrmpCbkpA   1   1         15            0    238.7kb        119.3kb\n",
      "green  open   security-auditlog-2022.08.26 xWv63z2STLGR45zPo7P4Rw   1   1         14            0    196.3kb         98.1kb\n",
      "green  open   movies                       I_w6Vlk0SSyvZwUm-rYhmQ   3   2       9742            0      3.6mb          1.2mb\n",
      "green  open   security-auditlog-2022.08.25 0qMszdeAQ9C2hJE_5Jd4Rg   1   1         23            0    117.8kb         86.4kb\n",
      "green  open   security-auditlog-2022.08.28 oXk7eliZTPCBLdBA7hsVFg   1   1          4            0    147.3kb         73.6kb\n",
      "green  open   security-auditlog-2022.08.27 n5v0fUJBT4eydAZ7oAwtXQ   1   1         14            0    220.9kb        110.4kb\n",
      "green  open   security-auditlog-2022.08.29 kCkhia08QZeCUl0Lt4c-1A   1   1         10            0    369.9kb        184.9kb\n",
      "green  open   logstash-rss-news-2022.10.10 J-nTf4WPTxSkTakRT-btZQ   1   1       1329            0      1.2mb        711.5kb\n",
      "green  open   logstash-rss-news-2022.10.11 KL4QwtSgQ4qJZ6ooP7aPWg   1   1       1314            0      1.3mb        669.6kb\n",
      "green  open   logstash-rss-news-2022.10.12 vb5vBKQGS2CL_55qs4tmnA   1   1        920            0    944.4kb        436.8kb\n",
      "green  open   logstash-rss-news-2022.09.30 VJfBik7rRCimWjkkr2PjOg   1   1       1498            0      1.4mb        660.8kb\n",
      "green  open   .kibana_92668751_admin_1     9A3tNDYzRhKJt8SZPvVfCQ   1   1          4            0     87.1kb         43.5kb\n",
      "green  open   testing                      FItyDRNBTvehHHGTclgifA   3   2          0            7     56.4kb         21.6kb\n",
      "green  open   security-auditlog-2022.08.16 TVWmUysxTuyq805whcFXRA   1   1        691            0      1.3mb          690kb\n",
      "green  open   security-auditlog-2022.08.19 TE0Ngb-ARReWwpM11DiQEg   1   1         17            0    283.9kb        141.9kb\n",
      "green  open   security-auditlog-2022.09.10 OITuuPH7Q5CbYoArwgPRNg   1   1         15            0    163.1kb         81.5kb\n",
      "green  open   security-auditlog-2022.09.13 G3Zd0vR7Td-eQIEgfsfCFw   1   1         15            0    238.6kb        119.3kb\n",
      "green  open   security-auditlog-2022.09.14 bDFhhbktSwKWebTLaBy5WQ   1   1         15            0    240.6kb        120.3kb\n",
      "green  open   security-auditlog-2022.09.11 07RrrL_SQ7qpazPZp2kbFA   1   1         22            0    135.7kb        103.1kb\n",
      "green  open   security-auditlog-2022.09.12 2vrlt9rNSzaCb-U4AbPclQ   1   1         23            0     66.9kb         33.4kb\n",
      "green  open   security-auditlog-2022.10.06 d3aaCXjoQreNCJFDMdFpYw   1   1         22            0    431.6kb        215.8kb\n",
      "green  open   security-auditlog-2022.09.17 uRpHKaJKSjOm6FoypEQfmg   1   1          6            0    228.7kb        114.3kb\n",
      "green  open   security-auditlog-2022.10.07 87bdA9iERqej1BPV2FGRTQ   1   1         14            0    289.7kb         97.9kb\n",
      "green  open   security-auditlog-2022.09.18 dgmtjB-DRJiJH7QfsbWCww   1   1         23            0     63.1kb         31.5kb\n",
      "green  open   security-auditlog-2022.10.08 mv3APzfTSziarXkjyiJSOQ   1   1         14            0    179.4kb         81.4kb\n",
      "green  open   security-auditlog-2022.09.15 ZiJP5CjgTr2mXgQKq7_PnA   1   1         23            0     66.3kb         33.1kb\n",
      "green  open   security-auditlog-2022.10.09 WwN5gixgRgaUxEqrJC34OQ   1   1         22            0    212.9kb        180.9kb\n",
      "green  open   security-auditlog-2022.09.16 WSz_qTC7SG6hF5afdeBsFw   1   1         14            0    159.3kb         79.6kb\n",
      "green  open   security-auditlog-2022.10.02 eOq-0BkuT2ass56FvfHc8A   1   1         22            0    368.7kb        184.3kb\n",
      "green  open   mapping-explosion            QKNpQlLkQeOLRPDQsv3DUA   1   1          2            0     23.6kb         11.8kb\n",
      "green  open   security-auditlog-2022.10.03 N-zTPDbaTZGy8OYXmlJ4TA   1   1         22            0    134.7kb        101.9kb\n",
      "green  open   security-auditlog-2022.09.19 v6q33VVhRCmR_CW6w41Pbw   1   1         14            0    231.5kb        115.7kb\n",
      "green  open   security-auditlog-2022.10.04 H1dxpNDiSFy4PQHqnPIG9w   1   1         22            0    227.8kb        196.4kb\n",
      "green  open   security-auditlog-2022.10.05 QNVMIkVFSdehzvTyDmk-Lw   1   1         22            0    196.7kb         98.3kb\n",
      "green  open   security-auditlog-2022.10.01 LG2iRGSXRwezmiQUFYqC_Q   1   1         12            0    123.5kb         61.7kb\n",
      "green  open   security-auditlog-2022.08.31 h9TVsT_VQnyqE5ZTl7FZVg   1   1         21            0     63.4kb         31.7kb\n",
      "green  open   security-auditlog-2022.08.30 oEqxhuwBSx6OQe8oLmbA8A   1   1         18            0    191.5kb        160.1kb\n",
      "green  open   security-auditlog-2022.09.02 b6DzEgGWTVGfCvwFHyZw_A   1   1         48            0    358.3kb        179.1kb\n",
      "green  open   security-auditlog-2022.09.03 J4hkbw-AQeeobVFuTK7Y_w   1   1          4            0    147.5kb         73.7kb\n",
      "green  open   security-auditlog-2022.09.01 ZBsR36y8QHSqeQ5KBwseyw   1   1        624            0      1.5mb        812.3kb\n",
      "green  open   security-auditlog-2022.09.06 UU-HRQNWQmmjUcpQosap6A   1   1         23            0     63.9kb         31.9kb\n",
      "green  open   security-auditlog-2022.09.07 it65a1C5T5uG2dQYx_AKEA   1   1         14            0      199kb         99.5kb\n",
      "green  open   security-auditlog-2022.09.04 Ccn_HdQoQletipyLFmvcWA   1   1          9            0    340.3kb        170.1kb\n",
      "green  open   security-auditlog-2022.09.05 3L1xkUWwTf6MXsYRZpYNww   1   1         15            0    230.6kb        115.3kb\n",
      "green  open   security-auditlog-2022.09.08 vGUyrKpBSfeLQ8utqLRHSg   1   1         14            0    237.2kb        118.6kb\n",
      "green  open   security-auditlog-2022.09.09 6xEWUKdXQIGxPFZl2v-EnQ   1   1          4            0    147.5kb         73.7kb\n",
      "green  open   logstash-rss-news-2022.08.19 oL7t7k45QIKwJDkjNJjJ8w   1   1        763            0    885.8kb        454.8kb\n",
      "green  open   security-auditlog-2022.09.30 TqdFSmUBQ_ugjtL_DpHd6Q   1   1         14            0    163.5kb         81.6kb\n",
      "green  open   logstash-rss-news-2022.08.22 6YNj4J5TTme8kjBspPd3ug   1   1       1396            0      1.3mb          772kb\n",
      "green  open   logstash-rss-news-2022.08.21 qxf_XvezSqGo-gxJ2YI-cw   1   1       1416            0      1.4mb        722.5kb\n",
      "green  open   .opensearch-observability    QghfWVXNQJGvMjEy61KG2w   1   1          0            0       416b           208b\n",
      "green  open   logstash-rss-news-2022.08.24 P9mKdSydQr-12sjdPYSyNA   1   1       1401            0      1.2mb        665.4kb\n",
      "green  open   logstash-rss-news-2022.08.23 WtgYa885TF2nPX_bD6z8Qg   1   1       1418            0      1.3mb        666.3kb\n",
      "green  open   logstash-rss-news-2022.08.26 4x-kNM0RS9GzCMBJ9lGENg   1   1       1383            0      1.1mb        598.3kb\n",
      "green  open   logstash-rss-news-2022.08.25 FByi-WCuRLK7ypjSlA5DIQ   1   1       1379            0      1.2mb        626.8kb\n",
      "green  open   logstash-rss-news-2022.08.28 IPKis_qFTwSThHWGmIieYA   1   1       1405            0      1.2mb        625.1kb\n",
      "green  open   logstash-rss-news-2022.08.27 5Gcxpt0JTxCvssrVS_wibA   1   1       1392            0      1.2mb        679.1kb\n",
      "green  open   logstash-rss-news-2022.08.20 OVpVRPjzRsydHHBlgUX_ig   1   1       1395            0      1.5mb        806.4kb\n",
      "green  open   security-auditlog-2022.09.20 HAl-EnvaQGWLdL9V4sS-Fw   1   1         23            0    372.2kb        186.1kb\n",
      "green  open   logstash-rss-news-2022.08.29 xjH7bBnGSG6BpJrEt8mvig   1   1       1384            0      1.3mb        675.5kb\n",
      "green  open   security-auditlog-2022.09.21 744DYpi2Q9WrMLFJlh0tEA   1   1         23            0     66.6kb         33.3kb\n",
      "green  open   security-auditlog-2022.09.24 XEW0IZVUSCuSZmZ6p8iY0w   1   1         23            0     67.3kb         33.6kb\n",
      "green  open   security-auditlog-2022.09.25 ee2KCQo_Rx-1HUrsB01mWw   1   1         14            0    196.5kb         98.2kb\n",
      "green  open   security-auditlog-2022.09.22 7BBfLLvoQt2izTswkKbCAQ   1   1         15            0    204.1kb          102kb\n",
      "green  open   security-auditlog-2022.09.23 XyLGdY7uQe-RB21i2VdcLg   1   1         23            0      244kb        207.7kb\n",
      "green  open   security-auditlog-2022.09.28 oM7Cg9DSTbaf0RgvxcpQtg   1   1         22            0    166.6kb         83.3kb\n",
      "green  open   logstash-rss-news-2022.09.02 dakOF84CQNKMNOktnPxDvQ   1   1       1358            0      1.3mb          693kb\n",
      "green  open   logstash-rss-news-2022.09.03 4WNe1ElwQeeXsJ5xdcokKQ   1   1       1450            0      1.5mb        803.1kb\n",
      "green  open   security-auditlog-2022.09.29 9R6CyJGURwq_OFBy3XhTtw   1   1         22            0    335.1kb        167.5kb\n",
      "green  open   security-auditlog-2022.09.26 LIFZ8huYSqukUoMOREZVnA   1   1         14            0    164.1kb           82kb\n",
      "green  open   logstash-rss-news-2022.09.01 pQOkNpsETlq7-dq4dIjcqQ   1   1       1315            0      1.4mb        739.4kb\n",
      "green  open   logstash-rss-news-2022.09.06 gwqcmdNNQq2Y6e_PtsqBtw   1   1       1190            0      1.2mb        640.8kb\n",
      "green  open   logstash-rss-news-2022.09.07 _HXaI7nxSsqMfyTnnzD0Ug   1   1       1086            0      1.1mb        589.6kb\n",
      "green  open   logstash-rss-news-2022.09.04 MGy2slriQkWk38aSeny2KA   1   1       1450            0      1.5mb        801.8kb\n",
      "green  open   logstash-rss-news-2022.09.05 jgo_4hdrS8OV4NkYQ5KsrA   1   1       1441            0      1.3mb        679.5kb\n",
      "green  open   security-auditlog-2022.10.10 GMC6txYJTkm3wPSOMyDFHg   1   1         22            0    444.5kb        222.2kb\n",
      "green  open   security-auditlog-2022.10.11 MlYqvstYTV6nyHJhO7AAIw   1   1       1199            0      5.5mb          2.7mb\n",
      "green  open   security-auditlog-2022.10.12 gQb2loS4RJqyIJhGCmeb0w   1   1        159            0   1000.4kb        598.5kb\n",
      "green  open   logstash-rss-news-2022.08.31 IOEiFblwSQqu2HZqibP-RA   1   1       1387            0      1.5mb        769.3kb\n",
      "green  open   logstash-rss-news-2022.08.30 slzf5apmRi6SC5hHW2RbmA   1   1       1414            0      1.5mb        779.3kb\n",
      "green  open   logstash-rss-news-2022.09.08 C9vlvvK5Sv-vsO19kqTfPw   1   1       1309            0      1.1mb        587.5kb\n",
      "green  open   logstash-rss-news-2022.09.09 H__KGSNbQOi96ZdCUvRE4g   1   1       1349            0      1.1mb          594kb\n",
      "green  open   logstash-rss-news-2022.09.13 6rNes_DyR4ynhqTkhKZbRA   1   1       1324            0      1.2mb        639.9kb\n",
      "green  open   logstash-rss-news-2022.09.14 TjTj34zuRcCGbSOv-lZa5A   1   1       1319            0      1.1mb        575.3kb\n",
      "green  open   logstash-rss-news-2022.09.11 uMiFDK-4Qcaq8z4WRG07Wg   1   1       1363            0      1.1mb        578.8kb\n",
      "green  open   logstash-rss-news-2022.09.12 mWJvroPKRQuqFV92j4mDIQ   1   1       1322            0      1.1mb        605.1kb\n",
      "green  open   logstash-rss-news-2022.09.17 sYqnJVpbSqSFANTPsFDhFg   1   1       1380            0      1.2mb        712.2kb\n",
      "green  open   logstash-rss-news-2022.09.18 M6HE9uPqTUSNmB-Dq4HP8g   1   1       1405            0      1.3mb        696.3kb\n",
      "green  open   logstash-rss-news-2022.09.15 oyjamFOSRl-DhtEZN17SrA   1   1       1371            0      1.4mb        777.6kb\n",
      "green  open   logstash-rss-news-2022.09.16 c4MAweezRMOntR6se46-fA   1   1       1391            0      1.1mb        599.4kb\n",
      "green  open   logstash-rss-news-2022.09.10 QycLUZ8pTa6OUux9z-WQpQ   1   1       1343            0      1.3mb        691.8kb\n",
      "green  open   logstash-rss-news-2022.09.19 b_p-lkuYRXe4JXHVt-FkYA   1   1       1367            0      1.3mb        668.9kb\n",
      "green  open   .kibana_1                    oO7t7QL1RdavTpWIRNFGUA   1   1          2            9     50.1kb         21.6kb\n",
      "green  open   logstash-rss-news-2022.09.24 vfk0BJzPRI6KGdNq_y4ZDA   1   1       1305            0      1.3mb        651.9kb\n",
      "green  open   logstash-rss-news-2022.10.02 lFuW44kJQ0edpJMS_gcQCg   1   1       1484            0      1.5mb        829.1kb\n",
      "green  open   logstash-rss-news-2022.09.25 z5e5x6LOT-6zPt2JPR54LA   1   1       1363            0      1.3mb        674.6kb\n",
      "green  open   logstash-rss-news-2022.10.03 2z0Fiy_eTMCFetlCfCbZQg   1   1       1374            0      1.4mb        716.8kb\n",
      "green  open   logstash-rss-news-2022.10.04 rTVAsxPQQVOnIBUrtTp1ow   1   1       1423            0      1.2mb        653.7kb\n",
      "green  open   logstash-rss-news-2022.09.22 lJWbeJbZRAuC7uUN_EvE4Q   1   1       1170            0      1.1mb        566.3kb\n",
      "green  open   logstash-rss-news-2022.09.23 FTSgW4yiQCOI3p7o2KvW0A   1   1       1176            0      1.2mb        647.1kb\n",
      "green  open   logstash-rss-news-2022.10.05 S96r9UofTYW_8v_kdgqgKg   1   1       1418            0      1.4mb        776.3kb\n",
      "green  open   logstash-rss-news-2022.09.28 DRivTjZARMy0MXv9RiEGbA   1   1        941            0    986.3kb        492.7kb\n",
      "green  open   logstash-rss-news-2022.09.29 1pPMnJ8XTiikPReWKgsdAA   1   1       1457            0      1.2mb        659.7kb\n",
      "green  open   logstash-rss-news-2022.09.26 IiYphaKGS7uZ5hSc69QLYg   1   1        701            0    921.4kb        460.7kb\n",
      "green  open   logstash-rss-news-2022.10.01 DJeGpOFUQKqy8TvRBPZqqw   1   1       1488            0      1.5mb          778kb\n",
      "green  open   logstash-rss-news-2022.09.20 Rz9CuMm9TtaTHlOz4w9Lwg   1   1       1270            0      1.2mb        593.4kb\n",
      "green  open   logstash-rss-news-2022.10.06 UCKjcZ28TQaXLat4pcBFrA   1   1       1352            0      1.2mb        655.7kb\n",
      "green  open   logstash-rss-news-2022.10.07 DSlBBIjFQsm5cd4rWGu57g   1   1       1317            0      1.4mb        737.3kb\n",
      "green  open   logstash-rss-news-2022.09.21 4Ib49XhQRXu8RMP13weqEA   1   1       1061            0        1mb        586.7kb\n",
      "green  open   logstash-rss-news-2022.10.08 z_D4ZN2kQmC7lBEDA2WjyQ   1   1       1364            0      1.3mb        673.2kb\n",
      "green  open   logstash-rss-news-2022.10.09 tZYcw5eRQIGQONFRcaqjfg   1   1       1401            0      1.3mb        751.8kb\n"
     ]
    }
   ],
   "source": [
    "%%bash\n",
    "curl --silent --insecure -u ${OPENSEARCH_USER}:${OPENSEARCH_PASSWD} \\\n",
    "    -X GET \\\n",
    "    \"https://${OPENSEARCH_HOST}:${OPENSEARCH_PORT}/_cat/indices?v&pretty\""
   ]
  },
  {
   "cell_type": "markdown",
   "metadata": {},
   "source": [
    "- Delete an index:\n",
    "```\n",
    "DELETE /<index-name>\n",
    "```"
   ]
  },
  {
   "cell_type": "code",
   "execution_count": 60,
   "metadata": {},
   "outputs": [
    {
     "name": "stdout",
     "output_type": "stream",
     "text": [
      "{\"acknowledged\":true}"
     ]
    }
   ],
   "source": [
    "%%bash\n",
    "curl --silent --insecure -u ${OPENSEARCH_USER}:${OPENSEARCH_PASSWD} \\\n",
    "    -X DELETE \\\n",
    "    \"https://${OPENSEARCH_HOST}:${OPENSEARCH_PORT}/testing\""
   ]
  },
  {
   "cell_type": "markdown",
   "metadata": {},
   "source": [
    "- List the nodes in the cluster\n",
    "    ```\n",
    "    GET /_cat/nodes\n",
    "    ```"
   ]
  },
  {
   "cell_type": "code",
   "execution_count": 62,
   "metadata": {},
   "outputs": [
    {
     "name": "stdout",
     "output_type": "stream",
     "text": [
      "10.38.28.8   60 99 0 0.51 0.27 0.20 dimr * opensearch-3\n",
      "10.38.28.237 10 74 0 0.02 0.02 0.00 dimr - opensearch-1\n",
      "10.38.27.170 41 99 0 0.19 0.07 0.04 dimr - opensearch-2\n"
     ]
    }
   ],
   "source": [
    "%%bash\n",
    "curl --silent --insecure -u ${OPENSEARCH_USER}:${OPENSEARCH_PASSWD} \\\n",
    "    -X GET \\\n",
    "    \"https://${OPENSEARCH_HOST}:${OPENSEARCH_PORT}/_cat/nodes?pretty\""
   ]
  },
  {
   "cell_type": "markdown",
   "metadata": {},
   "source": [
    "### Cluster APIs\n",
    "- Cluster health\n",
    "    ```\n",
    "    GET /_cat/health?v\n",
    "    ```"
   ]
  },
  {
   "cell_type": "code",
   "execution_count": 64,
   "metadata": {},
   "outputs": [
    {
     "name": "stdout",
     "output_type": "stream",
     "text": [
      "epoch      timestamp cluster              status node.total node.data discovered_master shards pri relo init unassign pending_tasks max_task_wait_time active_shards_percent\n",
      "1665596187 17:36:27  opensearch-cesga-dev green           3         3              true    247 120    0    0        0             0                  -                100.0%\n"
     ]
    }
   ],
   "source": [
    "%%bash\n",
    "curl --silent --insecure -u ${OPENSEARCH_USER}:${OPENSEARCH_PASSWD} \\\n",
    "    -X GET \\\n",
    "    \"https://${OPENSEARCH_HOST}:${OPENSEARCH_PORT}/_cat/health?v\""
   ]
  },
  {
   "cell_type": "markdown",
   "metadata": {},
   "source": [
    "### Advanced: Full custom analyzer declaration\n",
    "Just in case that you want to fine tune the analyzer used for text fields you can do it by configuring it in the index:\n",
    "\n",
    "```json\n",
    "PUT /testing\n",
    "{\n",
    "  \"settings\": {\n",
    "    \"analysis\": {\n",
    "      \"filter\": {\n",
    "        \"english_stop\": {\n",
    "          \"type\":       \"stop\",\n",
    "          \"stopwords\":  \"_english_\"\n",
    "        },\n",
    "        \"english_stemmer\": {\n",
    "          \"type\":       \"stemmer\",\n",
    "          \"language\":   \"english\"\n",
    "        }\n",
    "      },\n",
    "      \"analyzer\": {\n",
    "        \"my_custom_english_analyzer\": {\n",
    "          \"char_filter\":  [\"html_strip\"],\n",
    "          \"tokenizer\":  \"standard\",\n",
    "          \"filter\": [\n",
    "            \"lowercase\",\n",
    "            \"english_stop\",\n",
    "            \"english_stemmer\"\n",
    "          ]\n",
    "        }\n",
    "      }\n",
    "    }\n",
    "  }\n",
    "}\n",
    "```"
   ]
  },
  {
   "cell_type": "markdown",
   "metadata": {},
   "source": [
    "## References\n",
    "- [Elasticsearch Cheat Sheet for developers](https://elasticsearch-cheatsheet.jolicode.com/)"
   ]
  }
 ],
 "metadata": {
  "kernelspec": {
   "display_name": "Python 3",
   "language": "python",
   "name": "python3"
  },
  "language_info": {
   "codemirror_mode": {
    "name": "ipython",
    "version": 3
   },
   "file_extension": ".py",
   "mimetype": "text/x-python",
   "name": "python",
   "nbconvert_exporter": "python",
   "pygments_lexer": "ipython3",
   "version": "3.7.6"
  }
 },
 "nbformat": 4,
 "nbformat_minor": 4
}
