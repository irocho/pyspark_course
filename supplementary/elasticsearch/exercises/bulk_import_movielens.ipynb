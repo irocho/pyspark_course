{
 "cells": [
  {
   "cell_type": "markdown",
   "metadata": {},
   "source": [
    "# Bulk import: Movielens dataset\n",
    "\n",
    "In this lab we are going to import the Movielens dataset into the `movies` index in ElasticSearch.\n",
    "\n",
    "If you do not have your own OpenSearch instance running you can import it in the `movies.cursoXXX` index in the main ElasticSearch cluster.\n",
    "\n",
    "The format of the `movies.csv` is the following:\n",
    "```\n",
    "movieId,title,genres\n",
    "1,Toy Story (1995),Adventure|Animation|Children|Comedy|Fantasy\n",
    "2,Jumanji (1995),Adventure|Children|Fantasy\n",
    "```\n",
    "\n",
    "The first line is the header and then we have the data for each film.\n",
    "\n",
    "We would want to import it with the following fields:\n",
    "- movieId\n",
    "- title\n",
    "- year\n",
    "- genres\n",
    "\n",
    "So we will have to split the csv title field in two parts: the title and the year.\n",
    "\n",
    "We will also have to parse the genres and create a list with them.\n",
    "\n",
    "The objective is to generate a json file with this format:\n",
    "```\n",
    "{\"create\": {\"_index\": \"movies\", \"_id\": 1}}\n",
    "{\"movieId\": 1, \"title\": \"Toy Story\", \"year\": \"1995\", \"genres\": [\"Adventure\", \"Animation\", \"Children\", \"Comedy\", \"Fantasy\"]}\n",
    "{\"create\": {\"_index\": \"movies\", \"_id\": 2}}\n",
    "{\"movieId\": 2, \"title\": \"Jumanji\", \"year\": \"1995\", \"genres\": [\"Adventure\", \"Children\", \"Fantasy\"]}\n",
    "```"
   ]
  },
  {
   "cell_type": "markdown",
   "metadata": {},
   "source": [
    "## Configuring the environment to point to our OpenSearch instance\n",
    "\n",
    "Remember that before launching the following commands we have to set up the configuration variables for our opensearch instance:"
   ]
  },
  {
   "cell_type": "code",
   "execution_count": null,
   "metadata": {},
   "outputs": [],
   "source": [
    "%%bash\n",
    "mkdir ${HOME}/bash"
   ]
  },
  {
   "cell_type": "markdown",
   "metadata": {},
   "source": [
    "Now we will set up the pointers for our cluster. Set the IP address corresponding to your instance in `OPENSEARCH_HOST` variable:"
   ]
  },
  {
   "cell_type": "code",
   "execution_count": null,
   "metadata": {},
   "outputs": [],
   "source": [
    "%%writefile ${HOME}/bash/opensearch\n",
    "OPENSEARCH_HOST=\"10.133.29.238\"\n",
    "OPENSEARCH_PORT=9200\n",
    "OPENSEARCH_USER=\"admin\"\n",
    "OPENSEARCH_PASSWD=\"admin\"\n",
    "\n",
    "DATASET_LOCATION=\"/opt/cesga/cursos/pyspark_2022/datasets/\"\n",
    "\n",
    "export OPENSEARCH_HOST OPENSEARCH_PORT OPENSEARCH_USER OPENSEARCH_PASSWD DATASET_LOCATION"
   ]
  },
  {
   "cell_type": "markdown",
   "metadata": {},
   "source": [
    "Then load it with:\n",
    "```bash\n",
    "source ${HOME}/bash/opensearch\n",
    "```\n",
    "and restart the notebook."
   ]
  },
  {
   "cell_type": "markdown",
   "metadata": {},
   "source": [
    "## Converting the csv file to bulk format\n",
    "\n",
    "You can use the `convert_csv_to_bulk_format.py` script to do the conversion of the csv to the bulk format."
   ]
  },
  {
   "cell_type": "code",
   "execution_count": null,
   "metadata": {},
   "outputs": [],
   "source": [
    "%%bash\n",
    "\n",
    "module load anaconda3\n",
    "python3 convert_csv_to_bulk_format.py ${DATASET_LOCATION}/movielens-latest-small/movies.csv movies.${USER} > movies-bulk.json"
   ]
  },
  {
   "cell_type": "markdown",
   "metadata": {},
   "source": [
    "The bulk file generated will publish the data to the `movies.${USER}` index."
   ]
  },
  {
   "cell_type": "markdown",
   "metadata": {},
   "source": [
    "## Importing with dynamic mapping\n",
    "We will start importing the data using **dynamic mapping** (just remember to add `cursoXXX` if needed)."
   ]
  },
  {
   "cell_type": "code",
   "execution_count": null,
   "metadata": {},
   "outputs": [],
   "source": [
    "%%bash\n",
    "\n",
    "curl --insecure -u ${OPENSEARCH_USER}:${OPENSEARCH_PASSWD} \\\n",
    "    -X PUT -H \"Content-Type: application/json\" \\\n",
    "    --data-binary @movies-bulk.json \\\n",
    "    \"https://${OPENSEARCH_HOST}:${OPENSEARCH_PORT}/_bulk\""
   ]
  },
  {
   "cell_type": "markdown",
   "metadata": {},
   "source": [
    "Let's see the mappings generated:"
   ]
  },
  {
   "cell_type": "code",
   "execution_count": 5,
   "metadata": {},
   "outputs": [
    {
     "name": "stdout",
     "output_type": "stream",
     "text": [
      "{\n",
      "  \"movies\" : {\n",
      "    \"aliases\" : { },\n",
      "    \"mappings\" : {\n",
      "      \"properties\" : {\n",
      "        \"genres\" : {\n",
      "          \"type\" : \"text\",\n",
      "          \"fields\" : {\n",
      "            \"keyword\" : {\n",
      "              \"type\" : \"keyword\",\n",
      "              \"ignore_above\" : 256\n",
      "            }\n",
      "          }\n",
      "        },\n",
      "        \"movieId\" : {\n",
      "          \"type\" : \"long\"\n",
      "        },\n",
      "        \"title\" : {\n",
      "          \"type\" : \"text\",\n",
      "          \"fields\" : {\n",
      "            \"keyword\" : {\n",
      "              \"type\" : \"keyword\",\n",
      "              \"ignore_above\" : 256\n",
      "            }\n",
      "          }\n",
      "        },\n",
      "        \"year\" : {\n",
      "          \"type\" : \"text\",\n",
      "          \"fields\" : {\n",
      "            \"keyword\" : {\n",
      "              \"type\" : \"keyword\",\n",
      "              \"ignore_above\" : 256\n",
      "            }\n",
      "          }\n",
      "        }\n",
      "      }\n",
      "    },\n",
      "    \"settings\" : {\n",
      "      \"index\" : {\n",
      "        \"creation_date\" : \"1665525672302\",\n",
      "        \"number_of_shards\" : \"1\",\n",
      "        \"number_of_replicas\" : \"1\",\n",
      "        \"uuid\" : \"5GRKQkJpR7yUaXogc2CYPA\",\n",
      "        \"version\" : {\n",
      "          \"created\" : \"135248227\"\n",
      "        },\n",
      "        \"provided_name\" : \"movies\"\n",
      "      }\n",
      "    }\n",
      "  }\n",
      "}\n"
     ]
    }
   ],
   "source": [
    "%%bash\n",
    "\n",
    "curl --silent --insecure -u ${OPENSEARCH_USER}:${OPENSEARCH_PASSWD} \\\n",
    "    -X GET \\\n",
    "    \"https://${OPENSEARCH_HOST}:${OPENSEARCH_PORT}/movies.${USER}?pretty\""
   ]
  },
  {
   "cell_type": "markdown",
   "metadata": {},
   "source": [
    "We see that the `year` field has been detected as `text` instead of `date`, so let's try to improve it using explicit mapping.\n",
    "\n",
    "We also see that the number of shards is set to 1 and the number of replicas also to 1, but in our cluster of 3 nodes the most efficient way of storing data is using 3 primary shards and 2 replicas."
   ]
  },
  {
   "cell_type": "markdown",
   "metadata": {},
   "source": [
    "## Using explicit mapping\n",
    "We could use dynamic mapping, but in this case we will use **explicit mapping** so we can set the number of shards and the type of the `year` field as `date`:"
   ]
  },
  {
   "cell_type": "markdown",
   "metadata": {},
   "source": [
    "NOTE: This settings are the optimal for a 3 node cluster, if you are using your 1 node cluster, then you have to set `number_of_shards` as 1, and `number_of_replicas` as 0."
   ]
  },
  {
   "cell_type": "markdown",
   "metadata": {},
   "source": [
    "First we have to delete the index:"
   ]
  },
  {
   "cell_type": "code",
   "execution_count": 5,
   "metadata": {},
   "outputs": [
    {
     "name": "stdout",
     "output_type": "stream",
     "text": [
      "{\n",
      "  \"acknowledged\" : true\n",
      "}\n"
     ]
    }
   ],
   "source": [
    "%%bash\n",
    "\n",
    "curl --silent --insecure -u ${OPENSEARCH_USER}:${OPENSEARCH_PASSWD} \\\n",
    "    -X DELETE \\\n",
    "    \"https://${OPENSEARCH_HOST}:${OPENSEARCH_PORT}/movies.${USER}?pretty\""
   ]
  },
  {
   "cell_type": "markdown",
   "metadata": {},
   "source": [
    "And now we can re-create it with the right settings:"
   ]
  },
  {
   "cell_type": "code",
   "execution_count": 6,
   "metadata": {},
   "outputs": [
    {
     "name": "stdout",
     "output_type": "stream",
     "text": [
      "{\"acknowledged\":true,\"shards_acknowledged\":true,\"index\":\"movies\"}"
     ]
    }
   ],
   "source": [
    "%%bash\n",
    "\n",
    "curl --silent --insecure -u ${OPENSEARCH_USER}:${OPENSEARCH_PASSWD} \\\n",
    "    -X PUT -H \"Content-Type: application/json\" \\\n",
    "    \"https://${OPENSEARCH_HOST}:${OPENSEARCH_PORT}/movies.${USER}\" -d '\n",
    "{\n",
    "    \"settings\" : {\n",
    "        \"index\" : {\n",
    "            \"number_of_shards\" : \"3\",\n",
    "            \"number_of_replicas\" : \"2\"\n",
    "        }\n",
    "    },\n",
    "    \"mappings\": {\n",
    "        \"properties\": {\n",
    "            \"year\": {\"type\": \"date\"}\n",
    "        }\n",
    "    }\n",
    "}'"
   ]
  },
  {
   "cell_type": "markdown",
   "metadata": {},
   "source": [
    "Let's verify, that it has the right settings:"
   ]
  },
  {
   "cell_type": "code",
   "execution_count": 7,
   "metadata": {},
   "outputs": [
    {
     "name": "stdout",
     "output_type": "stream",
     "text": [
      "{\n",
      "  \"movies\" : {\n",
      "    \"aliases\" : { },\n",
      "    \"mappings\" : {\n",
      "      \"properties\" : {\n",
      "        \"year\" : {\n",
      "          \"type\" : \"date\"\n",
      "        }\n",
      "      }\n",
      "    },\n",
      "    \"settings\" : {\n",
      "      \"index\" : {\n",
      "        \"creation_date\" : \"1665593792768\",\n",
      "        \"number_of_shards\" : \"3\",\n",
      "        \"number_of_replicas\" : \"2\",\n",
      "        \"uuid\" : \"I_w6Vlk0SSyvZwUm-rYhmQ\",\n",
      "        \"version\" : {\n",
      "          \"created\" : \"135248227\"\n",
      "        },\n",
      "        \"provided_name\" : \"movies\"\n",
      "      }\n",
      "    }\n",
      "  }\n",
      "}\n"
     ]
    }
   ],
   "source": [
    "%%bash\n",
    "\n",
    "curl --silent --insecure -u ${OPENSEARCH_USER}:${OPENSEARCH_PASSWD} \\\n",
    "    -X GET \\\n",
    "    \"https://${OPENSEARCH_HOST}:${OPENSEARCH_PORT}/movies.${USER}?pretty\""
   ]
  },
  {
   "cell_type": "markdown",
   "metadata": {},
   "source": [
    "As you can see only the `year` fiels appears right now: until we import the data **the other fields do not appear yet because ElasticSearch has not seen them yet**."
   ]
  },
  {
   "cell_type": "markdown",
   "metadata": {},
   "source": [
    "## Importing the data\n",
    "Let's import now the data into the existing index:"
   ]
  },
  {
   "cell_type": "code",
   "execution_count": null,
   "metadata": {},
   "outputs": [],
   "source": [
    "%%bash\n",
    "\n",
    "curl --silent --insecure -u ${OPENSEARCH_USER}:${OPENSEARCH_PASSWD} \\\n",
    "    -X PUT -H \"Content-Type: application/json\" \\\n",
    "    --data-binary @movies-bulk.json \\\n",
    "    \"https://${OPENSEARCH_HOST}:${OPENSEARCH_PORT}/_bulk\""
   ]
  },
  {
   "cell_type": "markdown",
   "metadata": {},
   "source": [
    "## Verifying the mapping"
   ]
  },
  {
   "cell_type": "code",
   "execution_count": 9,
   "metadata": {},
   "outputs": [
    {
     "name": "stdout",
     "output_type": "stream",
     "text": [
      "{\n",
      "  \"movies\" : {\n",
      "    \"aliases\" : { },\n",
      "    \"mappings\" : {\n",
      "      \"properties\" : {\n",
      "        \"genres\" : {\n",
      "          \"type\" : \"text\",\n",
      "          \"fields\" : {\n",
      "            \"keyword\" : {\n",
      "              \"type\" : \"keyword\",\n",
      "              \"ignore_above\" : 256\n",
      "            }\n",
      "          }\n",
      "        },\n",
      "        \"movieId\" : {\n",
      "          \"type\" : \"long\"\n",
      "        },\n",
      "        \"title\" : {\n",
      "          \"type\" : \"text\",\n",
      "          \"fields\" : {\n",
      "            \"keyword\" : {\n",
      "              \"type\" : \"keyword\",\n",
      "              \"ignore_above\" : 256\n",
      "            }\n",
      "          }\n",
      "        },\n",
      "        \"year\" : {\n",
      "          \"type\" : \"date\"\n",
      "        }\n",
      "      }\n",
      "    },\n",
      "    \"settings\" : {\n",
      "      \"index\" : {\n",
      "        \"creation_date\" : \"1665593792768\",\n",
      "        \"number_of_shards\" : \"3\",\n",
      "        \"number_of_replicas\" : \"2\",\n",
      "        \"uuid\" : \"I_w6Vlk0SSyvZwUm-rYhmQ\",\n",
      "        \"version\" : {\n",
      "          \"created\" : \"135248227\"\n",
      "        },\n",
      "        \"provided_name\" : \"movies\"\n",
      "      }\n",
      "    }\n",
      "  }\n",
      "}\n"
     ]
    }
   ],
   "source": [
    "%%bash\n",
    "\n",
    "curl --silent --insecure -u ${OPENSEARCH_USER}:${OPENSEARCH_PASSWD} \\\n",
    "    -X GET \\\n",
    "    \"https://${OPENSEARCH_HOST}:${OPENSEARCH_PORT}/movies.${USER}?pretty\""
   ]
  }
 ],
 "metadata": {
  "kernelspec": {
   "display_name": "Python 3",
   "language": "python",
   "name": "python3"
  },
  "language_info": {
   "codemirror_mode": {
    "name": "ipython",
    "version": 3
   },
   "file_extension": ".py",
   "mimetype": "text/x-python",
   "name": "python",
   "nbconvert_exporter": "python",
   "pygments_lexer": "ipython3",
   "version": "3.7.6"
  }
 },
 "nbformat": 4,
 "nbformat_minor": 4
}
