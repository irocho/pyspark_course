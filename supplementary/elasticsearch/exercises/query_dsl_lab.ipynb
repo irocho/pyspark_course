{
 "cells": [
  {
   "cell_type": "markdown",
   "metadata": {},
   "source": [
    "# Query DSL Lab"
   ]
  },
  {
   "cell_type": "markdown",
   "metadata": {},
   "source": [
    "Remember that before launching the notebook you have to load the [opensearch settings file](../bash/opensearch):\n",
    "\n",
    "```\n",
    "source bash/opensearch\n",
    "```\n",
    "\n",
    "**You will have to edit the file and set the remote address of your opensearch instance.**"
   ]
  },
  {
   "cell_type": "markdown",
   "metadata": {},
   "source": [
    "## Loading the datasets"
   ]
  },
  {
   "cell_type": "code",
   "execution_count": null,
   "metadata": {},
   "outputs": [],
   "source": [
    "%%bash\n",
    "\n",
    "cd ${DATASET_LOCATION}/movielens-latest-small\n",
    "\n",
    "# movies\n",
    "curl --silent --insecure -u ${OPENSEARCH_USER}:${OPENSEARCH_PASSWD} \\\n",
    "    -X DELETE \\\n",
    "    \"https://${OPENSEARCH_HOST}:${OPENSEARCH_PORT}/movies?pretty\"\n",
    "    \n",
    "curl --silent --insecure -u ${OPENSEARCH_USER}:${OPENSEARCH_PASSWD} \\\n",
    "    -X PUT -H \"Content-Type: application/json\" \\\n",
    "    --data-binary @movies-index.json \\\n",
    "    \"https://${OPENSEARCH_HOST}:${OPENSEARCH_PORT}/movies\"\n",
    "    \n",
    "curl --silent --insecure -u ${OPENSEARCH_USER}:${OPENSEARCH_PASSWD} \\\n",
    "    -X PUT -H \"Content-Type: application/json\" \\\n",
    "    --data-binary @movies-bulk.json \\\n",
    "    \"https://${OPENSEARCH_HOST}:${OPENSEARCH_PORT}/_bulk\" > /dev/null"
   ]
  },
  {
   "cell_type": "code",
   "execution_count": null,
   "metadata": {},
   "outputs": [],
   "source": [
    "%%bash\n",
    "\n",
    "cd ${DATASET_LOCATION}/movielens-latest-small\n",
    "\n",
    "# movies-tuned\n",
    "curl --silent --insecure -u ${OPENSEARCH_USER}:${OPENSEARCH_PASSWD} \\\n",
    "    -X DELETE \\\n",
    "    \"https://${OPENSEARCH_HOST}:${OPENSEARCH_PORT}/movies-tuned?pretty\"\n",
    "    \n",
    "curl --silent --insecure -u ${OPENSEARCH_USER}:${OPENSEARCH_PASSWD} \\\n",
    "    -X PUT -H \"Content-Type: application/json\" \\\n",
    "    --data-binary @movies-tuned-index.json \\\n",
    "    \"https://${OPENSEARCH_HOST}:${OPENSEARCH_PORT}/movies-tuned\"\n",
    "    \n",
    "curl --silent --insecure -u ${OPENSEARCH_USER}:${OPENSEARCH_PASSWD} \\\n",
    "    -X PUT -H \"Content-Type: application/json\" \\\n",
    "    --data-binary @movies-tuned-bulk.json \\\n",
    "    \"https://${OPENSEARCH_HOST}:${OPENSEARCH_PORT}/_bulk\" > /dev/null"
   ]
  },
  {
   "cell_type": "code",
   "execution_count": null,
   "metadata": {},
   "outputs": [],
   "source": [
    "%%bash\n",
    "\n",
    "cd ${DATASET_LOCATION}/movielens-latest-small\n",
    "\n",
    "# ratings\n",
    "curl --silent --insecure -u ${OPENSEARCH_USER}:${OPENSEARCH_PASSWD} \\\n",
    "    -X DELETE \\\n",
    "    \"https://${OPENSEARCH_HOST}:${OPENSEARCH_PORT}/ratings?pretty\"\n",
    "    \n",
    "curl --silent --insecure -u ${OPENSEARCH_USER}:${OPENSEARCH_PASSWD} \\\n",
    "    -X PUT -H \"Content-Type: application/json\" \\\n",
    "    --data-binary @ratings-index.json \\\n",
    "    \"https://${OPENSEARCH_HOST}:${OPENSEARCH_PORT}/ratings\"\n",
    "    \n",
    "curl --silent --insecure -u ${OPENSEARCH_USER}:${OPENSEARCH_PASSWD} \\\n",
    "    -X PUT -H \"Content-Type: application/json\" \\\n",
    "    --data-binary @ratings-bulk.json \\\n",
    "    \"https://${OPENSEARCH_HOST}:${OPENSEARCH_PORT}/_bulk\" > /dev/null"
   ]
  },
  {
   "cell_type": "markdown",
   "metadata": {},
   "source": [
    "## Let's practice"
   ]
  },
  {
   "cell_type": "markdown",
   "metadata": {},
   "source": [
    "### Total number of ratings\n",
    "How many ratins do we have in the `ratings` index?"
   ]
  },
  {
   "cell_type": "code",
   "execution_count": null,
   "metadata": {},
   "outputs": [],
   "source": [
    "%%bash\n",
    "\n",
    "curl --silent --insecure -u ${OPENSEARCH_USER}:${OPENSEARCH_PASSWD} \\\n",
    "    -X GET \\\n",
    "    \"https://${OPENSEARCH_HOST}:${OPENSEARCH_PORT}/:index_name/:method_name?pretty\""
   ]
  },
  {
   "cell_type": "markdown",
   "metadata": {},
   "source": [
    "### Star Trek films sorted by year\n",
    "Using the `movies-tuned` index, Look for Star Trek films sorted by year (most recent first). Show the title and the year of the film."
   ]
  },
  {
   "cell_type": "code",
   "execution_count": null,
   "metadata": {},
   "outputs": [],
   "source": [
    "%%bash\n",
    "\n",
    "curl --silent --insecure -u ${OPENSEARCH_USER}:${OPENSEARCH_PASSWD} \\\n",
    "    -X GET -H \"Content-Type: application/json\" \\\n",
    "    \"https://${OPENSEARCH_HOST}:${OPENSEARCH_PORT}/movies-tuned/_search?pretty\" -d '\n",
    "{\n",
    "    \"query\" : {\n",
    "        \"...\" : {\n",
    "            \"title\": \"...\"\n",
    "        }\n",
    "    },\n",
    "    \"sort\": [\n",
    "        {\"...\": {\"...\": \"...\"}}\n",
    "    ],\n",
    "    \"_source\": [\"...\", \"...\"]\n",
    "}'"
   ]
  },
  {
   "cell_type": "markdown",
   "metadata": {},
   "source": [
    "### Star Trek films average rating\n",
    "Using the `ratings` index, compute the average rating of the Star Trek films.\n",
    "\n",
    "Show the title and the year of the film.\n",
    "\n",
    "Notice that we have to use the `title.raw` field for sorting, if you try to use the `title` field you will get an error."
   ]
  },
  {
   "cell_type": "code",
   "execution_count": null,
   "metadata": {},
   "outputs": [],
   "source": [
    "%%bash\n",
    "\n",
    "curl --silent --insecure -u ${OPENSEARCH_USER}:${OPENSEARCH_PASSWD} \\\n",
    "    -X GET -H \"Content-Type: application/json\" \\\n",
    "    \"https://${OPENSEARCH_HOST}:${OPENSEARCH_PORT}/ratings/_search?pretty\" -d '\n",
    "{\n",
    "    \"query\" : {\n",
    "        \"match_phrase\" : {\n",
    "            \"title\": \"star trek\"\n",
    "        }\n",
    "    },\n",
    "    \"aggs\": {\n",
    "        \"per_film\": {\n",
    "            \"...\": {\n",
    "                \"field\": \"title.raw\"\n",
    "            },\n",
    "            \"aggs\": {\n",
    "                \"avg_rating\": {\n",
    "                    \"avg\": {\n",
    "                        \"field\": \"rating\"\n",
    "                    }\n",
    "                }\n",
    "            }\n",
    "        }\n",
    "    },\n",
    "    \"size\": 0\n",
    "}'"
   ]
  },
  {
   "cell_type": "markdown",
   "metadata": {},
   "source": [
    "### Sci-Fi and Action films from 2000 to 2010 not Star Trek and preferably Superman or Batman movies\n",
    "Using the `movies-tuned` index, look for Sci-Fi and Action films from 2000 to 2010 that are not Star Trek movies and that preferably are Superman or Batman movies."
   ]
  },
  {
   "cell_type": "code",
   "execution_count": null,
   "metadata": {},
   "outputs": [],
   "source": [
    "%%bash\n",
    "\n",
    "curl --silent --insecure -u ${OPENSEARCH_USER}:${OPENSEARCH_PASSWD} \\\n",
    "    -X GET -H \"Content-Type: application/json\" \\\n",
    "    \"https://${OPENSEARCH_HOST}:${OPENSEARCH_PORT}/movies-tuned/_search?pretty\" -d '\n",
    "{\n",
    "    \"query\" : {\n",
    "        \"bool\": {\n",
    "            \"must_not\": [\n",
    "                {\"...\": {\"title\": \"...\"}}\n",
    "            ],\n",
    "            \"should\": [\n",
    "                {\"match\": {\"title\": \"...\"}},\n",
    "                {\"match\": {\"title\": \"...\"}}\n",
    "            ],\n",
    "            \"filter\": [\n",
    "                {\"range\": {\"...\": {\"from\": ..., \"to\": ...}}},\n",
    "                {\"terms\": {\"genres\": [\"...\", \"...\"]}}\n",
    "            ]            \n",
    "        }\n",
    "    }\n",
    "}'"
   ]
  }
 ],
 "metadata": {
  "kernelspec": {
   "display_name": "Python 3",
   "language": "python",
   "name": "python3"
  },
  "language_info": {
   "codemirror_mode": {
    "name": "ipython",
    "version": 3
   },
   "file_extension": ".py",
   "mimetype": "text/x-python",
   "name": "python",
   "nbconvert_exporter": "python",
   "pygments_lexer": "ipython3",
   "version": "3.7.6"
  }
 },
 "nbformat": 4,
 "nbformat_minor": 4
}
