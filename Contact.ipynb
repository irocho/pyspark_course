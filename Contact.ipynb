{
 "cells": [
  {
   "cell_type": "markdown",
   "metadata": {},
   "source": [
    "# Support and Contact\n",
    "\n",
    "## General information\n",
    "For general information and tutorials:\n",
    "* bigdata.cesga.gal\n",
    "\n",
    "## Helpdesk\n",
    "For problems using the platform:\n",
    "* helpdesk_bigdata@cesga.es\n",
    "\n",
    "## Further information\n",
    "Javier Cacheiro López:\n",
    "* javier.cacheiro.lopez@cesga.es\n",
    "\n",
    "## Lastest version of the notebooks\n",
    "* https://github.com/javicacheiro/pyspark_course"
   ]
  }
 ],
 "metadata": {
  "kernelspec": {
   "display_name": "Python 2",
   "language": "python",
   "name": "python2"
  },
  "language_info": {
   "codemirror_mode": {
    "name": "ipython",
    "version": 2
   },
   "file_extension": ".py",
   "mimetype": "text/x-python",
   "name": "python",
   "nbconvert_exporter": "python",
   "pygments_lexer": "ipython2",
   "version": "2.7.15"
  }
 },
 "nbformat": 4,
 "nbformat_minor": 4
}
