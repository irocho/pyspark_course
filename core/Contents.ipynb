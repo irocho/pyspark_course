{
 "cells": [
  {
   "cell_type": "markdown",
   "metadata": {},
   "source": [
    "# CONTENTS"
   ]
  },
  {
   "cell_type": "markdown",
   "metadata": {},
   "source": [
    "## Unit 1: Basic tools\n",
    "## Unit 2: Basic Spark Concepts\n",
    "## Unit 3: Programming with RDDs\n",
    "## Unit 4: Programming with PairRDDs\n",
    "## Unit 5: Programming with the Structured API\n",
    "## Unit 6: Launching Applications\n",
    "## Unit 7: Monitoring and Debugging Applications"
   ]
  },
  {
   "cell_type": "markdown",
   "metadata": {},
   "source": [
    "# ABOUT THE INSTRUCTOR\n",
    "\n",
    "Javier Cacheiro López / @javicacheiro / javier.cacheiro.lopez@cesga.es\n",
    "* Leads the Big Data team at CESGA\n",
    "* Big Data architect: Undertanding the technology and creating effective solutions for each problem\n",
    "* Cloudera Certified Developer for Apache Hadoop (CCDH)\n",
    "* Cloudera Certified Spark and Hadoop Developer (CCA175)\n",
    "* Cloudera Certified Administrator (CCA131)\n",
    "\n",
    "<img src=\"http://bigdata.cesga.es/img/cca.png\" alt=\"CCA175\" style=\"width: 100px;\"/>\n",
    "\n",
    "\n"
   ]
  }
 ],
 "metadata": {
  "kernelspec": {
   "display_name": "Python 2",
   "language": "python",
   "name": "python2"
  },
  "language_info": {
   "codemirror_mode": {
    "name": "ipython",
    "version": 2
   },
   "file_extension": ".py",
   "mimetype": "text/x-python",
   "name": "python",
   "nbconvert_exporter": "python",
   "pygments_lexer": "ipython2",
   "version": "2.7.15"
  }
 },
 "nbformat": 4,
 "nbformat_minor": 4
}
