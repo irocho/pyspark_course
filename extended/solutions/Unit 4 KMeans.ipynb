{
 "cells": [
  {
   "cell_type": "markdown",
   "metadata": {},
   "source": [
    "# Implementing KMeans"
   ]
  },
  {
   "cell_type": "markdown",
   "metadata": {},
   "source": [
    "In this exercise we will be implementing the k-means clustering algorithm. For an introduction on how this algorithm works I recommend you to read:\n",
    "- [K-Means Clustering Algorithm Overview](https://stanford.edu/~cpiech/cs221/handouts/kmeans.html)\n",
    "\n",
    "The following figures illustrate the steps the algorithm follows to find two centroids (taken from the previous link):\n",
    "\n",
    "![K-Means algorithm](http://bigdata.cesga.es/files/kmeansViz.png)"
   ]
  },
  {
   "cell_type": "markdown",
   "metadata": {},
   "source": [
    "## Dependencies"
   ]
  },
  {
   "cell_type": "code",
   "execution_count": 1,
   "metadata": {},
   "outputs": [],
   "source": [
    "from __future__ import print_function\n",
    "import math\n",
    "from collections import namedtuple"
   ]
  },
  {
   "cell_type": "markdown",
   "metadata": {},
   "source": [
    "## Parameters"
   ]
  },
  {
   "cell_type": "code",
   "execution_count": 2,
   "metadata": {},
   "outputs": [],
   "source": [
    "# Number of clusters to find\n",
    "K = 5\n",
    "# Convergence threshold\n",
    "THRESHOLD = 0.1\n",
    "# Maximum number of iterations\n",
    "MAX_ITERS = 20"
   ]
  },
  {
   "cell_type": "markdown",
   "metadata": {},
   "source": [
    "## Load data"
   ]
  },
  {
   "cell_type": "code",
   "execution_count": 3,
   "metadata": {},
   "outputs": [],
   "source": [
    "def parse_coordinates(line):\n",
    "    fields = line.split(',')\n",
    "    return (float(fields[3]), float(fields[4]))"
   ]
  },
  {
   "cell_type": "code",
   "execution_count": 4,
   "metadata": {},
   "outputs": [],
   "source": [
    "data = sc.textFile('datasets/locations')"
   ]
  },
  {
   "cell_type": "code",
   "execution_count": 5,
   "metadata": {
    "scrolled": true
   },
   "outputs": [],
   "source": [
    "points = data.map(parse_coordinates)"
   ]
  },
  {
   "cell_type": "markdown",
   "metadata": {},
   "source": [
    "## Useful functions"
   ]
  },
  {
   "cell_type": "code",
   "execution_count": 6,
   "metadata": {},
   "outputs": [],
   "source": [
    "def distance(p1, p2):  \n",
    "    \"Returns the squared distance between two given points\"\n",
    "    return (p1[0] - p2[0])** 2 + (p1[1] - p2[1])** 2\n",
    "\n",
    "def closest_centroid(point, centroids):    \n",
    "    \"Returns the index of the closest centroid to the given point: eg. the cluster this point belongs to\"\n",
    "    distances = [distance(point, c) for c in centroids]\n",
    "    shortest = min(distances)\n",
    "    return distances.index(shortest)\n",
    "\n",
    "def add_points(p1, p2):\n",
    "    \"Returns the sum of two points\"\n",
    "    return (p1[0] + p2[0], p1[1] + p2[1])"
   ]
  },
  {
   "cell_type": "markdown",
   "metadata": {},
   "source": [
    "## Iteratively calculate the centroids"
   ]
  },
  {
   "cell_type": "code",
   "execution_count": 7,
   "metadata": {},
   "outputs": [
    {
     "name": "stdout",
     "output_type": "stream",
     "text": [
      "Variation in iteration 0: 4989.32008451\n",
      "Variation in iteration 1: 2081.17551268\n",
      "Variation in iteration 2: 1.6011620119\n",
      "Variation in iteration 3: 2.55059475168\n",
      "Variation in iteration 4: 0.994848416636\n",
      "Variation in iteration 5: 0.0381850235415\n",
      "Final centroids: [(35.08592000544936, -112.57643826547803), (0.0, 0.0), (38.05200414101911, -121.20324355675143), (43.891507710205694, -121.32350131512835), (34.28939789970032, -117.77840744773651)]\n",
      "CPU times: user 84.9 ms, sys: 9.17 ms, total: 94.1 ms\n",
      "Wall time: 21 s\n"
     ]
    }
   ],
   "source": [
    "%%time\n",
    "# Initial centroids: we just take K randomly selected points\n",
    "centroids = points.takeSample(False, K, 42)\n",
    "\n",
    "# The first iteration should always run\n",
    "variation = THRESHOLD + 1\n",
    "iteration = 0\n",
    "\n",
    "while variation > THRESHOLD  and iteration < MAX_ITERS:\n",
    "     # Map each point to (centroid, (point, 1))\n",
    "    with_centroids = points.map(lambda p: (closest_centroid(p, centroids), (p, 1)))\n",
    "    # For each centroid reduceByKey adding the coordinates of all the points\n",
    "    # and keeping track of the number of points\n",
    "    cluster_stats = with_centroids.reduceByKey(lambda (p1, n1), (p2, n2):  (add_points(p1, p2), n1 + n2))\n",
    "    # For each existing centroid find the new centroid location calculating the average of each closest point\n",
    "    new_centroids = cluster_stats.map(lambda (c, ((x, y), n)): (c, (x/n, y/n))).collect()\n",
    "    # Calculate the variation between old and new centroids\n",
    "    variation = 0\n",
    "    for (old_centroid_id, new_centroid) in new_centroids: \n",
    "        variation += distance(centroids[old_centroid_id], new_centroid)\n",
    "    print('Variation in iteration {}: {}'.format(iteration, variation))\n",
    "    # Replace old centroids with the new values\n",
    "    for (old_centroid_id, new_centroid) in new_centroids: \n",
    "        centroids[old_centroid_id] = new_centroid\n",
    "    iteration += 1\n",
    "        \n",
    "print('Final centroids: {}'.format(centroids))"
   ]
  },
  {
   "cell_type": "markdown",
   "metadata": {},
   "source": [
    "## Reviewing the steps we have done"
   ]
  },
  {
   "cell_type": "markdown",
   "metadata": {},
   "source": [
    "We start with lines of text:"
   ]
  },
  {
   "cell_type": "code",
   "execution_count": 8,
   "metadata": {},
   "outputs": [
    {
     "name": "stdout",
     "output_type": "stream",
     "text": [
      "2017-03-15:10:10:20,Motorola F41L,8cc3b47e-bd01-4482-b500-28f2342679af,33.6894754264,-117.543308253\n"
     ]
    }
   ],
   "source": [
    "line = data.first()\n",
    "print(line)"
   ]
  },
  {
   "cell_type": "markdown",
   "metadata": {},
   "source": [
    "We have to convert them to points:"
   ]
  },
  {
   "cell_type": "code",
   "execution_count": 9,
   "metadata": {},
   "outputs": [
    {
     "data": {
      "text/plain": [
       "(33.6894754264, -117.543308253)"
      ]
     },
     "execution_count": 9,
     "metadata": {},
     "output_type": "execute_result"
    }
   ],
   "source": [
    "parse_coordinates(line)"
   ]
  },
  {
   "cell_type": "code",
   "execution_count": 10,
   "metadata": {},
   "outputs": [
    {
     "name": "stdout",
     "output_type": "stream",
     "text": [
      "(33.6894754264, -117.543308253)\n"
     ]
    }
   ],
   "source": [
    "points = data.map(parse_coordinates)\n",
    "point = points.first()\n",
    "print(point)"
   ]
  },
  {
   "cell_type": "markdown",
   "metadata": {},
   "source": [
    "We select some arbitrary points from our RDD of points as the initial centroids:"
   ]
  },
  {
   "cell_type": "code",
   "execution_count": 11,
   "metadata": {},
   "outputs": [
    {
     "name": "stdout",
     "output_type": "stream",
     "text": [
      "[(33.4898547489, -111.63617776), (33.5505811202, -111.243243255), (36.5697673035, -120.79623245), (37.7152004069, -121.473355818), (34.3743073814, -117.184154207)]\n"
     ]
    }
   ],
   "source": [
    "# Initial centroids: we just take K randomly selected points\n",
    "centroids = points.takeSample(False, K, 42)\n",
    "print(centroids)"
   ]
  },
  {
   "cell_type": "markdown",
   "metadata": {},
   "source": [
    "NOTE: Using the closest_centroid() funtion, we are able so calculate the **index of the closest centroid** to a given point:"
   ]
  },
  {
   "cell_type": "code",
   "execution_count": 12,
   "metadata": {},
   "outputs": [
    {
     "name": "stdout",
     "output_type": "stream",
     "text": [
      "4\n"
     ]
    }
   ],
   "source": [
    "closest_centroid_index = closest_centroid(point, centroids)\n",
    "print(closest_centroid_index)"
   ]
  },
  {
   "cell_type": "code",
   "execution_count": 13,
   "metadata": {},
   "outputs": [
    {
     "data": {
      "text/plain": [
       "(34.3743073814, -117.184154207)"
      ]
     },
     "execution_count": 13,
     "metadata": {},
     "output_type": "execute_result"
    }
   ],
   "source": [
    "centroids[closest_centroid_index]"
   ]
  },
  {
   "cell_type": "markdown",
   "metadata": {},
   "source": [
    "#### STEP 1: Assign a point to its centroid\n",
    "**point -> (closest_centroid_id, (point, 1))**"
   ]
  },
  {
   "cell_type": "code",
   "execution_count": 14,
   "metadata": {},
   "outputs": [
    {
     "name": "stdout",
     "output_type": "stream",
     "text": [
      "(4, ((33.6894754264, -117.543308253), 1))\n"
     ]
    }
   ],
   "source": [
    "with_centroids = points.map(lambda p: (closest_centroid(p, centroids), (p, 1)))\n",
    "print(with_centroids.first())"
   ]
  },
  {
   "cell_type": "markdown",
   "metadata": {},
   "source": [
    "#### STEP 2: Preparation to calculate new centroids\n",
    "**(closest_centroid_id, (point, 1)) -> (closest_centroid_id, (sum(points), total_number_of_points)**"
   ]
  },
  {
   "cell_type": "code",
   "execution_count": 15,
   "metadata": {},
   "outputs": [
    {
     "name": "stdout",
     "output_type": "stream",
     "text": [
      "(0, ((841812.50940875, -2768072.601871161), 24640))\n"
     ]
    }
   ],
   "source": [
    "cluster_stats = with_centroids.reduceByKey(lambda (p1, n1), (p2, n2):  (add_points(p1, p2), n1 + n2))\n",
    "print(cluster_stats.first())"
   ]
  },
  {
   "cell_type": "markdown",
   "metadata": {},
   "source": [
    "#### STEP 3: We calculate the new centroids\n",
    "**closest_centroid_id, (sum(points), total_number_of_points) -> (centroid_id, new_centroid)** \n",
    "\n",
    "where `new_centroid = (sum_x/total, sum_y/total)`."
   ]
  },
  {
   "cell_type": "code",
   "execution_count": 16,
   "metadata": {},
   "outputs": [
    {
     "name": "stdout",
     "output_type": "stream",
     "text": [
      "(0, (34.164468726004465, -112.34060884217374))\n"
     ]
    }
   ],
   "source": [
    "new_centroids = cluster_stats.map(lambda (c, ((x, y), n)): (c, (x/n, y/n))).collect()\n",
    "print(new_centroids[0])"
   ]
  },
  {
   "cell_type": "markdown",
   "metadata": {},
   "source": [
    "#### STEP 4: We calculate the variation\n",
    "Finally we just calculate the variation between old and new centroids to verify if we have to continue iterating."
   ]
  },
  {
   "cell_type": "code",
   "execution_count": 17,
   "metadata": {},
   "outputs": [
    {
     "name": "stdout",
     "output_type": "stream",
     "text": [
      "4989.32008451\n"
     ]
    }
   ],
   "source": [
    "variation = 0\n",
    "for (old_centroid_id, new_centroid) in new_centroids:\n",
    "    variation += distance(centroids[old_centroid_id], new_centroid)\n",
    "print(variation)"
   ]
  }
 ],
 "metadata": {
  "kernelspec": {
   "display_name": "Python 2",
   "language": "python",
   "name": "python2"
  },
  "language_info": {
   "codemirror_mode": {
    "name": "ipython",
    "version": 2
   },
   "file_extension": ".py",
   "mimetype": "text/x-python",
   "name": "python",
   "nbconvert_exporter": "python",
   "pygments_lexer": "ipython2",
   "version": "2.7.15"
  }
 },
 "nbformat": 4,
 "nbformat_minor": 4
}
