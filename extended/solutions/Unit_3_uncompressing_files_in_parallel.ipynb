{
 "cells": [
  {
   "cell_type": "markdown",
   "metadata": {},
   "source": [
    "# Uncompressing files in parallel"
   ]
  },
  {
   "cell_type": "markdown",
   "metadata": {},
   "source": [
    "In this lab we will see how to take advantadge of the `pipe` method to launch commands in parallel. \n",
    "\n",
    "The objective is to uncompress all files in a directory in parallel."
   ]
  },
  {
   "cell_type": "markdown",
   "metadata": {},
   "source": [
    "## Files to uncompress"
   ]
  },
  {
   "cell_type": "markdown",
   "metadata": {},
   "source": [
    "The files we have to uncompress are in the `/opt/cesga/cursos/pyspark_2022/datasets/compressed-files`. \n",
    "\n",
    "NOTE: Notice that this directory is in NFS and not in HDFS."
   ]
  },
  {
   "cell_type": "code",
   "execution_count": 1,
   "metadata": {
    "collapsed": true
   },
   "outputs": [
    {
     "name": "stdout",
     "output_type": "stream",
     "text": [
      "file100.gz  file23.gz  file37.gz  file50.gz  file64.gz\tfile78.gz  file91.gz\n",
      "file10.gz   file24.gz  file38.gz  file51.gz  file65.gz\tfile79.gz  file92.gz\n",
      "file11.gz   file25.gz  file39.gz  file52.gz  file66.gz\tfile7.gz   file93.gz\n",
      "file12.gz   file26.gz  file3.gz   file53.gz  file67.gz\tfile80.gz  file94.gz\n",
      "file13.gz   file27.gz  file40.gz  file54.gz  file68.gz\tfile81.gz  file95.gz\n",
      "file14.gz   file28.gz  file41.gz  file55.gz  file69.gz\tfile82.gz  file96.gz\n",
      "file15.gz   file29.gz  file42.gz  file56.gz  file6.gz\tfile83.gz  file97.gz\n",
      "file16.gz   file2.gz   file43.gz  file57.gz  file70.gz\tfile84.gz  file98.gz\n",
      "file17.gz   file30.gz  file44.gz  file58.gz  file71.gz\tfile85.gz  file99.gz\n",
      "file18.gz   file31.gz  file45.gz  file59.gz  file72.gz\tfile86.gz  file9.gz\n",
      "file19.gz   file32.gz  file46.gz  file5.gz   file73.gz\tfile87.gz\n",
      "file1.gz    file33.gz  file47.gz  file60.gz  file74.gz\tfile88.gz\n",
      "file20.gz   file34.gz  file48.gz  file61.gz  file75.gz\tfile89.gz\n",
      "file21.gz   file35.gz  file49.gz  file62.gz  file76.gz\tfile8.gz\n",
      "file22.gz   file36.gz  file4.gz   file63.gz  file77.gz\tfile90.gz\n"
     ]
    }
   ],
   "source": [
    "!ls /opt/cesga/cursos/pyspark_2022/datasets/compressed-files"
   ]
  },
  {
   "cell_type": "markdown",
   "metadata": {},
   "source": [
    "We will create a `tmp/compressed-files-lab` directory in our HOME and we will copy the files there (review the lines below before executing them to be sure of what you are going to do ;-)"
   ]
  },
  {
   "cell_type": "code",
   "execution_count": 2,
   "metadata": {},
   "outputs": [],
   "source": [
    "!mkdir -p ~/tmp/compressed-files-lab\n",
    "!cp /opt/cesga/cursos/pyspark_2022/datasets/compressed-files/*.gz ~/tmp/compressed-files-lab\n",
    "!chmod a+rwx ~/tmp/compressed-files-lab\n",
    "!chmod a+rx ~"
   ]
  },
  {
   "cell_type": "markdown",
   "metadata": {},
   "source": [
    "**SECURITY WARNING:** Remember to reset back the permissions once you finish this lab."
   ]
  },
  {
   "cell_type": "markdown",
   "metadata": {},
   "source": [
    "## Obtain the name of the files"
   ]
  },
  {
   "cell_type": "markdown",
   "metadata": {},
   "source": [
    "First we need to get the name of the files from python:"
   ]
  },
  {
   "cell_type": "code",
   "execution_count": 3,
   "metadata": {
    "collapsed": true
   },
   "outputs": [],
   "source": [
    "import os\n",
    "\n",
    "filenames = os.listdir(os.path.expanduser('~/tmp/compressed-files-lab'))"
   ]
  },
  {
   "cell_type": "markdown",
   "metadata": {},
   "source": [
    "Check that the filenames variable contains the expected results:"
   ]
  },
  {
   "cell_type": "code",
   "execution_count": 4,
   "metadata": {},
   "outputs": [
    {
     "data": {
      "text/plain": [
       "['file100.gz',\n",
       " 'file10.gz',\n",
       " 'file11.gz',\n",
       " 'file12.gz',\n",
       " 'file13.gz',\n",
       " 'file14.gz',\n",
       " 'file15.gz',\n",
       " 'file16.gz',\n",
       " 'file17.gz',\n",
       " 'file18.gz',\n",
       " 'file19.gz',\n",
       " 'file1.gz',\n",
       " 'file20.gz',\n",
       " 'file21.gz',\n",
       " 'file22.gz',\n",
       " 'file23.gz',\n",
       " 'file24.gz',\n",
       " 'file25.gz',\n",
       " 'file26.gz',\n",
       " 'file27.gz',\n",
       " 'file28.gz',\n",
       " 'file29.gz',\n",
       " 'file2.gz',\n",
       " 'file30.gz',\n",
       " 'file31.gz',\n",
       " 'file32.gz',\n",
       " 'file33.gz',\n",
       " 'file34.gz',\n",
       " 'file35.gz',\n",
       " 'file36.gz',\n",
       " 'file37.gz',\n",
       " 'file38.gz',\n",
       " 'file39.gz',\n",
       " 'file3.gz',\n",
       " 'file40.gz',\n",
       " 'file41.gz',\n",
       " 'file42.gz',\n",
       " 'file43.gz',\n",
       " 'file44.gz',\n",
       " 'file45.gz',\n",
       " 'file46.gz',\n",
       " 'file47.gz',\n",
       " 'file48.gz',\n",
       " 'file49.gz',\n",
       " 'file4.gz',\n",
       " 'file50.gz',\n",
       " 'file51.gz',\n",
       " 'file52.gz',\n",
       " 'file53.gz',\n",
       " 'file54.gz',\n",
       " 'file55.gz',\n",
       " 'file56.gz',\n",
       " 'file57.gz',\n",
       " 'file58.gz',\n",
       " 'file59.gz',\n",
       " 'file5.gz',\n",
       " 'file60.gz',\n",
       " 'file61.gz',\n",
       " 'file62.gz',\n",
       " 'file63.gz',\n",
       " 'file64.gz',\n",
       " 'file65.gz',\n",
       " 'file66.gz',\n",
       " 'file67.gz',\n",
       " 'file68.gz',\n",
       " 'file69.gz',\n",
       " 'file6.gz',\n",
       " 'file70.gz',\n",
       " 'file71.gz',\n",
       " 'file72.gz',\n",
       " 'file73.gz',\n",
       " 'file74.gz',\n",
       " 'file75.gz',\n",
       " 'file76.gz',\n",
       " 'file77.gz',\n",
       " 'file78.gz',\n",
       " 'file79.gz',\n",
       " 'file7.gz',\n",
       " 'file80.gz',\n",
       " 'file81.gz',\n",
       " 'file82.gz',\n",
       " 'file83.gz',\n",
       " 'file84.gz',\n",
       " 'file85.gz',\n",
       " 'file86.gz',\n",
       " 'file87.gz',\n",
       " 'file88.gz',\n",
       " 'file89.gz',\n",
       " 'file8.gz',\n",
       " 'file90.gz',\n",
       " 'file91.gz',\n",
       " 'file92.gz',\n",
       " 'file93.gz',\n",
       " 'file94.gz',\n",
       " 'file95.gz',\n",
       " 'file96.gz',\n",
       " 'file97.gz',\n",
       " 'file98.gz',\n",
       " 'file99.gz',\n",
       " 'file9.gz']"
      ]
     },
     "execution_count": 4,
     "metadata": {},
     "output_type": "execute_result"
    }
   ],
   "source": [
    "filenames"
   ]
  },
  {
   "cell_type": "markdown",
   "metadata": {},
   "source": [
    "## Create a RDD"
   ]
  },
  {
   "cell_type": "markdown",
   "metadata": {},
   "source": [
    "We have now to create and RDD and rembember that we can control the level of parallelism setting the number of partitions:"
   ]
  },
  {
   "cell_type": "code",
   "execution_count": 5,
   "metadata": {},
   "outputs": [],
   "source": [
    "PARTITIONS = 4"
   ]
  },
  {
   "cell_type": "code",
   "execution_count": 6,
   "metadata": {},
   "outputs": [],
   "source": [
    "rdd = sc.parallelize(filenames, PARTITIONS)"
   ]
  },
  {
   "cell_type": "markdown",
   "metadata": {},
   "source": [
    "Let's see how the work will be distributed:"
   ]
  },
  {
   "cell_type": "code",
   "execution_count": 7,
   "metadata": {},
   "outputs": [
    {
     "data": {
      "text/plain": [
       "[['file100.gz',\n",
       "  'file10.gz',\n",
       "  'file11.gz',\n",
       "  'file12.gz',\n",
       "  'file13.gz',\n",
       "  'file14.gz',\n",
       "  'file15.gz',\n",
       "  'file16.gz',\n",
       "  'file17.gz',\n",
       "  'file18.gz',\n",
       "  'file19.gz',\n",
       "  'file1.gz',\n",
       "  'file20.gz',\n",
       "  'file21.gz',\n",
       "  'file22.gz',\n",
       "  'file23.gz',\n",
       "  'file24.gz',\n",
       "  'file25.gz',\n",
       "  'file26.gz',\n",
       "  'file27.gz',\n",
       "  'file28.gz',\n",
       "  'file29.gz',\n",
       "  'file2.gz',\n",
       "  'file30.gz',\n",
       "  'file31.gz'],\n",
       " ['file32.gz',\n",
       "  'file33.gz',\n",
       "  'file34.gz',\n",
       "  'file35.gz',\n",
       "  'file36.gz',\n",
       "  'file37.gz',\n",
       "  'file38.gz',\n",
       "  'file39.gz',\n",
       "  'file3.gz',\n",
       "  'file40.gz',\n",
       "  'file41.gz',\n",
       "  'file42.gz',\n",
       "  'file43.gz',\n",
       "  'file44.gz',\n",
       "  'file45.gz',\n",
       "  'file46.gz',\n",
       "  'file47.gz',\n",
       "  'file48.gz',\n",
       "  'file49.gz',\n",
       "  'file4.gz',\n",
       "  'file50.gz',\n",
       "  'file51.gz',\n",
       "  'file52.gz',\n",
       "  'file53.gz',\n",
       "  'file54.gz'],\n",
       " ['file55.gz',\n",
       "  'file56.gz',\n",
       "  'file57.gz',\n",
       "  'file58.gz',\n",
       "  'file59.gz',\n",
       "  'file5.gz',\n",
       "  'file60.gz',\n",
       "  'file61.gz',\n",
       "  'file62.gz',\n",
       "  'file63.gz',\n",
       "  'file64.gz',\n",
       "  'file65.gz',\n",
       "  'file66.gz',\n",
       "  'file67.gz',\n",
       "  'file68.gz',\n",
       "  'file69.gz',\n",
       "  'file6.gz',\n",
       "  'file70.gz',\n",
       "  'file71.gz',\n",
       "  'file72.gz',\n",
       "  'file73.gz',\n",
       "  'file74.gz',\n",
       "  'file75.gz',\n",
       "  'file76.gz',\n",
       "  'file77.gz'],\n",
       " ['file78.gz',\n",
       "  'file79.gz',\n",
       "  'file7.gz',\n",
       "  'file80.gz',\n",
       "  'file81.gz',\n",
       "  'file82.gz',\n",
       "  'file83.gz',\n",
       "  'file84.gz',\n",
       "  'file85.gz',\n",
       "  'file86.gz',\n",
       "  'file87.gz',\n",
       "  'file88.gz',\n",
       "  'file89.gz',\n",
       "  'file8.gz',\n",
       "  'file90.gz',\n",
       "  'file91.gz',\n",
       "  'file92.gz',\n",
       "  'file93.gz',\n",
       "  'file94.gz',\n",
       "  'file95.gz',\n",
       "  'file96.gz',\n",
       "  'file97.gz',\n",
       "  'file98.gz',\n",
       "  'file99.gz',\n",
       "  'file9.gz']]"
      ]
     },
     "execution_count": 7,
     "metadata": {},
     "output_type": "execute_result"
    }
   ],
   "source": [
    "rdd.glom().collect()"
   ]
  },
  {
   "cell_type": "markdown",
   "metadata": {},
   "source": [
    "## Create helper script"
   ]
  },
  {
   "cell_type": "markdown",
   "metadata": {},
   "source": [
    "First we will try with a simple `run.sh` script that echoes the lines it receives as input:"
   ]
  },
  {
   "cell_type": "code",
   "execution_count": 8,
   "metadata": {},
   "outputs": [
    {
     "name": "stdout",
     "output_type": "stream",
     "text": [
      "Overwriting /home/cesga/jlopez/tmp/run.sh\n"
     ]
    }
   ],
   "source": [
    "%%writefile ~/tmp/run.sh\n",
    "#!/bin/bash\n",
    "while read LINE; do\n",
    "   echo $LINE\n",
    "done"
   ]
  },
  {
   "cell_type": "markdown",
   "metadata": {},
   "source": [
    "Give executable permissions to the file so spark can execute it (spark runs with the spark user):"
   ]
  },
  {
   "cell_type": "code",
   "execution_count": 9,
   "metadata": {},
   "outputs": [],
   "source": [
    "!chmod a+rx ~/tmp/run.sh"
   ]
  },
  {
   "cell_type": "markdown",
   "metadata": {},
   "source": [
    "Let's store the location of the script:"
   ]
  },
  {
   "cell_type": "code",
   "execution_count": 10,
   "metadata": {},
   "outputs": [],
   "source": [
    "run = os.path.expanduser('~/tmp/run.sh')"
   ]
  },
  {
   "cell_type": "markdown",
   "metadata": {},
   "source": [
    "Let's test it:"
   ]
  },
  {
   "cell_type": "code",
   "execution_count": 11,
   "metadata": {},
   "outputs": [
    {
     "data": {
      "text/plain": [
       "[u'file100.gz',\n",
       " u'file10.gz',\n",
       " u'file11.gz',\n",
       " u'file12.gz',\n",
       " u'file13.gz',\n",
       " u'file14.gz',\n",
       " u'file15.gz',\n",
       " u'file16.gz',\n",
       " u'file17.gz',\n",
       " u'file18.gz',\n",
       " u'file19.gz',\n",
       " u'file1.gz',\n",
       " u'file20.gz',\n",
       " u'file21.gz',\n",
       " u'file22.gz',\n",
       " u'file23.gz',\n",
       " u'file24.gz',\n",
       " u'file25.gz',\n",
       " u'file26.gz',\n",
       " u'file27.gz',\n",
       " u'file28.gz',\n",
       " u'file29.gz',\n",
       " u'file2.gz',\n",
       " u'file30.gz',\n",
       " u'file31.gz',\n",
       " u'file32.gz',\n",
       " u'file33.gz',\n",
       " u'file34.gz',\n",
       " u'file35.gz',\n",
       " u'file36.gz',\n",
       " u'file37.gz',\n",
       " u'file38.gz',\n",
       " u'file39.gz',\n",
       " u'file3.gz',\n",
       " u'file40.gz',\n",
       " u'file41.gz',\n",
       " u'file42.gz',\n",
       " u'file43.gz',\n",
       " u'file44.gz',\n",
       " u'file45.gz',\n",
       " u'file46.gz',\n",
       " u'file47.gz',\n",
       " u'file48.gz',\n",
       " u'file49.gz',\n",
       " u'file4.gz',\n",
       " u'file50.gz',\n",
       " u'file51.gz',\n",
       " u'file52.gz',\n",
       " u'file53.gz',\n",
       " u'file54.gz',\n",
       " u'file55.gz',\n",
       " u'file56.gz',\n",
       " u'file57.gz',\n",
       " u'file58.gz',\n",
       " u'file59.gz',\n",
       " u'file5.gz',\n",
       " u'file60.gz',\n",
       " u'file61.gz',\n",
       " u'file62.gz',\n",
       " u'file63.gz',\n",
       " u'file64.gz',\n",
       " u'file65.gz',\n",
       " u'file66.gz',\n",
       " u'file67.gz',\n",
       " u'file68.gz',\n",
       " u'file69.gz',\n",
       " u'file6.gz',\n",
       " u'file70.gz',\n",
       " u'file71.gz',\n",
       " u'file72.gz',\n",
       " u'file73.gz',\n",
       " u'file74.gz',\n",
       " u'file75.gz',\n",
       " u'file76.gz',\n",
       " u'file77.gz',\n",
       " u'file78.gz',\n",
       " u'file79.gz',\n",
       " u'file7.gz',\n",
       " u'file80.gz',\n",
       " u'file81.gz',\n",
       " u'file82.gz',\n",
       " u'file83.gz',\n",
       " u'file84.gz',\n",
       " u'file85.gz',\n",
       " u'file86.gz',\n",
       " u'file87.gz',\n",
       " u'file88.gz',\n",
       " u'file89.gz',\n",
       " u'file8.gz',\n",
       " u'file90.gz',\n",
       " u'file91.gz',\n",
       " u'file92.gz',\n",
       " u'file93.gz',\n",
       " u'file94.gz',\n",
       " u'file95.gz',\n",
       " u'file96.gz',\n",
       " u'file97.gz',\n",
       " u'file98.gz',\n",
       " u'file99.gz',\n",
       " u'file9.gz']"
      ]
     },
     "execution_count": 11,
     "metadata": {},
     "output_type": "execute_result"
    }
   ],
   "source": [
    "rdd.pipe(run).collect()"
   ]
  },
  {
   "cell_type": "markdown",
   "metadata": {},
   "source": [
    "## Launch gunzip in parallel"
   ]
  },
  {
   "cell_type": "markdown",
   "metadata": {},
   "source": [
    "We just have to update the script so it executes the `gunzip` command instead of the `echo` command:"
   ]
  },
  {
   "cell_type": "markdown",
   "metadata": {},
   "source": [
    "IMPORTANT: You have to set the full path with your HOME dir, because the script will be run under the spark user (not your user)"
   ]
  },
  {
   "cell_type": "code",
   "execution_count": 12,
   "metadata": {},
   "outputs": [
    {
     "name": "stdout",
     "output_type": "stream",
     "text": [
      "Overwriting /home/cesga/jlopez/tmp/run.sh\n"
     ]
    }
   ],
   "source": [
    "%%writefile ~/tmp/run.sh\n",
    "#!/bin/bash\n",
    "while read LINE; do\n",
    "   gunzip \"/home/cesga/jlopez/tmp/compressed-files-lab/$LINE\"\n",
    "done"
   ]
  },
  {
   "cell_type": "code",
   "execution_count": 13,
   "metadata": {
    "collapsed": true
   },
   "outputs": [
    {
     "data": {
      "text/plain": [
       "[]"
      ]
     },
     "execution_count": 13,
     "metadata": {},
     "output_type": "execute_result"
    }
   ],
   "source": [
    "rdd.pipe(run).collect()"
   ]
  },
  {
   "cell_type": "markdown",
   "metadata": {},
   "source": [
    "Finally we can check that actually the files have been uncompressed:"
   ]
  },
  {
   "cell_type": "code",
   "execution_count": 14,
   "metadata": {},
   "outputs": [
    {
     "name": "stdout",
     "output_type": "stream",
     "text": [
      "file1\t file18  file27  file36  file45  file54  file63  file72  file81  file90\n",
      "file10\t file19  file28  file37  file46  file55  file64  file73  file82  file91\n",
      "file100  file2\t file29  file38  file47  file56  file65  file74  file83  file92\n",
      "file11\t file20  file3\t file39  file48  file57  file66  file75  file84  file93\n",
      "file12\t file21  file30  file4\t file49  file58  file67  file76  file85  file94\n",
      "file13\t file22  file31  file40  file5\t file59  file68  file77  file86  file95\n",
      "file14\t file23  file32  file41  file50  file6\t file69  file78  file87  file96\n",
      "file15\t file24  file33  file42  file51  file60  file7\t file79  file88  file97\n",
      "file16\t file25  file34  file43  file52  file61  file70  file8\t file89  file98\n",
      "file17\t file26  file35  file44  file53  file62  file71  file80  file9\t file99\n"
     ]
    }
   ],
   "source": [
    "!ls ~/tmp/compressed-files-lab"
   ]
  },
  {
   "cell_type": "markdown",
   "metadata": {},
   "source": [
    "## Cleaning up and resetting permissions back"
   ]
  },
  {
   "cell_type": "markdown",
   "metadata": {},
   "source": [
    "Let's clean up now and remove the directory:"
   ]
  },
  {
   "cell_type": "code",
   "execution_count": 15,
   "metadata": {},
   "outputs": [],
   "source": [
    "!rm -rf ~/tmp/compressed-files-lab"
   ]
  },
  {
   "cell_type": "markdown",
   "metadata": {},
   "source": [
    "And for your security you should reset back your HOME dir permissions:\n",
    "```\n",
    "chmod go-rx ~\n",
    "```"
   ]
  }
 ],
 "metadata": {
  "kernelspec": {
   "display_name": "Python 2",
   "language": "python",
   "name": "python2"
  },
  "language_info": {
   "codemirror_mode": {
    "name": "ipython",
    "version": 2
   },
   "file_extension": ".py",
   "mimetype": "text/x-python",
   "name": "python",
   "nbconvert_exporter": "python",
   "pygments_lexer": "ipython2",
   "version": "2.7.15"
  }
 },
 "nbformat": 4,
 "nbformat_minor": 2
}
