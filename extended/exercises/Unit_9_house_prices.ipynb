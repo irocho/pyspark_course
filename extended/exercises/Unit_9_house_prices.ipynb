{
 "cells": [
  {
   "cell_type": "markdown",
   "metadata": {},
   "source": [
    "# House Prices"
   ]
  },
  {
   "cell_type": "markdown",
   "metadata": {},
   "source": [
    "In this lab you will be faced with the House Prices competition from Kaggle:\n",
    "* [House Prices competition](https://www.kaggle.com/competitions/house-prices-advanced-regression-techniques)\n",
    "\n",
    "The purpose of the competition is to create a model that can predict house prices.\n",
    "\n",
    "\"Ask a home buyer to describe their dream house, and they probably won't begin with the height of the basement ceiling or the proximity to an east-west railroad. But this playground competition's dataset proves that much more influences price negotiations than the number of bedrooms or a white-picket fence.\"\n",
    "\n",
    "The Ames Housing dataset was compiled by Dean De Cock for use in data science education. "
   ]
  },
  {
   "cell_type": "markdown",
   "metadata": {},
   "source": [
    "### Variables\n",
    "\n",
    "For this we have to our disposal a dataset with the following variables:\n",
    "\n",
    "```\n",
    "    SalePrice - the property's sale price in dollars. This is the target variable that you're trying to predict.\n",
    "    MSSubClass: The building class\n",
    "    MSZoning: The general zoning classification\n",
    "    LotFrontage: Linear feet of street connected to property\n",
    "    LotArea: Lot size in square feet\n",
    "    Street: Type of road access\n",
    "    Alley: Type of alley access\n",
    "    LotShape: General shape of property\n",
    "    LandContour: Flatness of the property\n",
    "    Utilities: Type of utilities available\n",
    "    LotConfig: Lot configuration\n",
    "    LandSlope: Slope of property\n",
    "    Neighborhood: Physical locations within Ames city limits\n",
    "    Condition1: Proximity to main road or railroad\n",
    "    Condition2: Proximity to main road or railroad (if a second is present)\n",
    "    BldgType: Type of dwelling\n",
    "    HouseStyle: Style of dwelling\n",
    "    OverallQual: Overall material and finish quality\n",
    "    OverallCond: Overall condition rating\n",
    "    YearBuilt: Original construction date\n",
    "    YearRemodAdd: Remodel date\n",
    "    RoofStyle: Type of roof\n",
    "    RoofMatl: Roof material\n",
    "    Exterior1st: Exterior covering on house\n",
    "    Exterior2nd: Exterior covering on house (if more than one material)\n",
    "    MasVnrType: Masonry veneer type\n",
    "    MasVnrArea: Masonry veneer area in square feet\n",
    "    ExterQual: Exterior material quality\n",
    "    ExterCond: Present condition of the material on the exterior\n",
    "    Foundation: Type of foundation\n",
    "    BsmtQual: Height of the basement\n",
    "    BsmtCond: General condition of the basement\n",
    "    BsmtExposure: Walkout or garden level basement walls\n",
    "    BsmtFinType1: Quality of basement finished area\n",
    "    BsmtFinSF1: Type 1 finished square feet\n",
    "    BsmtFinType2: Quality of second finished area (if present)\n",
    "    BsmtFinSF2: Type 2 finished square feet\n",
    "    BsmtUnfSF: Unfinished square feet of basement area\n",
    "    TotalBsmtSF: Total square feet of basement area\n",
    "    Heating: Type of heating\n",
    "    HeatingQC: Heating quality and condition\n",
    "    CentralAir: Central air conditioning\n",
    "    Electrical: Electrical system\n",
    "    1stFlrSF: First Floor square feet\n",
    "    2ndFlrSF: Second floor square feet\n",
    "    LowQualFinSF: Low quality finished square feet (all floors)\n",
    "    GrLivArea: Above grade (ground) living area square feet\n",
    "    BsmtFullBath: Basement full bathrooms\n",
    "    BsmtHalfBath: Basement half bathrooms\n",
    "    FullBath: Full bathrooms above grade\n",
    "    HalfBath: Half baths above grade\n",
    "    Bedroom: Number of bedrooms above basement level\n",
    "    Kitchen: Number of kitchens\n",
    "    KitchenQual: Kitchen quality\n",
    "    TotRmsAbvGrd: Total rooms above grade (does not include bathrooms)\n",
    "    Functional: Home functionality rating\n",
    "    Fireplaces: Number of fireplaces\n",
    "    FireplaceQu: Fireplace quality\n",
    "    GarageType: Garage location\n",
    "    GarageYrBlt: Year garage was built\n",
    "    GarageFinish: Interior finish of the garage\n",
    "    GarageCars: Size of garage in car capacity\n",
    "    GarageArea: Size of garage in square feet\n",
    "    GarageQual: Garage quality\n",
    "    GarageCond: Garage condition\n",
    "    PavedDrive: Paved driveway\n",
    "    WoodDeckSF: Wood deck area in square feet\n",
    "    OpenPorchSF: Open porch area in square feet\n",
    "    EnclosedPorch: Enclosed porch area in square feet\n",
    "    3SsnPorch: Three season porch area in square feet\n",
    "    ScreenPorch: Screen porch area in square feet\n",
    "    PoolArea: Pool area in square feet\n",
    "    PoolQC: Pool quality\n",
    "    Fence: Fence quality\n",
    "    MiscFeature: Miscellaneous feature not covered in other categories\n",
    "    MiscVal: $Value of miscellaneous feature\n",
    "    MoSold: Month Sold\n",
    "    YrSold: Year Sold\n",
    "    SaleType: Type of sale\n",
    "    SaleCondition: Condition of sale\n",
    "```"
   ]
  },
  {
   "cell_type": "markdown",
   "metadata": {},
   "source": [
    "# Load Data\n",
    "We have to start downloading the data. It is available under the data tab.\n",
    "\n",
    "* [House Prices competition](https://www.kaggle.com/competitions/house-prices-advanced-regression-techniques)\n",
    "\n",
    "We will need the following files that are in CSV format:\n",
    "- train.csv\n",
    "- test.csv\n",
    "\n",
    "Then we have to upload the files to HDFS, to the `datasets/house-prices` directory."
   ]
  },
  {
   "cell_type": "markdown",
   "metadata": {},
   "source": [
    "We can now now load the data and explore it:"
   ]
  },
  {
   "cell_type": "code",
   "execution_count": 1,
   "metadata": {},
   "outputs": [],
   "source": [
    "houses = spark.read.csv('datasets/house-prices/train.csv', header=True,\n",
    "                       inferSchema=True)"
   ]
  },
  {
   "cell_type": "markdown",
   "metadata": {},
   "source": [
    "Let's see how the data looks like:"
   ]
  },
  {
   "cell_type": "code",
   "execution_count": 2,
   "metadata": {},
   "outputs": [
    {
     "name": "stdout",
     "output_type": "stream",
     "text": [
      "root\n",
      " |-- Id: integer (nullable = true)\n",
      " |-- MSSubClass: integer (nullable = true)\n",
      " |-- MSZoning: string (nullable = true)\n",
      " |-- LotFrontage: string (nullable = true)\n",
      " |-- LotArea: integer (nullable = true)\n",
      " |-- Street: string (nullable = true)\n",
      " |-- Alley: string (nullable = true)\n",
      " |-- LotShape: string (nullable = true)\n",
      " |-- LandContour: string (nullable = true)\n",
      " |-- Utilities: string (nullable = true)\n",
      " |-- LotConfig: string (nullable = true)\n",
      " |-- LandSlope: string (nullable = true)\n",
      " |-- Neighborhood: string (nullable = true)\n",
      " |-- Condition1: string (nullable = true)\n",
      " |-- Condition2: string (nullable = true)\n",
      " |-- BldgType: string (nullable = true)\n",
      " |-- HouseStyle: string (nullable = true)\n",
      " |-- OverallQual: integer (nullable = true)\n",
      " |-- OverallCond: integer (nullable = true)\n",
      " |-- YearBuilt: integer (nullable = true)\n",
      " |-- YearRemodAdd: integer (nullable = true)\n",
      " |-- RoofStyle: string (nullable = true)\n",
      " |-- RoofMatl: string (nullable = true)\n",
      " |-- Exterior1st: string (nullable = true)\n",
      " |-- Exterior2nd: string (nullable = true)\n",
      " |-- MasVnrType: string (nullable = true)\n",
      " |-- MasVnrArea: string (nullable = true)\n",
      " |-- ExterQual: string (nullable = true)\n",
      " |-- ExterCond: string (nullable = true)\n",
      " |-- Foundation: string (nullable = true)\n",
      " |-- BsmtQual: string (nullable = true)\n",
      " |-- BsmtCond: string (nullable = true)\n",
      " |-- BsmtExposure: string (nullable = true)\n",
      " |-- BsmtFinType1: string (nullable = true)\n",
      " |-- BsmtFinSF1: integer (nullable = true)\n",
      " |-- BsmtFinType2: string (nullable = true)\n",
      " |-- BsmtFinSF2: integer (nullable = true)\n",
      " |-- BsmtUnfSF: integer (nullable = true)\n",
      " |-- TotalBsmtSF: integer (nullable = true)\n",
      " |-- Heating: string (nullable = true)\n",
      " |-- HeatingQC: string (nullable = true)\n",
      " |-- CentralAir: string (nullable = true)\n",
      " |-- Electrical: string (nullable = true)\n",
      " |-- 1stFlrSF: integer (nullable = true)\n",
      " |-- 2ndFlrSF: integer (nullable = true)\n",
      " |-- LowQualFinSF: integer (nullable = true)\n",
      " |-- GrLivArea: integer (nullable = true)\n",
      " |-- BsmtFullBath: integer (nullable = true)\n",
      " |-- BsmtHalfBath: integer (nullable = true)\n",
      " |-- FullBath: integer (nullable = true)\n",
      " |-- HalfBath: integer (nullable = true)\n",
      " |-- BedroomAbvGr: integer (nullable = true)\n",
      " |-- KitchenAbvGr: integer (nullable = true)\n",
      " |-- KitchenQual: string (nullable = true)\n",
      " |-- TotRmsAbvGrd: integer (nullable = true)\n",
      " |-- Functional: string (nullable = true)\n",
      " |-- Fireplaces: integer (nullable = true)\n",
      " |-- FireplaceQu: string (nullable = true)\n",
      " |-- GarageType: string (nullable = true)\n",
      " |-- GarageYrBlt: string (nullable = true)\n",
      " |-- GarageFinish: string (nullable = true)\n",
      " |-- GarageCars: integer (nullable = true)\n",
      " |-- GarageArea: integer (nullable = true)\n",
      " |-- GarageQual: string (nullable = true)\n",
      " |-- GarageCond: string (nullable = true)\n",
      " |-- PavedDrive: string (nullable = true)\n",
      " |-- WoodDeckSF: integer (nullable = true)\n",
      " |-- OpenPorchSF: integer (nullable = true)\n",
      " |-- EnclosedPorch: integer (nullable = true)\n",
      " |-- 3SsnPorch: integer (nullable = true)\n",
      " |-- ScreenPorch: integer (nullable = true)\n",
      " |-- PoolArea: integer (nullable = true)\n",
      " |-- PoolQC: string (nullable = true)\n",
      " |-- Fence: string (nullable = true)\n",
      " |-- MiscFeature: string (nullable = true)\n",
      " |-- MiscVal: integer (nullable = true)\n",
      " |-- MoSold: integer (nullable = true)\n",
      " |-- YrSold: integer (nullable = true)\n",
      " |-- SaleType: string (nullable = true)\n",
      " |-- SaleCondition: string (nullable = true)\n",
      " |-- SalePrice: integer (nullable = true)\n",
      "\n"
     ]
    }
   ],
   "source": [
    "houses.printSchema()"
   ]
  },
  {
   "cell_type": "code",
   "execution_count": 3,
   "metadata": {},
   "outputs": [
    {
     "name": "stdout",
     "output_type": "stream",
     "text": [
      "+---------+------------+-------+--------+--------+---------+\n",
      "|YearBuilt|BedroomAbvGr|LotArea|1stFlrSF|2ndFlrSF|SalePrice|\n",
      "+---------+------------+-------+--------+--------+---------+\n",
      "|     2003|           3|   8450|     856|     854|   208500|\n",
      "|     1976|           3|   9600|    1262|       0|   181500|\n",
      "|     2001|           3|  11250|     920|     866|   223500|\n",
      "|     1915|           3|   9550|     961|     756|   140000|\n",
      "|     2000|           4|  14260|    1145|    1053|   250000|\n",
      "|     1993|           1|  14115|     796|     566|   143000|\n",
      "|     2004|           3|  10084|    1694|       0|   307000|\n",
      "|     1973|           3|  10382|    1107|     983|   200000|\n",
      "|     1931|           2|   6120|    1022|     752|   129900|\n",
      "|     1939|           2|   7420|    1077|       0|   118000|\n",
      "|     1965|           3|  11200|    1040|       0|   129500|\n",
      "|     2005|           4|  11924|    1182|    1142|   345000|\n",
      "|     1962|           2|  12968|     912|       0|   144000|\n",
      "|     2006|           3|  10652|    1494|       0|   279500|\n",
      "|     1960|           2|  10920|    1253|       0|   157000|\n",
      "|     1929|           2|   6120|     854|       0|   132000|\n",
      "|     1970|           2|  11241|    1004|       0|   149000|\n",
      "|     1967|           2|  10791|    1296|       0|    90000|\n",
      "|     2004|           3|  13695|    1114|       0|   159000|\n",
      "|     1958|           3|   7560|    1339|       0|   139000|\n",
      "+---------+------------+-------+--------+--------+---------+\n",
      "only showing top 20 rows\n",
      "\n"
     ]
    }
   ],
   "source": [
    "houses.select('YearBuilt', 'BedroomAbvGr', 'LotArea', '1stFlrSF', '2ndFlrSF', 'SalePrice').show()"
   ]
  },
  {
   "cell_type": "code",
   "execution_count": 4,
   "metadata": {},
   "outputs": [
    {
     "data": {
      "text/plain": [
       "1460"
      ]
     },
     "execution_count": 4,
     "metadata": {},
     "output_type": "execute_result"
    }
   ],
   "source": [
    "houses.count()"
   ]
  },
  {
   "cell_type": "markdown",
   "metadata": {},
   "source": [
    "## Feature engineering"
   ]
  },
  {
   "cell_type": "markdown",
   "metadata": {},
   "source": [
    "To keep feature engineering simple we will select the following features:\n",
    "\n",
    "Features related to age:\n",
    "- YearBuilt: Original construction date\n",
    "- YearRemodAdd: Remodel date\n",
    "\n",
    "Features related to size:\n",
    "- LotArea: Lot size in square feet\n",
    "- 1stFlrSF: First Floor square feet\n",
    "- 2ndFlrSF: Second floor square feet\n",
    "- BedroomAbvGr: Number of bedrooms above basement level\n",
    "- KitchenAbvGr: Number of kitchens\n",
    "- TotRmsAbvGrd: Total rooms above grade (does not include bathrooms)\n",
    "- GarageCars: Size of garage in car capacity\n",
    "\n",
    "Features related to quality:\n",
    "- KitchenQual: Kitchen quality\n",
    "- Functional: Home functionality rating\n",
    "- RoofMatl: Roof material\n",
    "- RoofStyle: Type of roof\n",
    "- Heating: Type of heating"
   ]
  },
  {
   "cell_type": "markdown",
   "metadata": {},
   "source": [
    "To use the Sex variable we will need a StringIndexer Estimator to convert gender to a numeric index so we can use it as a feature:"
   ]
  },
  {
   "cell_type": "code",
   "execution_count": 5,
   "metadata": {},
   "outputs": [],
   "source": [
    "cols = ['YearBuilt', 'YearRemodAdd', 'LotArea', '1stFlrSF', '2ndFlrSF', \n",
    "        'BedroomAbvGr', 'KitchenAbvGr', 'TotRmsAbvGrd', 'GarageCars',\n",
    "        'KitchenQual', 'Functional', 'RoofMatl', 'RoofStyle', 'Heating', 'SalePrice']"
   ]
  },
  {
   "cell_type": "code",
   "execution_count": 6,
   "metadata": {},
   "outputs": [],
   "source": [
    "data = houses.select(cols)"
   ]
  },
  {
   "cell_type": "code",
   "execution_count": 7,
   "metadata": {},
   "outputs": [
    {
     "name": "stdout",
     "output_type": "stream",
     "text": [
      "+---------+------------+-------+--------+--------+------------+------------+------------+----------+-----------+----------+--------+---------+-------+---------+\n",
      "|YearBuilt|YearRemodAdd|LotArea|1stFlrSF|2ndFlrSF|BedroomAbvGr|KitchenAbvGr|TotRmsAbvGrd|GarageCars|KitchenQual|Functional|RoofMatl|RoofStyle|Heating|SalePrice|\n",
      "+---------+------------+-------+--------+--------+------------+------------+------------+----------+-----------+----------+--------+---------+-------+---------+\n",
      "|     2003|        2003|   8450|     856|     854|           3|           1|           8|         2|         Gd|       Typ| CompShg|    Gable|   GasA|   208500|\n",
      "|     1976|        1976|   9600|    1262|       0|           3|           1|           6|         2|         TA|       Typ| CompShg|    Gable|   GasA|   181500|\n",
      "|     2001|        2002|  11250|     920|     866|           3|           1|           6|         2|         Gd|       Typ| CompShg|    Gable|   GasA|   223500|\n",
      "|     1915|        1970|   9550|     961|     756|           3|           1|           7|         3|         Gd|       Typ| CompShg|    Gable|   GasA|   140000|\n",
      "|     2000|        2000|  14260|    1145|    1053|           4|           1|           9|         3|         Gd|       Typ| CompShg|    Gable|   GasA|   250000|\n",
      "|     1993|        1995|  14115|     796|     566|           1|           1|           5|         2|         TA|       Typ| CompShg|    Gable|   GasA|   143000|\n",
      "|     2004|        2005|  10084|    1694|       0|           3|           1|           7|         2|         Gd|       Typ| CompShg|    Gable|   GasA|   307000|\n",
      "|     1973|        1973|  10382|    1107|     983|           3|           1|           7|         2|         TA|       Typ| CompShg|    Gable|   GasA|   200000|\n",
      "|     1931|        1950|   6120|    1022|     752|           2|           2|           8|         2|         TA|      Min1| CompShg|    Gable|   GasA|   129900|\n",
      "|     1939|        1950|   7420|    1077|       0|           2|           2|           5|         1|         TA|       Typ| CompShg|    Gable|   GasA|   118000|\n",
      "|     1965|        1965|  11200|    1040|       0|           3|           1|           5|         1|         TA|       Typ| CompShg|      Hip|   GasA|   129500|\n",
      "|     2005|        2006|  11924|    1182|    1142|           4|           1|          11|         3|         Ex|       Typ| CompShg|      Hip|   GasA|   345000|\n",
      "|     1962|        1962|  12968|     912|       0|           2|           1|           4|         1|         TA|       Typ| CompShg|      Hip|   GasA|   144000|\n",
      "|     2006|        2007|  10652|    1494|       0|           3|           1|           7|         3|         Gd|       Typ| CompShg|    Gable|   GasA|   279500|\n",
      "|     1960|        1960|  10920|    1253|       0|           2|           1|           5|         1|         TA|       Typ| CompShg|      Hip|   GasA|   157000|\n",
      "|     1929|        2001|   6120|     854|       0|           2|           1|           5|         2|         TA|       Typ| CompShg|    Gable|   GasA|   132000|\n",
      "|     1970|        1970|  11241|    1004|       0|           2|           1|           5|         2|         TA|       Typ| CompShg|    Gable|   GasA|   149000|\n",
      "|     1967|        1967|  10791|    1296|       0|           2|           2|           6|         2|         TA|       Typ| CompShg|    Gable|   GasA|    90000|\n",
      "|     2004|        2004|  13695|    1114|       0|           3|           1|           6|         2|         Gd|       Typ| CompShg|    Gable|   GasA|   159000|\n",
      "|     1958|        1965|   7560|    1339|       0|           3|           1|           6|         1|         TA|      Min1| CompShg|      Hip|   GasA|   139000|\n",
      "+---------+------------+-------+--------+--------+------------+------------+------------+----------+-----------+----------+--------+---------+-------+---------+\n",
      "only showing top 20 rows\n",
      "\n"
     ]
    }
   ],
   "source": [
    "data.show()"
   ]
  },
  {
   "cell_type": "markdown",
   "metadata": {},
   "source": [
    "Let's explore the data and look a some statistics:"
   ]
  },
  {
   "cell_type": "code",
   "execution_count": 8,
   "metadata": {},
   "outputs": [
    {
     "data": {
      "text/html": [
       "<div>\n",
       "<style scoped>\n",
       "    .dataframe tbody tr th:only-of-type {\n",
       "        vertical-align: middle;\n",
       "    }\n",
       "\n",
       "    .dataframe tbody tr th {\n",
       "        vertical-align: top;\n",
       "    }\n",
       "\n",
       "    .dataframe thead th {\n",
       "        text-align: right;\n",
       "    }\n",
       "</style>\n",
       "<table border=\"1\" class=\"dataframe\">\n",
       "  <thead>\n",
       "    <tr style=\"text-align: right;\">\n",
       "      <th></th>\n",
       "      <th>summary</th>\n",
       "      <th>YearBuilt</th>\n",
       "      <th>YearRemodAdd</th>\n",
       "      <th>LotArea</th>\n",
       "      <th>1stFlrSF</th>\n",
       "      <th>2ndFlrSF</th>\n",
       "      <th>BedroomAbvGr</th>\n",
       "      <th>KitchenAbvGr</th>\n",
       "      <th>TotRmsAbvGrd</th>\n",
       "      <th>GarageCars</th>\n",
       "      <th>KitchenQual</th>\n",
       "      <th>Functional</th>\n",
       "      <th>RoofMatl</th>\n",
       "      <th>RoofStyle</th>\n",
       "      <th>Heating</th>\n",
       "      <th>SalePrice</th>\n",
       "    </tr>\n",
       "  </thead>\n",
       "  <tbody>\n",
       "    <tr>\n",
       "      <th>0</th>\n",
       "      <td>count</td>\n",
       "      <td>1460</td>\n",
       "      <td>1460</td>\n",
       "      <td>1460</td>\n",
       "      <td>1460</td>\n",
       "      <td>1460</td>\n",
       "      <td>1460</td>\n",
       "      <td>1460</td>\n",
       "      <td>1460</td>\n",
       "      <td>1460</td>\n",
       "      <td>1460</td>\n",
       "      <td>1460</td>\n",
       "      <td>1460</td>\n",
       "      <td>1460</td>\n",
       "      <td>1460</td>\n",
       "      <td>1460</td>\n",
       "    </tr>\n",
       "    <tr>\n",
       "      <th>1</th>\n",
       "      <td>mean</td>\n",
       "      <td>1971.267808219178</td>\n",
       "      <td>1984.8657534246574</td>\n",
       "      <td>10516.828082191782</td>\n",
       "      <td>1162.626712328767</td>\n",
       "      <td>346.99246575342465</td>\n",
       "      <td>2.8664383561643834</td>\n",
       "      <td>1.0465753424657533</td>\n",
       "      <td>6.517808219178082</td>\n",
       "      <td>1.7671232876712328</td>\n",
       "      <td>None</td>\n",
       "      <td>None</td>\n",
       "      <td>None</td>\n",
       "      <td>None</td>\n",
       "      <td>None</td>\n",
       "      <td>180921.19589041095</td>\n",
       "    </tr>\n",
       "    <tr>\n",
       "      <th>2</th>\n",
       "      <td>stddev</td>\n",
       "      <td>30.202904042525294</td>\n",
       "      <td>20.64540680770938</td>\n",
       "      <td>9981.26493237915</td>\n",
       "      <td>386.5877380410744</td>\n",
       "      <td>436.528435886257</td>\n",
       "      <td>0.8157780441442279</td>\n",
       "      <td>0.22033819838403076</td>\n",
       "      <td>1.6253932905840511</td>\n",
       "      <td>0.7473150101111095</td>\n",
       "      <td>None</td>\n",
       "      <td>None</td>\n",
       "      <td>None</td>\n",
       "      <td>None</td>\n",
       "      <td>None</td>\n",
       "      <td>79442.50288288663</td>\n",
       "    </tr>\n",
       "    <tr>\n",
       "      <th>3</th>\n",
       "      <td>min</td>\n",
       "      <td>1872</td>\n",
       "      <td>1950</td>\n",
       "      <td>1300</td>\n",
       "      <td>334</td>\n",
       "      <td>0</td>\n",
       "      <td>0</td>\n",
       "      <td>0</td>\n",
       "      <td>2</td>\n",
       "      <td>0</td>\n",
       "      <td>Ex</td>\n",
       "      <td>Maj1</td>\n",
       "      <td>ClyTile</td>\n",
       "      <td>Flat</td>\n",
       "      <td>Floor</td>\n",
       "      <td>34900</td>\n",
       "    </tr>\n",
       "    <tr>\n",
       "      <th>4</th>\n",
       "      <td>max</td>\n",
       "      <td>2010</td>\n",
       "      <td>2010</td>\n",
       "      <td>215245</td>\n",
       "      <td>4692</td>\n",
       "      <td>2065</td>\n",
       "      <td>8</td>\n",
       "      <td>3</td>\n",
       "      <td>14</td>\n",
       "      <td>4</td>\n",
       "      <td>TA</td>\n",
       "      <td>Typ</td>\n",
       "      <td>WdShngl</td>\n",
       "      <td>Shed</td>\n",
       "      <td>Wall</td>\n",
       "      <td>755000</td>\n",
       "    </tr>\n",
       "  </tbody>\n",
       "</table>\n",
       "</div>"
      ],
      "text/plain": [
       "  summary           YearBuilt        YearRemodAdd             LotArea  \\\n",
       "0   count                1460                1460                1460   \n",
       "1    mean   1971.267808219178  1984.8657534246574  10516.828082191782   \n",
       "2  stddev  30.202904042525294   20.64540680770938    9981.26493237915   \n",
       "3     min                1872                1950                1300   \n",
       "4     max                2010                2010              215245   \n",
       "\n",
       "            1stFlrSF            2ndFlrSF        BedroomAbvGr  \\\n",
       "0               1460                1460                1460   \n",
       "1  1162.626712328767  346.99246575342465  2.8664383561643834   \n",
       "2  386.5877380410744    436.528435886257  0.8157780441442279   \n",
       "3                334                   0                   0   \n",
       "4               4692                2065                   8   \n",
       "\n",
       "          KitchenAbvGr        TotRmsAbvGrd          GarageCars KitchenQual  \\\n",
       "0                 1460                1460                1460        1460   \n",
       "1   1.0465753424657533   6.517808219178082  1.7671232876712328        None   \n",
       "2  0.22033819838403076  1.6253932905840511  0.7473150101111095        None   \n",
       "3                    0                   2                   0          Ex   \n",
       "4                    3                  14                   4          TA   \n",
       "\n",
       "  Functional RoofMatl RoofStyle Heating           SalePrice  \n",
       "0       1460     1460      1460    1460                1460  \n",
       "1       None     None      None    None  180921.19589041095  \n",
       "2       None     None      None    None   79442.50288288663  \n",
       "3       Maj1  ClyTile      Flat   Floor               34900  \n",
       "4        Typ  WdShngl      Shed    Wall              755000  "
      ]
     },
     "execution_count": 8,
     "metadata": {},
     "output_type": "execute_result"
    }
   ],
   "source": [
    "data.describe().toPandas()"
   ]
  },
  {
   "cell_type": "markdown",
   "metadata": {},
   "source": [
    "Let's focus on the sale prices:"
   ]
  },
  {
   "cell_type": "code",
   "execution_count": 9,
   "metadata": {},
   "outputs": [
    {
     "name": "stdout",
     "output_type": "stream",
     "text": [
      "+-------+------------------+\n",
      "|summary|         SalePrice|\n",
      "+-------+------------------+\n",
      "|  count|              1460|\n",
      "|   mean|180921.19589041095|\n",
      "| stddev| 79442.50288288663|\n",
      "|    min|             34900|\n",
      "|    max|            755000|\n",
      "+-------+------------------+\n",
      "\n"
     ]
    }
   ],
   "source": [
    "data.describe('SalePrice').show()"
   ]
  },
  {
   "cell_type": "code",
   "execution_count": 10,
   "metadata": {},
   "outputs": [],
   "source": [
    "from pyspark.sql.functions import col"
   ]
  },
  {
   "cell_type": "code",
   "execution_count": 11,
   "metadata": {},
   "outputs": [
    {
     "name": "stdout",
     "output_type": "stream",
     "text": [
      "+---------+------------+-------+--------+--------+------------+------------+------------+----------+-----------+----------+--------+---------+-------+---------+\n",
      "|YearBuilt|YearRemodAdd|LotArea|1stFlrSF|2ndFlrSF|BedroomAbvGr|KitchenAbvGr|TotRmsAbvGrd|GarageCars|KitchenQual|Functional|RoofMatl|RoofStyle|Heating|SalePrice|\n",
      "+---------+------------+-------+--------+--------+------------+------------+------------+----------+-----------+----------+--------+---------+-------+---------+\n",
      "|     1994|        1995|  21535|    2444|    1872|           4|           1|          10|         3|         Ex|       Typ| WdShngl|    Gable|   GasA|   755000|\n",
      "|     1996|        1996|  15623|    2411|    2065|           4|           1|          10|         3|         Ex|       Typ| CompShg|      Hip|   GasA|   745000|\n",
      "+---------+------------+-------+--------+--------+------------+------------+------------+----------+-----------+----------+--------+---------+-------+---------+\n",
      "\n"
     ]
    }
   ],
   "source": [
    "data.where('SalePrice > 700000').show()"
   ]
  },
  {
   "cell_type": "code",
   "execution_count": 12,
   "metadata": {},
   "outputs": [
    {
     "name": "stdout",
     "output_type": "stream",
     "text": [
      "+---------+------------+-------+--------+--------+------------+------------+------------+----------+-----------+----------+--------+---------+-------+---------+\n",
      "|YearBuilt|YearRemodAdd|LotArea|1stFlrSF|2ndFlrSF|BedroomAbvGr|KitchenAbvGr|TotRmsAbvGrd|GarageCars|KitchenQual|Functional|RoofMatl|RoofStyle|Heating|SalePrice|\n",
      "+---------+------------+-------+--------+--------+------------+------------+------------+----------+-----------+----------+--------+---------+-------+---------+\n",
      "|     1920|        1950|   8500|     649|     668|           3|           1|           6|         1|         TA|       Typ| CompShg|  Gambrel|   GasA|    40000|\n",
      "|     1920|        1950|   7879|     720|       0|           2|           1|           4|         0|         TA|       Typ| CompShg|    Gable|   GasA|    34900|\n",
      "|     1946|        1950|   5000|     334|       0|           1|           1|           2|         0|         Fa|       Typ| CompShg|    Gable|   GasA|    39300|\n",
      "|     1949|        1950|   9000|     480|       0|           1|           1|           4|         1|         TA|       Typ| CompShg|    Gable|   GasA|    35311|\n",
      "|     1910|        1950|   5925|     600|     368|           2|           1|           6|         0|         TA|       Typ| CompShg|    Gable|   Grav|    37900|\n",
      "+---------+------------+-------+--------+--------+------------+------------+------------+----------+-----------+----------+--------+---------+-------+---------+\n",
      "\n"
     ]
    }
   ],
   "source": [
    "data.where('SalePrice < 50000').show()"
   ]
  },
  {
   "cell_type": "markdown",
   "metadata": {},
   "source": [
    "For the LinearRegresion Estimator the 'label' must be of type double but 'SalePrice' is of type integer so we have to convert it:"
   ]
  },
  {
   "cell_type": "code",
   "execution_count": 13,
   "metadata": {},
   "outputs": [],
   "source": [
    "input = data.withColumn('label', col('SalePrice').cast('double')).drop('SalePrice')"
   ]
  },
  {
   "cell_type": "code",
   "execution_count": 14,
   "metadata": {},
   "outputs": [
    {
     "name": "stdout",
     "output_type": "stream",
     "text": [
      "+---------+------------+-------+--------+--------+------------+------------+------------+----------+-----------+----------+--------+---------+-------+--------+\n",
      "|YearBuilt|YearRemodAdd|LotArea|1stFlrSF|2ndFlrSF|BedroomAbvGr|KitchenAbvGr|TotRmsAbvGrd|GarageCars|KitchenQual|Functional|RoofMatl|RoofStyle|Heating|   label|\n",
      "+---------+------------+-------+--------+--------+------------+------------+------------+----------+-----------+----------+--------+---------+-------+--------+\n",
      "|     2003|        2003|   8450|     856|     854|           3|           1|           8|         2|         Gd|       Typ| CompShg|    Gable|   GasA|208500.0|\n",
      "|     1976|        1976|   9600|    1262|       0|           3|           1|           6|         2|         TA|       Typ| CompShg|    Gable|   GasA|181500.0|\n",
      "|     2001|        2002|  11250|     920|     866|           3|           1|           6|         2|         Gd|       Typ| CompShg|    Gable|   GasA|223500.0|\n",
      "|     1915|        1970|   9550|     961|     756|           3|           1|           7|         3|         Gd|       Typ| CompShg|    Gable|   GasA|140000.0|\n",
      "|     2000|        2000|  14260|    1145|    1053|           4|           1|           9|         3|         Gd|       Typ| CompShg|    Gable|   GasA|250000.0|\n",
      "|     1993|        1995|  14115|     796|     566|           1|           1|           5|         2|         TA|       Typ| CompShg|    Gable|   GasA|143000.0|\n",
      "|     2004|        2005|  10084|    1694|       0|           3|           1|           7|         2|         Gd|       Typ| CompShg|    Gable|   GasA|307000.0|\n",
      "|     1973|        1973|  10382|    1107|     983|           3|           1|           7|         2|         TA|       Typ| CompShg|    Gable|   GasA|200000.0|\n",
      "|     1931|        1950|   6120|    1022|     752|           2|           2|           8|         2|         TA|      Min1| CompShg|    Gable|   GasA|129900.0|\n",
      "|     1939|        1950|   7420|    1077|       0|           2|           2|           5|         1|         TA|       Typ| CompShg|    Gable|   GasA|118000.0|\n",
      "|     1965|        1965|  11200|    1040|       0|           3|           1|           5|         1|         TA|       Typ| CompShg|      Hip|   GasA|129500.0|\n",
      "|     2005|        2006|  11924|    1182|    1142|           4|           1|          11|         3|         Ex|       Typ| CompShg|      Hip|   GasA|345000.0|\n",
      "|     1962|        1962|  12968|     912|       0|           2|           1|           4|         1|         TA|       Typ| CompShg|      Hip|   GasA|144000.0|\n",
      "|     2006|        2007|  10652|    1494|       0|           3|           1|           7|         3|         Gd|       Typ| CompShg|    Gable|   GasA|279500.0|\n",
      "|     1960|        1960|  10920|    1253|       0|           2|           1|           5|         1|         TA|       Typ| CompShg|      Hip|   GasA|157000.0|\n",
      "|     1929|        2001|   6120|     854|       0|           2|           1|           5|         2|         TA|       Typ| CompShg|    Gable|   GasA|132000.0|\n",
      "|     1970|        1970|  11241|    1004|       0|           2|           1|           5|         2|         TA|       Typ| CompShg|    Gable|   GasA|149000.0|\n",
      "|     1967|        1967|  10791|    1296|       0|           2|           2|           6|         2|         TA|       Typ| CompShg|    Gable|   GasA| 90000.0|\n",
      "|     2004|        2004|  13695|    1114|       0|           3|           1|           6|         2|         Gd|       Typ| CompShg|    Gable|   GasA|159000.0|\n",
      "|     1958|        1965|   7560|    1339|       0|           3|           1|           6|         1|         TA|      Min1| CompShg|      Hip|   GasA|139000.0|\n",
      "+---------+------------+-------+--------+--------+------------+------------+------------+----------+-----------+----------+--------+---------+-------+--------+\n",
      "only showing top 20 rows\n",
      "\n"
     ]
    }
   ],
   "source": [
    "input.show()"
   ]
  },
  {
   "cell_type": "code",
   "execution_count": 15,
   "metadata": {},
   "outputs": [
    {
     "name": "stdout",
     "output_type": "stream",
     "text": [
      "root\n",
      " |-- YearBuilt: integer (nullable = true)\n",
      " |-- YearRemodAdd: integer (nullable = true)\n",
      " |-- LotArea: integer (nullable = true)\n",
      " |-- 1stFlrSF: integer (nullable = true)\n",
      " |-- 2ndFlrSF: integer (nullable = true)\n",
      " |-- BedroomAbvGr: integer (nullable = true)\n",
      " |-- KitchenAbvGr: integer (nullable = true)\n",
      " |-- TotRmsAbvGrd: integer (nullable = true)\n",
      " |-- GarageCars: integer (nullable = true)\n",
      " |-- KitchenQual: string (nullable = true)\n",
      " |-- Functional: string (nullable = true)\n",
      " |-- RoofMatl: string (nullable = true)\n",
      " |-- RoofStyle: string (nullable = true)\n",
      " |-- Heating: string (nullable = true)\n",
      " |-- label: double (nullable = true)\n",
      "\n"
     ]
    }
   ],
   "source": [
    "input.printSchema()"
   ]
  },
  {
   "cell_type": "markdown",
   "metadata": {},
   "source": [
    "Now we have to convert all categorical variables into numerical ones:"
   ]
  },
  {
   "cell_type": "code",
   "execution_count": 16,
   "metadata": {},
   "outputs": [],
   "source": [
    "categorical_cols = ['KitchenQual', 'Functional', 'RoofMatl', 'RoofStyle', 'Heating']"
   ]
  },
  {
   "cell_type": "code",
   "execution_count": 17,
   "metadata": {},
   "outputs": [],
   "source": [
    "from pyspark.ml.feature import StringIndexer"
   ]
  },
  {
   "cell_type": "code",
   "execution_count": 18,
   "metadata": {},
   "outputs": [],
   "source": [
    "indexers = []\n",
    "for c in categorical_cols:\n",
    "    indexers.append(StringIndexer(inputCol=c, outputCol='{}_feature'.format(c), handleInvalid='keep'))"
   ]
  },
  {
   "cell_type": "markdown",
   "metadata": {},
   "source": [
    "NOTE: If you do not use the `handleInvalid` option, then when the StringIndexer goes through the test data and finds strings that did not find previously in the training set it will abort execution."
   ]
  },
  {
   "cell_type": "markdown",
   "metadata": {},
   "source": [
    "Now we have to assemble the selected features into a vector to use it with our model:"
   ]
  },
  {
   "cell_type": "code",
   "execution_count": 19,
   "metadata": {},
   "outputs": [],
   "source": [
    "from pyspark.ml.feature import VectorAssembler"
   ]
  },
  {
   "cell_type": "code",
   "execution_count": 20,
   "metadata": {},
   "outputs": [],
   "source": [
    "numerical_cols = ['YearBuilt', 'YearRemodAdd', 'LotArea', '1stFlrSF', '2ndFlrSF', 'BedroomAbvGr', 'KitchenAbvGr', 'TotRmsAbvGrd', 'GarageCars']"
   ]
  },
  {
   "cell_type": "code",
   "execution_count": 21,
   "metadata": {},
   "outputs": [],
   "source": [
    "categorical_cols_names = ['{}_feature'.format(c) for c in categorical_cols]"
   ]
  },
  {
   "cell_type": "code",
   "execution_count": 22,
   "metadata": {},
   "outputs": [],
   "source": [
    "col_names = numerical_cols + categorical_cols_names"
   ]
  },
  {
   "cell_type": "code",
   "execution_count": 23,
   "metadata": {},
   "outputs": [
    {
     "data": {
      "text/plain": [
       "['YearBuilt',\n",
       " 'YearRemodAdd',\n",
       " 'LotArea',\n",
       " '1stFlrSF',\n",
       " '2ndFlrSF',\n",
       " 'BedroomAbvGr',\n",
       " 'KitchenAbvGr',\n",
       " 'TotRmsAbvGrd',\n",
       " 'GarageCars',\n",
       " 'KitchenQual_feature',\n",
       " 'Functional_feature',\n",
       " 'RoofMatl_feature',\n",
       " 'RoofStyle_feature',\n",
       " 'Heating_feature']"
      ]
     },
     "execution_count": 23,
     "metadata": {},
     "output_type": "execute_result"
    }
   ],
   "source": [
    "col_names"
   ]
  },
  {
   "cell_type": "code",
   "execution_count": 24,
   "metadata": {},
   "outputs": [],
   "source": [
    "assembler = VectorAssembler(inputCols=col_names, outputCol='features')"
   ]
  },
  {
   "cell_type": "markdown",
   "metadata": {},
   "source": [
    "Let's look if we have to deal with any null values in the dataset:"
   ]
  },
  {
   "cell_type": "code",
   "execution_count": 25,
   "metadata": {},
   "outputs": [
    {
     "data": {
      "text/html": [
       "<div>\n",
       "<style scoped>\n",
       "    .dataframe tbody tr th:only-of-type {\n",
       "        vertical-align: middle;\n",
       "    }\n",
       "\n",
       "    .dataframe tbody tr th {\n",
       "        vertical-align: top;\n",
       "    }\n",
       "\n",
       "    .dataframe thead th {\n",
       "        text-align: right;\n",
       "    }\n",
       "</style>\n",
       "<table border=\"1\" class=\"dataframe\">\n",
       "  <thead>\n",
       "    <tr style=\"text-align: right;\">\n",
       "      <th></th>\n",
       "      <th>YearBuilt</th>\n",
       "      <th>YearRemodAdd</th>\n",
       "      <th>LotArea</th>\n",
       "      <th>1stFlrSF</th>\n",
       "      <th>2ndFlrSF</th>\n",
       "      <th>BedroomAbvGr</th>\n",
       "      <th>KitchenAbvGr</th>\n",
       "      <th>TotRmsAbvGrd</th>\n",
       "      <th>GarageCars</th>\n",
       "      <th>KitchenQual</th>\n",
       "      <th>Functional</th>\n",
       "      <th>RoofMatl</th>\n",
       "      <th>RoofStyle</th>\n",
       "      <th>Heating</th>\n",
       "      <th>label</th>\n",
       "    </tr>\n",
       "  </thead>\n",
       "  <tbody>\n",
       "    <tr>\n",
       "      <th>0</th>\n",
       "      <td>0</td>\n",
       "      <td>0</td>\n",
       "      <td>0</td>\n",
       "      <td>0</td>\n",
       "      <td>0</td>\n",
       "      <td>0</td>\n",
       "      <td>0</td>\n",
       "      <td>0</td>\n",
       "      <td>0</td>\n",
       "      <td>0</td>\n",
       "      <td>0</td>\n",
       "      <td>0</td>\n",
       "      <td>0</td>\n",
       "      <td>0</td>\n",
       "      <td>0</td>\n",
       "    </tr>\n",
       "  </tbody>\n",
       "</table>\n",
       "</div>"
      ],
      "text/plain": [
       "   YearBuilt  YearRemodAdd  LotArea  1stFlrSF  2ndFlrSF  BedroomAbvGr  \\\n",
       "0          0             0        0         0         0             0   \n",
       "\n",
       "   KitchenAbvGr  TotRmsAbvGrd  GarageCars  KitchenQual  Functional  RoofMatl  \\\n",
       "0             0             0           0            0           0         0   \n",
       "\n",
       "   RoofStyle  Heating  label  \n",
       "0          0        0      0  "
      ]
     },
     "execution_count": 25,
     "metadata": {},
     "output_type": "execute_result"
    }
   ],
   "source": [
    "from pyspark.sql.functions import isnan, when, count\n",
    "input.select([count(when(col(c).isNull(), c)).alias(c) for c in input.columns]).toPandas()"
   ]
  },
  {
   "cell_type": "code",
   "execution_count": 26,
   "metadata": {},
   "outputs": [
    {
     "data": {
      "text/plain": [
       "1460"
      ]
     },
     "execution_count": 26,
     "metadata": {},
     "output_type": "execute_result"
    }
   ],
   "source": [
    "input.count()"
   ]
  },
  {
   "cell_type": "markdown",
   "metadata": {},
   "source": [
    "## Training"
   ]
  },
  {
   "cell_type": "markdown",
   "metadata": {},
   "source": [
    "In this case we are dealing with a regression problem so we will use a simple LinearRegression as the Estimator:"
   ]
  },
  {
   "cell_type": "code",
   "execution_count": 27,
   "metadata": {},
   "outputs": [],
   "source": [
    "from pyspark.ml.regression import LinearRegression"
   ]
  },
  {
   "cell_type": "code",
   "execution_count": 28,
   "metadata": {},
   "outputs": [],
   "source": [
    "lr = LinearRegression(maxIter=10, regParam=0.01)"
   ]
  },
  {
   "cell_type": "markdown",
   "metadata": {},
   "source": [
    "We can now create the pipeline:"
   ]
  },
  {
   "cell_type": "code",
   "execution_count": 29,
   "metadata": {},
   "outputs": [],
   "source": [
    "from pyspark.ml import Pipeline"
   ]
  },
  {
   "cell_type": "code",
   "execution_count": 30,
   "metadata": {},
   "outputs": [],
   "source": [
    "pipeline = Pipeline(stages=indexers + [assembler, lr])"
   ]
  },
  {
   "cell_type": "code",
   "execution_count": 31,
   "metadata": {},
   "outputs": [],
   "source": [
    "training, test = input.randomSplit([0.8, 0.2])"
   ]
  },
  {
   "cell_type": "code",
   "execution_count": 32,
   "metadata": {},
   "outputs": [
    {
     "name": "stdout",
     "output_type": "stream",
     "text": [
      "CPU times: user 45.9 ms, sys: 13.5 ms, total: 59.4 ms\n",
      "Wall time: 3.13 s\n"
     ]
    }
   ],
   "source": [
    "%%time\n",
    "model = pipeline.fit(training)"
   ]
  },
  {
   "cell_type": "markdown",
   "metadata": {},
   "source": [
    "## Evaluation"
   ]
  },
  {
   "cell_type": "code",
   "execution_count": 33,
   "metadata": {},
   "outputs": [],
   "source": [
    "from pyspark.ml.evaluation import RegressionEvaluator\n",
    "evaluator = RegressionEvaluator()"
   ]
  },
  {
   "cell_type": "code",
   "execution_count": 34,
   "metadata": {},
   "outputs": [
    {
     "data": {
      "text/plain": [
       "265"
      ]
     },
     "execution_count": 34,
     "metadata": {},
     "output_type": "execute_result"
    }
   ],
   "source": [
    "test.count()"
   ]
  },
  {
   "cell_type": "code",
   "execution_count": 35,
   "metadata": {},
   "outputs": [],
   "source": [
    "predictions = model.transform(test)"
   ]
  },
  {
   "cell_type": "code",
   "execution_count": 36,
   "metadata": {},
   "outputs": [
    {
     "name": "stdout",
     "output_type": "stream",
     "text": [
      "+--------+------------------+\n",
      "|   label|        prediction|\n",
      "+--------+------------------+\n",
      "|122000.0|107056.47361213807|\n",
      "|107500.0|138808.13651330466|\n",
      "|157500.0|176075.85258704377|\n",
      "|135000.0|126246.83883265592|\n",
      "|137000.0|135816.40516097378|\n",
      "+--------+------------------+\n",
      "only showing top 5 rows\n",
      "\n"
     ]
    }
   ],
   "source": [
    "predictions.select('label', 'prediction').show(5)"
   ]
  },
  {
   "cell_type": "code",
   "execution_count": 37,
   "metadata": {},
   "outputs": [],
   "source": [
    "rmse = evaluator.evaluate(predictions)"
   ]
  },
  {
   "cell_type": "markdown",
   "metadata": {},
   "source": [
    "Root-mean squared error (RMSE):"
   ]
  },
  {
   "cell_type": "code",
   "execution_count": 38,
   "metadata": {},
   "outputs": [
    {
     "data": {
      "text/plain": [
       "46520.39217655911"
      ]
     },
     "execution_count": 38,
     "metadata": {},
     "output_type": "execute_result"
    }
   ],
   "source": [
    "rmse"
   ]
  },
  {
   "cell_type": "markdown",
   "metadata": {},
   "source": [
    "So in general a estimation of our average error is around 30k and if we look at the above predicitons and compare them with the labels we see our predictions are fine. "
   ]
  },
  {
   "cell_type": "markdown",
   "metadata": {},
   "source": [
    "## Final note"
   ]
  },
  {
   "cell_type": "markdown",
   "metadata": {},
   "source": [
    "This was just a quick and simple solution but you can definitely improve this!!"
   ]
  },
  {
   "cell_type": "markdown",
   "metadata": {},
   "source": [
    "You can also upload your results to kaggle and take part in the competition:\n",
    "```\n",
    "Submissions are evaluated on Root-Mean-Squared-Error (RMSE) between the logarithm of the predicted value and the logarithm of the observed sales price. \n",
    "\n",
    "Submission File Format\n",
    "\n",
    "The file should contain a header and have the following format:\n",
    "\n",
    "    Id,SalePrice\n",
    "    1461,169000.1\n",
    "    1462,187724.1233\n",
    "    1463,175221\n",
    "    etc.\n",
    "```"
   ]
  },
  {
   "cell_type": "code",
   "execution_count": 39,
   "metadata": {},
   "outputs": [],
   "source": [
    "competition_test_raw = spark.read.csv('datasets/house-prices/test.csv', header=True, inferSchema=True)"
   ]
  },
  {
   "cell_type": "code",
   "execution_count": 40,
   "metadata": {},
   "outputs": [
    {
     "data": {
      "text/plain": [
       "1459"
      ]
     },
     "execution_count": 40,
     "metadata": {},
     "output_type": "execute_result"
    }
   ],
   "source": [
    "competition_test_raw.count()"
   ]
  },
  {
   "cell_type": "markdown",
   "metadata": {},
   "source": [
    "Let's keep only the columns needed for our model:"
   ]
  },
  {
   "cell_type": "code",
   "execution_count": 41,
   "metadata": {},
   "outputs": [],
   "source": [
    "competition_test = competition_test_raw.select(numerical_cols + categorical_cols + ['Id'])"
   ]
  },
  {
   "cell_type": "markdown",
   "metadata": {},
   "source": [
    "We can now try obtain the predicitons but to our surprise this will return an errror (try to uncomment and run the command below):"
   ]
  },
  {
   "cell_type": "code",
   "execution_count": 42,
   "metadata": {},
   "outputs": [],
   "source": [
    "#result = model.transform(competition_test)"
   ]
  },
  {
   "cell_type": "markdown",
   "metadata": {},
   "source": [
    "Let's look at the GarageCars column that seems to contain non numeric values:"
   ]
  },
  {
   "cell_type": "code",
   "execution_count": 43,
   "metadata": {},
   "outputs": [
    {
     "name": "stdout",
     "output_type": "stream",
     "text": [
      "+----------+\n",
      "|GarageCars|\n",
      "+----------+\n",
      "|        NA|\n",
      "+----------+\n",
      "\n"
     ]
    }
   ],
   "source": [
    "competition_test.select('GarageCars').filter(col('GarageCars').cast('integer').isNull()).show()"
   ]
  },
  {
   "cell_type": "markdown",
   "metadata": {},
   "source": [
    "So, in the competition test dataset, there is one row that for GarageCars it has the value \"NA\", this causes the conversion to \"integer\" to fail."
   ]
  },
  {
   "cell_type": "markdown",
   "metadata": {},
   "source": [
    "We can now confirm that this is the only numerical column where this happens:"
   ]
  },
  {
   "cell_type": "code",
   "execution_count": 44,
   "metadata": {},
   "outputs": [
    {
     "data": {
      "text/html": [
       "<div>\n",
       "<style scoped>\n",
       "    .dataframe tbody tr th:only-of-type {\n",
       "        vertical-align: middle;\n",
       "    }\n",
       "\n",
       "    .dataframe tbody tr th {\n",
       "        vertical-align: top;\n",
       "    }\n",
       "\n",
       "    .dataframe thead th {\n",
       "        text-align: right;\n",
       "    }\n",
       "</style>\n",
       "<table border=\"1\" class=\"dataframe\">\n",
       "  <thead>\n",
       "    <tr style=\"text-align: right;\">\n",
       "      <th></th>\n",
       "      <th>YearBuilt</th>\n",
       "      <th>YearRemodAdd</th>\n",
       "      <th>LotArea</th>\n",
       "      <th>1stFlrSF</th>\n",
       "      <th>2ndFlrSF</th>\n",
       "      <th>BedroomAbvGr</th>\n",
       "      <th>KitchenAbvGr</th>\n",
       "      <th>TotRmsAbvGrd</th>\n",
       "      <th>GarageCars</th>\n",
       "    </tr>\n",
       "  </thead>\n",
       "  <tbody>\n",
       "    <tr>\n",
       "      <th>0</th>\n",
       "      <td>0</td>\n",
       "      <td>0</td>\n",
       "      <td>0</td>\n",
       "      <td>0</td>\n",
       "      <td>0</td>\n",
       "      <td>0</td>\n",
       "      <td>0</td>\n",
       "      <td>0</td>\n",
       "      <td>1</td>\n",
       "    </tr>\n",
       "  </tbody>\n",
       "</table>\n",
       "</div>"
      ],
      "text/plain": [
       "   YearBuilt  YearRemodAdd  LotArea  1stFlrSF  2ndFlrSF  BedroomAbvGr  \\\n",
       "0          0             0        0         0         0             0   \n",
       "\n",
       "   KitchenAbvGr  TotRmsAbvGrd  GarageCars  \n",
       "0             0             0           1  "
      ]
     },
     "execution_count": 44,
     "metadata": {},
     "output_type": "execute_result"
    }
   ],
   "source": [
    "competition_test.select(numerical_cols).select([count(when(col(c).cast('integer').isNull(), c)).alias(c) for c in numerical_cols]).toPandas()"
   ]
  },
  {
   "cell_type": "markdown",
   "metadata": {},
   "source": [
    "So we have to fix this issue before proceeding:"
   ]
  },
  {
   "cell_type": "code",
   "execution_count": 45,
   "metadata": {},
   "outputs": [],
   "source": [
    "competition_test_fixed = competition_test.replace('NA', '0')"
   ]
  },
  {
   "cell_type": "markdown",
   "metadata": {},
   "source": [
    "Let's check it has been fixed:"
   ]
  },
  {
   "cell_type": "code",
   "execution_count": 46,
   "metadata": {},
   "outputs": [
    {
     "data": {
      "text/html": [
       "<div>\n",
       "<style scoped>\n",
       "    .dataframe tbody tr th:only-of-type {\n",
       "        vertical-align: middle;\n",
       "    }\n",
       "\n",
       "    .dataframe tbody tr th {\n",
       "        vertical-align: top;\n",
       "    }\n",
       "\n",
       "    .dataframe thead th {\n",
       "        text-align: right;\n",
       "    }\n",
       "</style>\n",
       "<table border=\"1\" class=\"dataframe\">\n",
       "  <thead>\n",
       "    <tr style=\"text-align: right;\">\n",
       "      <th></th>\n",
       "      <th>YearBuilt</th>\n",
       "      <th>YearRemodAdd</th>\n",
       "      <th>LotArea</th>\n",
       "      <th>1stFlrSF</th>\n",
       "      <th>2ndFlrSF</th>\n",
       "      <th>BedroomAbvGr</th>\n",
       "      <th>KitchenAbvGr</th>\n",
       "      <th>TotRmsAbvGrd</th>\n",
       "      <th>GarageCars</th>\n",
       "    </tr>\n",
       "  </thead>\n",
       "  <tbody>\n",
       "    <tr>\n",
       "      <th>0</th>\n",
       "      <td>0</td>\n",
       "      <td>0</td>\n",
       "      <td>0</td>\n",
       "      <td>0</td>\n",
       "      <td>0</td>\n",
       "      <td>0</td>\n",
       "      <td>0</td>\n",
       "      <td>0</td>\n",
       "      <td>0</td>\n",
       "    </tr>\n",
       "  </tbody>\n",
       "</table>\n",
       "</div>"
      ],
      "text/plain": [
       "   YearBuilt  YearRemodAdd  LotArea  1stFlrSF  2ndFlrSF  BedroomAbvGr  \\\n",
       "0          0             0        0         0         0             0   \n",
       "\n",
       "   KitchenAbvGr  TotRmsAbvGrd  GarageCars  \n",
       "0             0             0           0  "
      ]
     },
     "execution_count": 46,
     "metadata": {},
     "output_type": "execute_result"
    }
   ],
   "source": [
    "competition_test_fixed.select(numerical_cols).select([count(when(col(c).cast('integer').isNull(), c)).alias(c) for c in numerical_cols]).toPandas()"
   ]
  },
  {
   "cell_type": "markdown",
   "metadata": {},
   "source": [
    "So now we can proceed and get our predicitions, but you would get into another issue if you run the command:"
   ]
  },
  {
   "cell_type": "code",
   "execution_count": 47,
   "metadata": {},
   "outputs": [],
   "source": [
    "#result = model.transform(competition_test_fixed)"
   ]
  },
  {
   "cell_type": "markdown",
   "metadata": {},
   "source": [
    "Now the problem is that after the change the 'GarageCars' is no longer automatically detected as 'integer' type:"
   ]
  },
  {
   "cell_type": "code",
   "execution_count": 48,
   "metadata": {},
   "outputs": [
    {
     "name": "stdout",
     "output_type": "stream",
     "text": [
      "root\n",
      " |-- YearBuilt: integer (nullable = true)\n",
      " |-- YearRemodAdd: integer (nullable = true)\n",
      " |-- LotArea: integer (nullable = true)\n",
      " |-- 1stFlrSF: integer (nullable = true)\n",
      " |-- 2ndFlrSF: integer (nullable = true)\n",
      " |-- BedroomAbvGr: integer (nullable = true)\n",
      " |-- KitchenAbvGr: integer (nullable = true)\n",
      " |-- TotRmsAbvGrd: integer (nullable = true)\n",
      " |-- GarageCars: string (nullable = true)\n",
      " |-- KitchenQual: string (nullable = true)\n",
      " |-- Functional: string (nullable = true)\n",
      " |-- RoofMatl: string (nullable = true)\n",
      " |-- RoofStyle: string (nullable = true)\n",
      " |-- Heating: string (nullable = true)\n",
      " |-- Id: integer (nullable = true)\n",
      "\n"
     ]
    }
   ],
   "source": [
    "competition_test_fixed.printSchema()"
   ]
  },
  {
   "cell_type": "markdown",
   "metadata": {},
   "source": [
    "As you can see now we have: `GarageCars: string`"
   ]
  },
  {
   "cell_type": "markdown",
   "metadata": {},
   "source": [
    "To fix this we will do the cast manually:"
   ]
  },
  {
   "cell_type": "code",
   "execution_count": 49,
   "metadata": {},
   "outputs": [],
   "source": [
    "competition_test_fixed2 = competition_test_fixed.withColumnRenamed('GarageCars', 'GarageCarsString').withColumn('GarageCars', col('GarageCarsString').cast('integer'))"
   ]
  },
  {
   "cell_type": "code",
   "execution_count": 50,
   "metadata": {},
   "outputs": [
    {
     "name": "stdout",
     "output_type": "stream",
     "text": [
      "root\n",
      " |-- YearBuilt: integer (nullable = true)\n",
      " |-- YearRemodAdd: integer (nullable = true)\n",
      " |-- LotArea: integer (nullable = true)\n",
      " |-- 1stFlrSF: integer (nullable = true)\n",
      " |-- 2ndFlrSF: integer (nullable = true)\n",
      " |-- BedroomAbvGr: integer (nullable = true)\n",
      " |-- KitchenAbvGr: integer (nullable = true)\n",
      " |-- TotRmsAbvGrd: integer (nullable = true)\n",
      " |-- GarageCarsString: string (nullable = true)\n",
      " |-- KitchenQual: string (nullable = true)\n",
      " |-- Functional: string (nullable = true)\n",
      " |-- RoofMatl: string (nullable = true)\n",
      " |-- RoofStyle: string (nullable = true)\n",
      " |-- Heating: string (nullable = true)\n",
      " |-- Id: integer (nullable = true)\n",
      " |-- GarageCars: integer (nullable = true)\n",
      "\n"
     ]
    }
   ],
   "source": [
    "competition_test_fixed2.printSchema()"
   ]
  },
  {
   "cell_type": "code",
   "execution_count": 51,
   "metadata": {},
   "outputs": [
    {
     "name": "stdout",
     "output_type": "stream",
     "text": [
      "+----------+----------------+\n",
      "|GarageCars|GarageCarsString|\n",
      "+----------+----------------+\n",
      "|         1|               1|\n",
      "|         1|               1|\n",
      "|         2|               2|\n",
      "|         2|               2|\n",
      "|         2|               2|\n",
      "|         2|               2|\n",
      "|         2|               2|\n",
      "|         2|               2|\n",
      "|         2|               2|\n",
      "|         2|               2|\n",
      "|         2|               2|\n",
      "|         1|               1|\n",
      "|         1|               1|\n",
      "|         2|               2|\n",
      "|         1|               1|\n",
      "|         3|               3|\n",
      "|         3|               3|\n",
      "|         3|               3|\n",
      "|         3|               3|\n",
      "|         3|               3|\n",
      "+----------+----------------+\n",
      "only showing top 20 rows\n",
      "\n"
     ]
    }
   ],
   "source": [
    "competition_test_fixed2.select('GarageCars', 'GarageCarsString').show()"
   ]
  },
  {
   "cell_type": "markdown",
   "metadata": {},
   "source": [
    "So as we can see above the issue has been fixed and we can remove the 'GarageCarsString' column:"
   ]
  },
  {
   "cell_type": "code",
   "execution_count": 52,
   "metadata": {},
   "outputs": [],
   "source": [
    "competition_test_fixed3 = competition_test_fixed2.drop('GarageCarsString')"
   ]
  },
  {
   "cell_type": "markdown",
   "metadata": {},
   "source": [
    "And now we can proceed obtaining the predictions:"
   ]
  },
  {
   "cell_type": "code",
   "execution_count": 53,
   "metadata": {},
   "outputs": [],
   "source": [
    "result = model.transform(competition_test_fixed3)"
   ]
  },
  {
   "cell_type": "markdown",
   "metadata": {},
   "source": [
    "And finally we can save it in CSV format:"
   ]
  },
  {
   "cell_type": "code",
   "execution_count": 54,
   "metadata": {},
   "outputs": [],
   "source": [
    "submit = result.select('Id', 'prediction').withColumnRenamed('prediction', 'SalePrice')"
   ]
  },
  {
   "cell_type": "code",
   "execution_count": 55,
   "metadata": {},
   "outputs": [
    {
     "name": "stdout",
     "output_type": "stream",
     "text": [
      "+----+------------------+\n",
      "|  Id|         SalePrice|\n",
      "+----+------------------+\n",
      "|1461|107943.03079417977|\n",
      "|1462|158408.90819984255|\n",
      "|1463|189033.22889016382|\n",
      "|1464| 207487.9997357831|\n",
      "|1465|188271.48248962918|\n",
      "|1466|189155.33859713562|\n",
      "|1467|171976.71691800654|\n",
      "|1468|182992.98591455957|\n",
      "|1469| 194812.4015582949|\n",
      "|1470|119442.33346839249|\n",
      "|1471|198923.10175579996|\n",
      "|1472|102000.08272453747|\n",
      "|1473|104680.07841736497|\n",
      "|1474|165491.23943012394|\n",
      "|1475| 99101.06739765313|\n",
      "|1476|332844.13643109216|\n",
      "|1477|250435.63928739377|\n",
      "|1478|  278808.778015197|\n",
      "|1479| 299989.5512064288|\n",
      "|1480|386667.51530223456|\n",
      "+----+------------------+\n",
      "only showing top 20 rows\n",
      "\n"
     ]
    }
   ],
   "source": [
    "submit.show()"
   ]
  },
  {
   "cell_type": "markdown",
   "metadata": {},
   "source": [
    "Everything looks fine so we can now write it to HDFS:"
   ]
  },
  {
   "cell_type": "code",
   "execution_count": 56,
   "metadata": {},
   "outputs": [],
   "source": [
    "submit.write.mode('overwrite').csv('results_house_prices', header=True)"
   ]
  },
  {
   "cell_type": "markdown",
   "metadata": {},
   "source": [
    "We can now download and review the final csv file and add the header row before submitting.\n",
    "\n",
    "```\n",
    "hdfs dfs -get results_house_prices\n",
    "```"
   ]
  }
 ],
 "metadata": {
  "kernelspec": {
   "display_name": "Python 2",
   "language": "python",
   "name": "python2"
  },
  "language_info": {
   "codemirror_mode": {
    "name": "ipython",
    "version": 2
   },
   "file_extension": ".py",
   "mimetype": "text/x-python",
   "name": "python",
   "nbconvert_exporter": "python",
   "pygments_lexer": "ipython2",
   "version": "2.7.15"
  }
 },
 "nbformat": 4,
 "nbformat_minor": 4
}
