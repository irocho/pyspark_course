{
 "cells": [
  {
   "cell_type": "markdown",
   "metadata": {},
   "source": [
    "# CONTENTS"
   ]
  },
  {
   "cell_type": "markdown",
   "metadata": {},
   "source": [
    "## Unit 1: Basic tools\n",
    "## Unit 2: Basic Spark Concepts\n",
    "## Unit 3: Programming with RDDs\n",
    "## Unit 4: Programming wiht PairRDDs\n",
    "## Unit 5: Programming with Spark SQL and DataFrames\n",
    "## Unit 6: Launching Applications\n",
    "## Unit 7: Monitoring and Debugging Applications"
   ]
  },
  {
   "cell_type": "markdown",
   "metadata": {},
   "source": [
    "# ABOUT THE INSTRUCTOR\n",
    "\n",
    "Javier Cacheiro López / @javicacheiro\n",
    "* Leads the Big Data team at CESGA\n",
    "* Big Data architect: Undertanding the technology and creating effective solutions for each problem\n",
    "* Cloudera Certified Developer for Apache Hadoop (CCDH)\n",
    "* Cloudera Certified Spark and Hadoop Developer (CCA175)\n",
    "* Cloudera Certified Administrator (CCA131)\n",
    "<img src=\"https://ci6.googleusercontent.com/proxy/pbzSPNAyX_ZWBg54PbMF-U-qJMzZa_u2DcTnRqQBlOd8meVneYj56zXutlgLqy86oxdtBZxe4c9MA2t4Cjb3tWjFamq9sW8awuXM8zaUYKgsk1Rh=s0-d-e1-ft#http://certification.cloudera.com/CCA_SparkHadoopDeveloper.jpg\" alt=\"CCA175\" style=\"width: 100px;\"/>\n",
    "\n",
    "\n"
   ]
  }
 ],
 "metadata": {
  "kernelspec": {
   "display_name": "Python 2",
   "language": "python",
   "name": "python2"
  },
  "language_info": {
   "codemirror_mode": {
    "name": "ipython",
    "version": 2
   },
   "file_extension": ".py",
   "mimetype": "text/x-python",
   "name": "python",
   "nbconvert_exporter": "python",
   "pygments_lexer": "ipython2",
   "version": "2.7.15"
  }
 },
 "nbformat": 4,
 "nbformat_minor": 1
}
